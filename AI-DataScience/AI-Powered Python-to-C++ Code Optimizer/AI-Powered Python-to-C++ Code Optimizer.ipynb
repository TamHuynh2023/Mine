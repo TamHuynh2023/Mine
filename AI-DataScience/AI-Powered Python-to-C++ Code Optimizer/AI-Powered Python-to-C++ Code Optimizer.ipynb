{
  "nbformat": 4,
  "nbformat_minor": 0,
  "metadata": {
    "colab": {
      "provenance": []
    },
    "kernelspec": {
      "name": "python3",
      "display_name": "Python 3"
    },
    "language_info": {
      "name": "python"
    }
  },
  "cells": [
    {
      "cell_type": "code",
      "execution_count": 1,
      "metadata": {
        "colab": {
          "base_uri": "https://localhost:8080/"
        },
        "id": "6GOdbk8XKuzo",
        "outputId": "96a84d32-5c68-4989-8187-5e6bc146af3b"
      },
      "outputs": [
        {
          "output_type": "stream",
          "name": "stdout",
          "text": [
            "\u001b[33mWARNING: No matching packages\u001b[0m\u001b[33m\n",
            "\u001b[0mFiles removed: 0\n",
            "Collecting python-dotenv\n",
            "  Downloading python_dotenv-1.0.1-py3-none-any.whl.metadata (23 kB)\n",
            "Downloading python_dotenv-1.0.1-py3-none-any.whl (19 kB)\n",
            "Installing collected packages: python-dotenv\n",
            "Successfully installed python-dotenv-1.0.1\n",
            "Collecting httpx==0.27.2\n",
            "  Downloading httpx-0.27.2-py3-none-any.whl.metadata (7.1 kB)\n",
            "Requirement already satisfied: anyio in /usr/local/lib/python3.11/dist-packages (from httpx==0.27.2) (3.7.1)\n",
            "Requirement already satisfied: certifi in /usr/local/lib/python3.11/dist-packages (from httpx==0.27.2) (2024.12.14)\n",
            "Requirement already satisfied: httpcore==1.* in /usr/local/lib/python3.11/dist-packages (from httpx==0.27.2) (1.0.7)\n",
            "Requirement already satisfied: idna in /usr/local/lib/python3.11/dist-packages (from httpx==0.27.2) (3.10)\n",
            "Requirement already satisfied: sniffio in /usr/local/lib/python3.11/dist-packages (from httpx==0.27.2) (1.3.1)\n",
            "Requirement already satisfied: h11<0.15,>=0.13 in /usr/local/lib/python3.11/dist-packages (from httpcore==1.*->httpx==0.27.2) (0.14.0)\n",
            "Downloading httpx-0.27.2-py3-none-any.whl (76 kB)\n",
            "\u001b[2K   \u001b[90m━━━━━━━━━━━━━━━━━━━━━━━━━━━━━━━━━━━━━━━━\u001b[0m \u001b[32m76.4/76.4 kB\u001b[0m \u001b[31m2.9 MB/s\u001b[0m eta \u001b[36m0:00:00\u001b[0m\n",
            "\u001b[?25hInstalling collected packages: httpx\n",
            "  Attempting uninstall: httpx\n",
            "    Found existing installation: httpx 0.28.1\n",
            "    Uninstalling httpx-0.28.1:\n",
            "      Successfully uninstalled httpx-0.28.1\n",
            "Successfully installed httpx-0.27.2\n",
            "Collecting anthropic\n",
            "  Downloading anthropic-0.43.0-py3-none-any.whl.metadata (23 kB)\n",
            "Requirement already satisfied: anyio<5,>=3.5.0 in /usr/local/lib/python3.11/dist-packages (from anthropic) (3.7.1)\n",
            "Requirement already satisfied: distro<2,>=1.7.0 in /usr/local/lib/python3.11/dist-packages (from anthropic) (1.9.0)\n",
            "Requirement already satisfied: httpx<1,>=0.23.0 in /usr/local/lib/python3.11/dist-packages (from anthropic) (0.27.2)\n",
            "Requirement already satisfied: jiter<1,>=0.4.0 in /usr/local/lib/python3.11/dist-packages (from anthropic) (0.8.2)\n",
            "Requirement already satisfied: pydantic<3,>=1.9.0 in /usr/local/lib/python3.11/dist-packages (from anthropic) (2.10.5)\n",
            "Requirement already satisfied: sniffio in /usr/local/lib/python3.11/dist-packages (from anthropic) (1.3.1)\n",
            "Requirement already satisfied: typing-extensions<5,>=4.10 in /usr/local/lib/python3.11/dist-packages (from anthropic) (4.12.2)\n",
            "Requirement already satisfied: idna>=2.8 in /usr/local/lib/python3.11/dist-packages (from anyio<5,>=3.5.0->anthropic) (3.10)\n",
            "Requirement already satisfied: certifi in /usr/local/lib/python3.11/dist-packages (from httpx<1,>=0.23.0->anthropic) (2024.12.14)\n",
            "Requirement already satisfied: httpcore==1.* in /usr/local/lib/python3.11/dist-packages (from httpx<1,>=0.23.0->anthropic) (1.0.7)\n",
            "Requirement already satisfied: h11<0.15,>=0.13 in /usr/local/lib/python3.11/dist-packages (from httpcore==1.*->httpx<1,>=0.23.0->anthropic) (0.14.0)\n",
            "Requirement already satisfied: annotated-types>=0.6.0 in /usr/local/lib/python3.11/dist-packages (from pydantic<3,>=1.9.0->anthropic) (0.7.0)\n",
            "Requirement already satisfied: pydantic-core==2.27.2 in /usr/local/lib/python3.11/dist-packages (from pydantic<3,>=1.9.0->anthropic) (2.27.2)\n",
            "Downloading anthropic-0.43.0-py3-none-any.whl (207 kB)\n",
            "\u001b[2K   \u001b[90m━━━━━━━━━━━━━━━━━━━━━━━━━━━━━━━━━━━━━━━━\u001b[0m \u001b[32m207.9/207.9 kB\u001b[0m \u001b[31m6.5 MB/s\u001b[0m eta \u001b[36m0:00:00\u001b[0m\n",
            "\u001b[?25hInstalling collected packages: anthropic\n",
            "Successfully installed anthropic-0.43.0\n",
            "Collecting gradio\n",
            "  Downloading gradio-5.12.0-py3-none-any.whl.metadata (16 kB)\n",
            "Collecting aiofiles<24.0,>=22.0 (from gradio)\n",
            "  Downloading aiofiles-23.2.1-py3-none-any.whl.metadata (9.7 kB)\n",
            "Requirement already satisfied: anyio<5.0,>=3.0 in /usr/local/lib/python3.11/dist-packages (from gradio) (3.7.1)\n",
            "Collecting fastapi<1.0,>=0.115.2 (from gradio)\n",
            "  Downloading fastapi-0.115.6-py3-none-any.whl.metadata (27 kB)\n",
            "Collecting ffmpy (from gradio)\n",
            "  Downloading ffmpy-0.5.0-py3-none-any.whl.metadata (3.0 kB)\n",
            "Collecting gradio-client==1.5.4 (from gradio)\n",
            "  Downloading gradio_client-1.5.4-py3-none-any.whl.metadata (7.1 kB)\n",
            "Requirement already satisfied: httpx>=0.24.1 in /usr/local/lib/python3.11/dist-packages (from gradio) (0.27.2)\n",
            "Requirement already satisfied: huggingface-hub>=0.25.1 in /usr/local/lib/python3.11/dist-packages (from gradio) (0.27.1)\n",
            "Requirement already satisfied: jinja2<4.0 in /usr/local/lib/python3.11/dist-packages (from gradio) (3.1.5)\n",
            "Collecting markupsafe~=2.0 (from gradio)\n",
            "  Downloading MarkupSafe-2.1.5-cp311-cp311-manylinux_2_17_x86_64.manylinux2014_x86_64.whl.metadata (3.0 kB)\n",
            "Requirement already satisfied: numpy<3.0,>=1.0 in /usr/local/lib/python3.11/dist-packages (from gradio) (1.26.4)\n",
            "Requirement already satisfied: orjson~=3.0 in /usr/local/lib/python3.11/dist-packages (from gradio) (3.10.14)\n",
            "Requirement already satisfied: packaging in /usr/local/lib/python3.11/dist-packages (from gradio) (24.2)\n",
            "Requirement already satisfied: pandas<3.0,>=1.0 in /usr/local/lib/python3.11/dist-packages (from gradio) (2.2.2)\n",
            "Requirement already satisfied: pillow<12.0,>=8.0 in /usr/local/lib/python3.11/dist-packages (from gradio) (11.1.0)\n",
            "Requirement already satisfied: pydantic>=2.0 in /usr/local/lib/python3.11/dist-packages (from gradio) (2.10.5)\n",
            "Collecting pydub (from gradio)\n",
            "  Downloading pydub-0.25.1-py2.py3-none-any.whl.metadata (1.4 kB)\n",
            "Collecting python-multipart>=0.0.18 (from gradio)\n",
            "  Downloading python_multipart-0.0.20-py3-none-any.whl.metadata (1.8 kB)\n",
            "Requirement already satisfied: pyyaml<7.0,>=5.0 in /usr/local/lib/python3.11/dist-packages (from gradio) (6.0.2)\n",
            "Collecting ruff>=0.2.2 (from gradio)\n",
            "  Downloading ruff-0.9.2-py3-none-manylinux_2_17_x86_64.manylinux2014_x86_64.whl.metadata (25 kB)\n",
            "Collecting safehttpx<0.2.0,>=0.1.6 (from gradio)\n",
            "  Downloading safehttpx-0.1.6-py3-none-any.whl.metadata (4.2 kB)\n",
            "Collecting semantic-version~=2.0 (from gradio)\n",
            "  Downloading semantic_version-2.10.0-py2.py3-none-any.whl.metadata (9.7 kB)\n",
            "Collecting starlette<1.0,>=0.40.0 (from gradio)\n",
            "  Downloading starlette-0.45.2-py3-none-any.whl.metadata (6.3 kB)\n",
            "Collecting tomlkit<0.14.0,>=0.12.0 (from gradio)\n",
            "  Downloading tomlkit-0.13.2-py3-none-any.whl.metadata (2.7 kB)\n",
            "Requirement already satisfied: typer<1.0,>=0.12 in /usr/local/lib/python3.11/dist-packages (from gradio) (0.15.1)\n",
            "Requirement already satisfied: typing-extensions~=4.0 in /usr/local/lib/python3.11/dist-packages (from gradio) (4.12.2)\n",
            "Collecting uvicorn>=0.14.0 (from gradio)\n",
            "  Downloading uvicorn-0.34.0-py3-none-any.whl.metadata (6.5 kB)\n",
            "Requirement already satisfied: fsspec in /usr/local/lib/python3.11/dist-packages (from gradio-client==1.5.4->gradio) (2024.10.0)\n",
            "Requirement already satisfied: websockets<15.0,>=10.0 in /usr/local/lib/python3.11/dist-packages (from gradio-client==1.5.4->gradio) (14.1)\n",
            "Requirement already satisfied: idna>=2.8 in /usr/local/lib/python3.11/dist-packages (from anyio<5.0,>=3.0->gradio) (3.10)\n",
            "Requirement already satisfied: sniffio>=1.1 in /usr/local/lib/python3.11/dist-packages (from anyio<5.0,>=3.0->gradio) (1.3.1)\n",
            "Collecting starlette<1.0,>=0.40.0 (from gradio)\n",
            "  Downloading starlette-0.41.3-py3-none-any.whl.metadata (6.0 kB)\n",
            "Requirement already satisfied: certifi in /usr/local/lib/python3.11/dist-packages (from httpx>=0.24.1->gradio) (2024.12.14)\n",
            "Requirement already satisfied: httpcore==1.* in /usr/local/lib/python3.11/dist-packages (from httpx>=0.24.1->gradio) (1.0.7)\n",
            "Requirement already satisfied: h11<0.15,>=0.13 in /usr/local/lib/python3.11/dist-packages (from httpcore==1.*->httpx>=0.24.1->gradio) (0.14.0)\n",
            "Requirement already satisfied: filelock in /usr/local/lib/python3.11/dist-packages (from huggingface-hub>=0.25.1->gradio) (3.16.1)\n",
            "Requirement already satisfied: requests in /usr/local/lib/python3.11/dist-packages (from huggingface-hub>=0.25.1->gradio) (2.32.3)\n",
            "Requirement already satisfied: tqdm>=4.42.1 in /usr/local/lib/python3.11/dist-packages (from huggingface-hub>=0.25.1->gradio) (4.67.1)\n",
            "Requirement already satisfied: python-dateutil>=2.8.2 in /usr/local/lib/python3.11/dist-packages (from pandas<3.0,>=1.0->gradio) (2.8.2)\n",
            "Requirement already satisfied: pytz>=2020.1 in /usr/local/lib/python3.11/dist-packages (from pandas<3.0,>=1.0->gradio) (2024.2)\n",
            "Requirement already satisfied: tzdata>=2022.7 in /usr/local/lib/python3.11/dist-packages (from pandas<3.0,>=1.0->gradio) (2024.2)\n",
            "Requirement already satisfied: annotated-types>=0.6.0 in /usr/local/lib/python3.11/dist-packages (from pydantic>=2.0->gradio) (0.7.0)\n",
            "Requirement already satisfied: pydantic-core==2.27.2 in /usr/local/lib/python3.11/dist-packages (from pydantic>=2.0->gradio) (2.27.2)\n",
            "Requirement already satisfied: click>=8.0.0 in /usr/local/lib/python3.11/dist-packages (from typer<1.0,>=0.12->gradio) (8.1.8)\n",
            "Requirement already satisfied: shellingham>=1.3.0 in /usr/local/lib/python3.11/dist-packages (from typer<1.0,>=0.12->gradio) (1.5.4)\n",
            "Requirement already satisfied: rich>=10.11.0 in /usr/local/lib/python3.11/dist-packages (from typer<1.0,>=0.12->gradio) (13.9.4)\n",
            "Requirement already satisfied: six>=1.5 in /usr/local/lib/python3.11/dist-packages (from python-dateutil>=2.8.2->pandas<3.0,>=1.0->gradio) (1.17.0)\n",
            "Requirement already satisfied: markdown-it-py>=2.2.0 in /usr/local/lib/python3.11/dist-packages (from rich>=10.11.0->typer<1.0,>=0.12->gradio) (3.0.0)\n",
            "Requirement already satisfied: pygments<3.0.0,>=2.13.0 in /usr/local/lib/python3.11/dist-packages (from rich>=10.11.0->typer<1.0,>=0.12->gradio) (2.18.0)\n",
            "Requirement already satisfied: charset-normalizer<4,>=2 in /usr/local/lib/python3.11/dist-packages (from requests->huggingface-hub>=0.25.1->gradio) (3.4.1)\n",
            "Requirement already satisfied: urllib3<3,>=1.21.1 in /usr/local/lib/python3.11/dist-packages (from requests->huggingface-hub>=0.25.1->gradio) (2.3.0)\n",
            "Requirement already satisfied: mdurl~=0.1 in /usr/local/lib/python3.11/dist-packages (from markdown-it-py>=2.2.0->rich>=10.11.0->typer<1.0,>=0.12->gradio) (0.1.2)\n",
            "Downloading gradio-5.12.0-py3-none-any.whl (57.6 MB)\n",
            "\u001b[2K   \u001b[90m━━━━━━━━━━━━━━━━━━━━━━━━━━━━━━━━━━━━━━━━\u001b[0m \u001b[32m57.6/57.6 MB\u001b[0m \u001b[31m11.2 MB/s\u001b[0m eta \u001b[36m0:00:00\u001b[0m\n",
            "\u001b[?25hDownloading gradio_client-1.5.4-py3-none-any.whl (321 kB)\n",
            "\u001b[2K   \u001b[90m━━━━━━━━━━━━━━━━━━━━━━━━━━━━━━━━━━━━━━━━\u001b[0m \u001b[32m321.4/321.4 kB\u001b[0m \u001b[31m22.9 MB/s\u001b[0m eta \u001b[36m0:00:00\u001b[0m\n",
            "\u001b[?25hDownloading aiofiles-23.2.1-py3-none-any.whl (15 kB)\n",
            "Downloading fastapi-0.115.6-py3-none-any.whl (94 kB)\n",
            "\u001b[2K   \u001b[90m━━━━━━━━━━━━━━━━━━━━━━━━━━━━━━━━━━━━━━━━\u001b[0m \u001b[32m94.8/94.8 kB\u001b[0m \u001b[31m7.3 MB/s\u001b[0m eta \u001b[36m0:00:00\u001b[0m\n",
            "\u001b[?25hDownloading MarkupSafe-2.1.5-cp311-cp311-manylinux_2_17_x86_64.manylinux2014_x86_64.whl (28 kB)\n",
            "Downloading python_multipart-0.0.20-py3-none-any.whl (24 kB)\n",
            "Downloading ruff-0.9.2-py3-none-manylinux_2_17_x86_64.manylinux2014_x86_64.whl (12.4 MB)\n",
            "\u001b[2K   \u001b[90m━━━━━━━━━━━━━━━━━━━━━━━━━━━━━━━━━━━━━━━━\u001b[0m \u001b[32m12.4/12.4 MB\u001b[0m \u001b[31m91.7 MB/s\u001b[0m eta \u001b[36m0:00:00\u001b[0m\n",
            "\u001b[?25hDownloading safehttpx-0.1.6-py3-none-any.whl (8.7 kB)\n",
            "Downloading semantic_version-2.10.0-py2.py3-none-any.whl (15 kB)\n",
            "Downloading starlette-0.41.3-py3-none-any.whl (73 kB)\n",
            "\u001b[2K   \u001b[90m━━━━━━━━━━━━━━━━━━━━━━━━━━━━━━━━━━━━━━━━\u001b[0m \u001b[32m73.2/73.2 kB\u001b[0m \u001b[31m5.8 MB/s\u001b[0m eta \u001b[36m0:00:00\u001b[0m\n",
            "\u001b[?25hDownloading tomlkit-0.13.2-py3-none-any.whl (37 kB)\n",
            "Downloading uvicorn-0.34.0-py3-none-any.whl (62 kB)\n",
            "\u001b[2K   \u001b[90m━━━━━━━━━━━━━━━━━━━━━━━━━━━━━━━━━━━━━━━━\u001b[0m \u001b[32m62.3/62.3 kB\u001b[0m \u001b[31m4.9 MB/s\u001b[0m eta \u001b[36m0:00:00\u001b[0m\n",
            "\u001b[?25hDownloading ffmpy-0.5.0-py3-none-any.whl (6.0 kB)\n",
            "Downloading pydub-0.25.1-py2.py3-none-any.whl (32 kB)\n",
            "Installing collected packages: pydub, uvicorn, tomlkit, semantic-version, ruff, python-multipart, markupsafe, ffmpy, aiofiles, starlette, safehttpx, gradio-client, fastapi, gradio\n",
            "  Attempting uninstall: markupsafe\n",
            "    Found existing installation: MarkupSafe 3.0.2\n",
            "    Uninstalling MarkupSafe-3.0.2:\n",
            "      Successfully uninstalled MarkupSafe-3.0.2\n",
            "Successfully installed aiofiles-23.2.1 fastapi-0.115.6 ffmpy-0.5.0 gradio-5.12.0 gradio-client-1.5.4 markupsafe-2.1.5 pydub-0.25.1 python-multipart-0.0.20 ruff-0.9.2 safehttpx-0.1.6 semantic-version-2.10.0 starlette-0.41.3 tomlkit-0.13.2 uvicorn-0.34.0\n",
            "Requirement already satisfied: torch in /usr/local/lib/python3.11/dist-packages (2.5.1+cu121)\n",
            "Requirement already satisfied: filelock in /usr/local/lib/python3.11/dist-packages (from torch) (3.16.1)\n",
            "Requirement already satisfied: typing-extensions>=4.8.0 in /usr/local/lib/python3.11/dist-packages (from torch) (4.12.2)\n",
            "Requirement already satisfied: networkx in /usr/local/lib/python3.11/dist-packages (from torch) (3.4.2)\n",
            "Requirement already satisfied: jinja2 in /usr/local/lib/python3.11/dist-packages (from torch) (3.1.5)\n",
            "Requirement already satisfied: fsspec in /usr/local/lib/python3.11/dist-packages (from torch) (2024.10.0)\n",
            "Requirement already satisfied: nvidia-cuda-nvrtc-cu12==12.1.105 in /usr/local/lib/python3.11/dist-packages (from torch) (12.1.105)\n",
            "Requirement already satisfied: nvidia-cuda-runtime-cu12==12.1.105 in /usr/local/lib/python3.11/dist-packages (from torch) (12.1.105)\n",
            "Requirement already satisfied: nvidia-cuda-cupti-cu12==12.1.105 in /usr/local/lib/python3.11/dist-packages (from torch) (12.1.105)\n",
            "Requirement already satisfied: nvidia-cudnn-cu12==9.1.0.70 in /usr/local/lib/python3.11/dist-packages (from torch) (9.1.0.70)\n",
            "Requirement already satisfied: nvidia-cublas-cu12==12.1.3.1 in /usr/local/lib/python3.11/dist-packages (from torch) (12.1.3.1)\n",
            "Requirement already satisfied: nvidia-cufft-cu12==11.0.2.54 in /usr/local/lib/python3.11/dist-packages (from torch) (11.0.2.54)\n",
            "Requirement already satisfied: nvidia-curand-cu12==10.3.2.106 in /usr/local/lib/python3.11/dist-packages (from torch) (10.3.2.106)\n",
            "Requirement already satisfied: nvidia-cusolver-cu12==11.4.5.107 in /usr/local/lib/python3.11/dist-packages (from torch) (11.4.5.107)\n",
            "Requirement already satisfied: nvidia-cusparse-cu12==12.1.0.106 in /usr/local/lib/python3.11/dist-packages (from torch) (12.1.0.106)\n",
            "Requirement already satisfied: nvidia-nccl-cu12==2.21.5 in /usr/local/lib/python3.11/dist-packages (from torch) (2.21.5)\n",
            "Requirement already satisfied: nvidia-nvtx-cu12==12.1.105 in /usr/local/lib/python3.11/dist-packages (from torch) (12.1.105)\n",
            "Requirement already satisfied: triton==3.1.0 in /usr/local/lib/python3.11/dist-packages (from torch) (3.1.0)\n",
            "Requirement already satisfied: sympy==1.13.1 in /usr/local/lib/python3.11/dist-packages (from torch) (1.13.1)\n",
            "Requirement already satisfied: nvidia-nvjitlink-cu12 in /usr/local/lib/python3.11/dist-packages (from nvidia-cusolver-cu12==11.4.5.107->torch) (12.6.85)\n",
            "Requirement already satisfied: mpmath<1.4,>=1.1.0 in /usr/local/lib/python3.11/dist-packages (from sympy==1.13.1->torch) (1.3.0)\n",
            "Requirement already satisfied: MarkupSafe>=2.0 in /usr/local/lib/python3.11/dist-packages (from jinja2->torch) (2.1.5)\n",
            "\u001b[2K   \u001b[90m━━━━━━━━━━━━━━━━━━━━━━━━━━━━━━━━━━━━━━━━\u001b[0m \u001b[32m480.6/480.6 kB\u001b[0m \u001b[31m13.0 MB/s\u001b[0m eta \u001b[36m0:00:00\u001b[0m\n",
            "\u001b[2K   \u001b[90m━━━━━━━━━━━━━━━━━━━━━━━━━━━━━━━━━━━━━━━━\u001b[0m \u001b[32m116.3/116.3 kB\u001b[0m \u001b[31m8.7 MB/s\u001b[0m eta \u001b[36m0:00:00\u001b[0m\n",
            "\u001b[2K   \u001b[90m━━━━━━━━━━━━━━━━━━━━━━━━━━━━━━━━━━━━━━━━\u001b[0m \u001b[32m179.3/179.3 kB\u001b[0m \u001b[31m13.5 MB/s\u001b[0m eta \u001b[36m0:00:00\u001b[0m\n",
            "\u001b[2K   \u001b[90m━━━━━━━━━━━━━━━━━━━━━━━━━━━━━━━━━━━━━━━━\u001b[0m \u001b[32m143.5/143.5 kB\u001b[0m \u001b[31m10.8 MB/s\u001b[0m eta \u001b[36m0:00:00\u001b[0m\n",
            "\u001b[2K   \u001b[90m━━━━━━━━━━━━━━━━━━━━━━━━━━━━━━━━━━━━━━━━\u001b[0m \u001b[32m194.8/194.8 kB\u001b[0m \u001b[31m15.2 MB/s\u001b[0m eta \u001b[36m0:00:00\u001b[0m\n",
            "\u001b[?25h\u001b[31mERROR: pip's dependency resolver does not currently take into account all the packages that are installed. This behaviour is the source of the following dependency conflicts.\n",
            "gcsfs 2024.10.0 requires fsspec==2024.10.0, but you have fsspec 2024.9.0 which is incompatible.\u001b[0m\u001b[31m\n",
            "\u001b[2K   \u001b[90m━━━━━━━━━━━━━━━━━━━━━━━━━━━━━━━━━━━━━━━━\u001b[0m \u001b[32m69.1/69.1 MB\u001b[0m \u001b[31m10.2 MB/s\u001b[0m eta \u001b[36m0:00:00\u001b[0m\n",
            "\u001b[?25hRequirement already satisfied: huggingface_hub in /usr/local/lib/python3.11/dist-packages (0.27.1)\n",
            "Requirement already satisfied: filelock in /usr/local/lib/python3.11/dist-packages (from huggingface_hub) (3.16.1)\n",
            "Requirement already satisfied: fsspec>=2023.5.0 in /usr/local/lib/python3.11/dist-packages (from huggingface_hub) (2024.9.0)\n",
            "Requirement already satisfied: packaging>=20.9 in /usr/local/lib/python3.11/dist-packages (from huggingface_hub) (24.2)\n",
            "Requirement already satisfied: pyyaml>=5.1 in /usr/local/lib/python3.11/dist-packages (from huggingface_hub) (6.0.2)\n",
            "Requirement already satisfied: requests in /usr/local/lib/python3.11/dist-packages (from huggingface_hub) (2.32.3)\n",
            "Requirement already satisfied: tqdm>=4.42.1 in /usr/local/lib/python3.11/dist-packages (from huggingface_hub) (4.67.1)\n",
            "Requirement already satisfied: typing-extensions>=3.7.4.3 in /usr/local/lib/python3.11/dist-packages (from huggingface_hub) (4.12.2)\n",
            "Requirement already satisfied: charset-normalizer<4,>=2 in /usr/local/lib/python3.11/dist-packages (from requests->huggingface_hub) (3.4.1)\n",
            "Requirement already satisfied: idna<4,>=2.5 in /usr/local/lib/python3.11/dist-packages (from requests->huggingface_hub) (3.10)\n",
            "Requirement already satisfied: urllib3<3,>=1.21.1 in /usr/local/lib/python3.11/dist-packages (from requests->huggingface_hub) (2.3.0)\n",
            "Requirement already satisfied: certifi>=2017.4.17 in /usr/local/lib/python3.11/dist-packages (from requests->huggingface_hub) (2024.12.14)\n"
          ]
        }
      ],
      "source": [
        "!pip cache purge\n",
        "\n",
        "!pip install python-dotenv\n",
        "!pip install httpx==0.27.2\n",
        "!pip install anthropic\n",
        "!pip install gradio\n",
        "!pip install torch\n",
        "!pip install -q transformers datasets diffusers\n",
        "!pip install -q requests bitsandbytes accelerate sentencepiece\n",
        "!pip install huggingface_hub"
      ]
    },
    {
      "cell_type": "code",
      "source": [
        "from google.colab import drive\n",
        "from google.colab import userdata\n",
        "drive.mount('/content/drive')\n",
        "\n",
        "import torch\n",
        "import transformers\n",
        "import torchvision\n",
        "from transformers import pipeline\n",
        "from diffusers import DiffusionPipeline\n",
        "from datasets import load_dataset\n",
        "import soundfile as sf\n",
        "from IPython.display import Audio\n",
        "\n",
        "from diffusers import FluxPipeline\n",
        "\n",
        "import anthropic\n",
        "import os\n",
        "from dotenv import load_dotenv\n",
        "from IPython.display import Markdown, display, update_display\n",
        "from openai import OpenAI\n",
        "import google.generativeai\n",
        "\n",
        "import json\n",
        "import gradio as gr\n",
        "import time\n",
        "import subprocess\n",
        "\n",
        "import requests\n",
        "from huggingface_hub import login\n",
        "from transformers import AutoTokenizer, AutoModelForCausalLM, TextStreamer, BitsAndBytesConfig, AutoModelForSpeechSeq2Seq, AutoProcessor"
      ],
      "metadata": {
        "colab": {
          "base_uri": "https://localhost:8080/"
        },
        "id": "uT9eqOAWKxwz",
        "outputId": "29a9adfe-09ce-4553-d03b-cdd05e4887ee"
      },
      "execution_count": 2,
      "outputs": [
        {
          "output_type": "stream",
          "name": "stdout",
          "text": [
            "Mounted at /content/drive\n"
          ]
        },
        {
          "output_type": "stream",
          "name": "stderr",
          "text": [
            "WARNING:bitsandbytes.cextension:The installed version of bitsandbytes was compiled without GPU support. 8-bit optimizers, 8-bit multiplication, and GPU quantization are unavailable.\n"
          ]
        }
      ]
    },
    {
      "cell_type": "code",
      "source": [
        "from google.colab import files\n",
        "uploaded = files.upload()"
      ],
      "metadata": {
        "colab": {
          "base_uri": "https://localhost:8080/",
          "height": 71
        },
        "id": "M19dpvR0KxvK",
        "outputId": "2b9526dd-464d-463e-c172-900373461163"
      },
      "execution_count": 3,
      "outputs": [
        {
          "output_type": "display_data",
          "data": {
            "text/plain": [
              "<IPython.core.display.HTML object>"
            ],
            "text/html": [
              "\n",
              "     <input type=\"file\" id=\"files-634fd16b-effc-4b5d-8ca6-530cae0930d3\" name=\"files[]\" multiple disabled\n",
              "        style=\"border:none\" />\n",
              "     <output id=\"result-634fd16b-effc-4b5d-8ca6-530cae0930d3\">\n",
              "      Upload widget is only available when the cell has been executed in the\n",
              "      current browser session. Please rerun this cell to enable.\n",
              "      </output>\n",
              "      <script>// Copyright 2017 Google LLC\n",
              "//\n",
              "// Licensed under the Apache License, Version 2.0 (the \"License\");\n",
              "// you may not use this file except in compliance with the License.\n",
              "// You may obtain a copy of the License at\n",
              "//\n",
              "//      http://www.apache.org/licenses/LICENSE-2.0\n",
              "//\n",
              "// Unless required by applicable law or agreed to in writing, software\n",
              "// distributed under the License is distributed on an \"AS IS\" BASIS,\n",
              "// WITHOUT WARRANTIES OR CONDITIONS OF ANY KIND, either express or implied.\n",
              "// See the License for the specific language governing permissions and\n",
              "// limitations under the License.\n",
              "\n",
              "/**\n",
              " * @fileoverview Helpers for google.colab Python module.\n",
              " */\n",
              "(function(scope) {\n",
              "function span(text, styleAttributes = {}) {\n",
              "  const element = document.createElement('span');\n",
              "  element.textContent = text;\n",
              "  for (const key of Object.keys(styleAttributes)) {\n",
              "    element.style[key] = styleAttributes[key];\n",
              "  }\n",
              "  return element;\n",
              "}\n",
              "\n",
              "// Max number of bytes which will be uploaded at a time.\n",
              "const MAX_PAYLOAD_SIZE = 100 * 1024;\n",
              "\n",
              "function _uploadFiles(inputId, outputId) {\n",
              "  const steps = uploadFilesStep(inputId, outputId);\n",
              "  const outputElement = document.getElementById(outputId);\n",
              "  // Cache steps on the outputElement to make it available for the next call\n",
              "  // to uploadFilesContinue from Python.\n",
              "  outputElement.steps = steps;\n",
              "\n",
              "  return _uploadFilesContinue(outputId);\n",
              "}\n",
              "\n",
              "// This is roughly an async generator (not supported in the browser yet),\n",
              "// where there are multiple asynchronous steps and the Python side is going\n",
              "// to poll for completion of each step.\n",
              "// This uses a Promise to block the python side on completion of each step,\n",
              "// then passes the result of the previous step as the input to the next step.\n",
              "function _uploadFilesContinue(outputId) {\n",
              "  const outputElement = document.getElementById(outputId);\n",
              "  const steps = outputElement.steps;\n",
              "\n",
              "  const next = steps.next(outputElement.lastPromiseValue);\n",
              "  return Promise.resolve(next.value.promise).then((value) => {\n",
              "    // Cache the last promise value to make it available to the next\n",
              "    // step of the generator.\n",
              "    outputElement.lastPromiseValue = value;\n",
              "    return next.value.response;\n",
              "  });\n",
              "}\n",
              "\n",
              "/**\n",
              " * Generator function which is called between each async step of the upload\n",
              " * process.\n",
              " * @param {string} inputId Element ID of the input file picker element.\n",
              " * @param {string} outputId Element ID of the output display.\n",
              " * @return {!Iterable<!Object>} Iterable of next steps.\n",
              " */\n",
              "function* uploadFilesStep(inputId, outputId) {\n",
              "  const inputElement = document.getElementById(inputId);\n",
              "  inputElement.disabled = false;\n",
              "\n",
              "  const outputElement = document.getElementById(outputId);\n",
              "  outputElement.innerHTML = '';\n",
              "\n",
              "  const pickedPromise = new Promise((resolve) => {\n",
              "    inputElement.addEventListener('change', (e) => {\n",
              "      resolve(e.target.files);\n",
              "    });\n",
              "  });\n",
              "\n",
              "  const cancel = document.createElement('button');\n",
              "  inputElement.parentElement.appendChild(cancel);\n",
              "  cancel.textContent = 'Cancel upload';\n",
              "  const cancelPromise = new Promise((resolve) => {\n",
              "    cancel.onclick = () => {\n",
              "      resolve(null);\n",
              "    };\n",
              "  });\n",
              "\n",
              "  // Wait for the user to pick the files.\n",
              "  const files = yield {\n",
              "    promise: Promise.race([pickedPromise, cancelPromise]),\n",
              "    response: {\n",
              "      action: 'starting',\n",
              "    }\n",
              "  };\n",
              "\n",
              "  cancel.remove();\n",
              "\n",
              "  // Disable the input element since further picks are not allowed.\n",
              "  inputElement.disabled = true;\n",
              "\n",
              "  if (!files) {\n",
              "    return {\n",
              "      response: {\n",
              "        action: 'complete',\n",
              "      }\n",
              "    };\n",
              "  }\n",
              "\n",
              "  for (const file of files) {\n",
              "    const li = document.createElement('li');\n",
              "    li.append(span(file.name, {fontWeight: 'bold'}));\n",
              "    li.append(span(\n",
              "        `(${file.type || 'n/a'}) - ${file.size} bytes, ` +\n",
              "        `last modified: ${\n",
              "            file.lastModifiedDate ? file.lastModifiedDate.toLocaleDateString() :\n",
              "                                    'n/a'} - `));\n",
              "    const percent = span('0% done');\n",
              "    li.appendChild(percent);\n",
              "\n",
              "    outputElement.appendChild(li);\n",
              "\n",
              "    const fileDataPromise = new Promise((resolve) => {\n",
              "      const reader = new FileReader();\n",
              "      reader.onload = (e) => {\n",
              "        resolve(e.target.result);\n",
              "      };\n",
              "      reader.readAsArrayBuffer(file);\n",
              "    });\n",
              "    // Wait for the data to be ready.\n",
              "    let fileData = yield {\n",
              "      promise: fileDataPromise,\n",
              "      response: {\n",
              "        action: 'continue',\n",
              "      }\n",
              "    };\n",
              "\n",
              "    // Use a chunked sending to avoid message size limits. See b/62115660.\n",
              "    let position = 0;\n",
              "    do {\n",
              "      const length = Math.min(fileData.byteLength - position, MAX_PAYLOAD_SIZE);\n",
              "      const chunk = new Uint8Array(fileData, position, length);\n",
              "      position += length;\n",
              "\n",
              "      const base64 = btoa(String.fromCharCode.apply(null, chunk));\n",
              "      yield {\n",
              "        response: {\n",
              "          action: 'append',\n",
              "          file: file.name,\n",
              "          data: base64,\n",
              "        },\n",
              "      };\n",
              "\n",
              "      let percentDone = fileData.byteLength === 0 ?\n",
              "          100 :\n",
              "          Math.round((position / fileData.byteLength) * 100);\n",
              "      percent.textContent = `${percentDone}% done`;\n",
              "\n",
              "    } while (position < fileData.byteLength);\n",
              "  }\n",
              "\n",
              "  // All done.\n",
              "  yield {\n",
              "    response: {\n",
              "      action: 'complete',\n",
              "    }\n",
              "  };\n",
              "}\n",
              "\n",
              "scope.google = scope.google || {};\n",
              "scope.google.colab = scope.google.colab || {};\n",
              "scope.google.colab._files = {\n",
              "  _uploadFiles,\n",
              "  _uploadFilesContinue,\n",
              "};\n",
              "})(self);\n",
              "</script> "
            ]
          },
          "metadata": {}
        },
        {
          "output_type": "stream",
          "name": "stdout",
          "text": [
            "Saving API Key.env to API Key.env\n"
          ]
        }
      ]
    },
    {
      "cell_type": "code",
      "source": [
        "load_dotenv(\"/content/API Key.env\")\n",
        "openai_api_key = os.getenv('OPENAI_API_KEY')\n",
        "anthropic_api_key = os.getenv('CLAUDE_API_KEY')\n",
        "google_api_key = os.getenv('GEMINI_API_KEY')\n",
        "hf_token = os.getenv('HF_TOKEN')\n",
        "\n",
        "check_api_open = f\"OpenAI API Key exists and begins: {openai_api_key[:8]}\" if openai_api_key else \"OpenAI API Key not set\"\n",
        "check_api_anthropic = f\"Anthropic API Key exists and begins: {anthropic_api_key[:7]}\" if anthropic_api_key else \"Anthropic API Key not set\"\n",
        "check_api_gemini = f\"Google API Key exists and begins: {google_api_key[:8]}\" if google_api_key else \"Google API Key not set\"\n",
        "check_api_hugging = f\"Hugging API Key exists and begins: {hf_token[:8]}\" if hf_token else \"Hugging API Key not set\"\n",
        "\n",
        "display(check_api_open, check_api_anthropic, check_api_gemini, check_api_hugging)"
      ],
      "metadata": {
        "colab": {
          "base_uri": "https://localhost:8080/",
          "height": 89
        },
        "id": "CuZTuPvSKxsf",
        "outputId": "1b7f033b-53e1-41c9-d306-c1d95947fd6b"
      },
      "execution_count": 4,
      "outputs": [
        {
          "output_type": "display_data",
          "data": {
            "text/plain": [
              "'OpenAI API Key exists and begins: sk-proj-'"
            ],
            "application/vnd.google.colaboratory.intrinsic+json": {
              "type": "string"
            }
          },
          "metadata": {}
        },
        {
          "output_type": "display_data",
          "data": {
            "text/plain": [
              "'Anthropic API Key exists and begins: sk-ant-'"
            ],
            "application/vnd.google.colaboratory.intrinsic+json": {
              "type": "string"
            }
          },
          "metadata": {}
        },
        {
          "output_type": "display_data",
          "data": {
            "text/plain": [
              "'Google API Key exists and begins: AIzaSyCH'"
            ],
            "application/vnd.google.colaboratory.intrinsic+json": {
              "type": "string"
            }
          },
          "metadata": {}
        },
        {
          "output_type": "display_data",
          "data": {
            "text/plain": [
              "'Hugging API Key exists and begins: hf_FoxyK'"
            ],
            "application/vnd.google.colaboratory.intrinsic+json": {
              "type": "string"
            }
          },
          "metadata": {}
        }
      ]
    },
    {
      "cell_type": "code",
      "source": [
        "openai = OpenAI(api_key = openai_api_key)\n",
        "claude = anthropic.Anthropic(api_key=anthropic_api_key)\n",
        "google.generativeai.configure(api_key = google_api_key)"
      ],
      "metadata": {
        "id": "hQS9okfuKxqm"
      },
      "execution_count": 5,
      "outputs": []
    },
    {
      "cell_type": "code",
      "source": [
        "system_message = \"You are an assistant that reimplements Python code in high performance C++ for an windows. \"\n",
        "system_message += \"Respond only with C++ code; use comments sparingly and do not provide any explanation other than occasional comments. \"\n",
        "system_message += \"The C++ response needs to produce an identical output in the fastest possible time. Keep implementations of random number generators identical so that results match exactly.\""
      ],
      "metadata": {
        "id": "Nfp0JGI_Kxnt"
      },
      "execution_count": 6,
      "outputs": []
    },
    {
      "cell_type": "code",
      "source": [
        "def user_prompt_for(python):\n",
        "    user_prompt = \"Rewrite this Python code in C++ with the fastest possible implementation that produces identical output in the least time. \"\n",
        "    user_prompt += \"Respond only with C++ code; do not explain your work other than a few comments. \"\n",
        "    user_prompt += \"Pay attention to number types to ensure no int overflows. Remember to #include all necessary C++ packages such as iomanip.\\n\\n\"\n",
        "    user_prompt += python\n",
        "    return user_prompt\n",
        "\n",
        "\n",
        "def user_prompt_for_testcase(python):\n",
        "    user_prompt = \"Write unit test cases for the C++ code to ensure it produces identical output to the original Python code. \"\n",
        "    user_prompt += \"Respond only with C++ code; do not explain your work other than a few comments. \"\n",
        "    user_prompt += \"Include all necessary C++ packages such as iostream, assert, and any other required libraries. \"\n",
        "    user_prompt += \"Ensure that test cases cover a wide range of inputs and edge cases..\\n\\n\"\n",
        "    user_prompt += python\n",
        "    return user_prompt"
      ],
      "metadata": {
        "id": "n9XtJtppKxlQ"
      },
      "execution_count": 7,
      "outputs": []
    },
    {
      "cell_type": "code",
      "source": [
        "def messages_for(python):\n",
        "    return [\n",
        "        {\"role\": \"system\", \"content\": system_message},\n",
        "        {\"role\": \"user\", \"content\": user_prompt_for(python)}\n",
        "    ]\n",
        "\n",
        "def messages_for_testcase(python):\n",
        "    return [\n",
        "        {\"role\": \"system\", \"content\": system_message},\n",
        "        {\"role\": \"user\", \"content\": user_prompt_for_testcase(python)}\n",
        "    ]"
      ],
      "metadata": {
        "id": "LNEqwxcyKxjB"
      },
      "execution_count": 8,
      "outputs": []
    },
    {
      "cell_type": "markdown",
      "source": [
        "# **Convert python to C++ (more model)**"
      ],
      "metadata": {
        "id": "mqYWsJ4DLJgB"
      }
    },
    {
      "cell_type": "code",
      "source": [
        "# GPT\n",
        "def convert_python_cpp_GPT(python):\n",
        "    stream = openai.chat.completions.create(model=\"gpt-4o\", messages=messages_for(python), stream=True)\n",
        "    reply = \"\"\n",
        "    for chunk in stream:\n",
        "        fragment = chunk.choices[0].delta.content or \"\"\n",
        "        reply += fragment\n",
        "    reply = reply.strip()\n",
        "    reply = reply.replace(\"```cpp\", \"\").replace(\"```\", \"\").strip()\n",
        "    return reply\n",
        "\n",
        "\n",
        "def convert_python_cpp_GPT_testcase(python):\n",
        "    stream = openai.chat.completions.create(model=\"gpt-4o\", messages=messages_for_testcase(python), stream=True)\n",
        "    reply = \"\"\n",
        "    for chunk in stream:\n",
        "        fragment = chunk.choices[0].delta.content or \"\"\n",
        "        reply += fragment\n",
        "    reply = reply.strip()\n",
        "    reply = reply.replace(\"```cpp\", \"\").replace(\"```\", \"\").strip()\n",
        "    return reply"
      ],
      "metadata": {
        "id": "uuXyGbm_KxgW"
      },
      "execution_count": 9,
      "outputs": []
    },
    {
      "cell_type": "code",
      "source": [
        "# Claude\n",
        "def convert_python_cpp_CLAUDE(python):\n",
        "    result = claude.messages.stream(\n",
        "        model=\"claude-3-5-sonnet-20241022\",\n",
        "        max_tokens=2000,\n",
        "        system=system_message,\n",
        "        messages=[{\"role\": \"user\", \"content\": user_prompt_for(python)}],\n",
        "    )\n",
        "    reply = \"\"\n",
        "    with result as stream:\n",
        "        for text in stream.text_stream:\n",
        "            reply += text\n",
        "    reply = reply.strip()\n",
        "    reply = reply.replace(\"```cpp\", \"\").replace(\"```\", \"\").strip()\n",
        "    return reply\n",
        "\n",
        "\n",
        "def convert_python_cpp_CLAUDE_testcase(python):\n",
        "    result = claude.messages.stream(\n",
        "        model=\"claude-3-5-sonnet-20241022\",\n",
        "        max_tokens=2000,\n",
        "        system=system_message,\n",
        "        messages=[{\"role\": \"user\", \"content\": user_prompt_for_testcase(python)}],\n",
        "    )\n",
        "    reply = \"\"\n",
        "    with result as stream:\n",
        "        for text in stream.text_stream:\n",
        "            reply += text\n",
        "    reply = reply.strip()\n",
        "    reply = reply.replace(\"```cpp\", \"\").replace(\"```\", \"\").strip()\n",
        "    return reply"
      ],
      "metadata": {
        "id": "Awf7igxfKxd4"
      },
      "execution_count": 10,
      "outputs": []
    },
    {
      "cell_type": "code",
      "source": [
        "# Gemini\n",
        "import logging\n",
        "def convert_python_cpp_GEMINI(python_code):\n",
        "    \"\"\"\n",
        "    Chuyển đổi mã Python sang C++ sử dụng mô hình Gemini.\n",
        "\n",
        "    :param python_code: Chuỗi mã Python cần chuyển đổi.\n",
        "    :return: Mã C++ đã chuyển đổi.\n",
        "    \"\"\"\n",
        "    try:\n",
        "        logging.debug(\"Đang kết nối với Gemini...\")\n",
        "        model = google.generativeai.GenerativeModel(\"gemini-1.5-pro\")\n",
        "\n",
        "        logging.debug(\"Đang gửi yêu cầu chuyển đổi mã...\")\n",
        "        start_time = time.time()\n",
        "        response = model.start_chat(\n",
        "            history=[\n",
        "                {\"role\": \"model\", \"parts\": system_message},\n",
        "            ]\n",
        "        ).send_message(user_prompt_for(python_code), stream=True)\n",
        "\n",
        "        reply = \"\"\n",
        "        for chunk in response:\n",
        "            if time.time() - start_time > 60:\n",
        "                return \"Lỗi: Gemini không phản hồi kịp thời.\"\n",
        "            reply += chunk.text\n",
        "\n",
        "        logging.debug(\"Đã nhận phản hồi từ Gemini.\")\n",
        "        if \"```cpp\" in reply and \"```\" in reply:\n",
        "            start_idx = reply.find(\"```cpp\") + len(\"```cpp\")\n",
        "            end_idx = reply.rfind(\"```\")\n",
        "            cpp_code = reply[start_idx:end_idx].strip()\n",
        "        else:\n",
        "            cpp_code = reply.strip()\n",
        "        return cpp_code\n",
        "    except Exception as e:\n",
        "        logging.error(f\"Lỗi khi chuyển đổi mã: {e}\")\n",
        "        return f\"Lỗi khi chuyển đổi mã: {e}\"\n",
        "\n",
        "\n",
        "def convert_python_cpp_GEMINI_testcase(python):\n",
        "    model = google.generativeai.GenerativeModel(\"gemini-1.5-pro\")\n",
        "    response = model.start_chat(\n",
        "        history=[\n",
        "            {\"role\": \"model\", \"parts\": system_message},\n",
        "        ]\n",
        "    )\n",
        "\n",
        "    response = response.send_message(user_prompt_for_testcase(python), stream=True)\n",
        "    reply = \"\"\n",
        "    for chunk in response:\n",
        "        reply += chunk.text\n",
        "    reply = reply.strip()\n",
        "    reply = reply.replace(\"```cpp\", \"\").replace(\"```\", \"\").strip()\n",
        "    return reply"
      ],
      "metadata": {
        "id": "MrLL_UVuLHgD"
      },
      "execution_count": 11,
      "outputs": []
    },
    {
      "cell_type": "code",
      "source": [
        "print(convert_python_cpp_GPT(\"print('hello world')\"))\n",
        "print(\"\\n\")\n",
        "print(\"\\n\")\n",
        "print(convert_python_cpp_GPT_testcase(\"print('hello world')\"))"
      ],
      "metadata": {
        "colab": {
          "base_uri": "https://localhost:8080/"
        },
        "id": "yIqTFEWBLHdJ",
        "outputId": "4977bb3d-6ccb-43e7-cbe7-91d6927ff5b1"
      },
      "execution_count": 12,
      "outputs": [
        {
          "output_type": "stream",
          "name": "stdout",
          "text": [
            "#include <iostream>\n",
            "\n",
            "int main() {\n",
            "    std::cout << \"hello world\" << std::endl; // Output \"hello world\"\n",
            "    return 0;\n",
            "}\n",
            "\n",
            "\n",
            "\n",
            "\n",
            "#include <iostream>\n",
            "#include <cassert>\n",
            "\n",
            "// Function that produces the same output as the Python code\n",
            "void printHelloWorld() {\n",
            "    std::cout << \"hello world\" << std::endl;\n",
            "}\n",
            "\n",
            "// Unit test function\n",
            "void testPrintHelloWorld() {\n",
            "    // Redirect std::cout to a string stream to capture the output\n",
            "    std::streambuf* originalCoutStreamBuf = std::cout.rdbuf();\n",
            "    std::ostringstream strCout;\n",
            "    std::cout.rdbuf(strCout.rdbuf());\n",
            "\n",
            "    // Call the function to test\n",
            "    printHelloWorld();\n",
            "\n",
            "    // Restore the original std::cout stream buffer\n",
            "    std::cout.rdbuf(originalCoutStreamBuf);\n",
            "\n",
            "    // Assert the captured output\n",
            "    assert(strCout.str() == \"hello world\\n\");\n",
            "}\n",
            "\n",
            "int main() {\n",
            "    // Running the unit test\n",
            "    testPrintHelloWorld();\n",
            "    std::cout << \"All tests passed!\" << std::endl;\n",
            "    return 0;\n",
            "}\n"
          ]
        }
      ]
    },
    {
      "cell_type": "code",
      "source": [
        "print(convert_python_cpp_CLAUDE(\"print('hello world')\"))\n",
        "print(\"\\n\")\n",
        "print(\"\\n\")\n",
        "print(convert_python_cpp_CLAUDE_testcase(\"print('hello world')\"))"
      ],
      "metadata": {
        "colab": {
          "base_uri": "https://localhost:8080/"
        },
        "id": "mwJ-SPLiLHbO",
        "outputId": "5fbaf0f8-0113-43b7-8c77-d35ab11755af"
      },
      "execution_count": 13,
      "outputs": [
        {
          "output_type": "stream",
          "name": "stdout",
          "text": [
            "#include <iostream>\n",
            "\n",
            "int main() {\n",
            "    std::cout << \"hello world\\n\";\n",
            "    return 0;\n",
            "}\n",
            "\n",
            "\n",
            "\n",
            "\n",
            "#include <iostream>\n",
            "#include <cassert>\n",
            "#include <sstream>\n",
            "\n",
            "class OutputCapture {\n",
            "    std::stringstream buffer;\n",
            "    std::streambuf* old;\n",
            "public:\n",
            "    OutputCapture() {\n",
            "        old = std::cout.rdbuf(buffer.rdbuf());\n",
            "    }\n",
            "    ~OutputCapture() {\n",
            "        std::cout.rdbuf(old);\n",
            "    }\n",
            "    std::string getOutput() {\n",
            "        return buffer.str();\n",
            "    }\n",
            "};\n",
            "\n",
            "void test_hello_world() {\n",
            "    OutputCapture capture;\n",
            "    std::cout << \"hello world\" << std::endl;\n",
            "    assert(capture.getOutput() == \"hello world\\n\");\n",
            "}\n",
            "\n",
            "int main() {\n",
            "    test_hello_world();\n",
            "    std::cout << \"All tests passed!\" << std::endl;\n",
            "    return 0;\n",
            "}\n"
          ]
        }
      ]
    },
    {
      "cell_type": "code",
      "source": [
        "print(convert_python_cpp_GEMINI(\"print('hello world')\"))\n",
        "print(\"\\n\")\n",
        "print(\"\\n\")\n",
        "print(convert_python_cpp_GEMINI_testcase(\"print('hello world')\"))"
      ],
      "metadata": {
        "colab": {
          "base_uri": "https://localhost:8080/",
          "height": 555
        },
        "id": "v_7tYFUALHYX",
        "outputId": "d3a88ad2-f251-4a08-fec8-7e29fc62c972"
      },
      "execution_count": 14,
      "outputs": [
        {
          "output_type": "stream",
          "name": "stdout",
          "text": [
            "#include <iostream>\n",
            "#include <iomanip>\n",
            "\n",
            "int main() {\n",
            "  std::cout << \"hello world\" << std::endl;\n",
            "  return 0;\n",
            "}\n",
            "\n",
            "\n",
            "\n",
            "\n",
            "#include <iostream>\n",
            "#include <string>\n",
            "#include <cassert>\n",
            "\n",
            "int main() {\n",
            "    // Test case 1: Basic output\n",
            "    std::string expected_output1 = \"hello world\\n\";\n",
            "    std::streambuf* old_cout = std::cout.rdbuf(); // Redirect cout\n",
            "    std::ostringstream test_cout;\n",
            "    std::cout.rdbuf(test_cout.rdbuf());\n",
            "\n",
            "    std::cout << \"hello world\" << std::endl; // Replace with function call\n",
            "\n",
            "    std::cout.rdbuf(old_cout); // Restore cout\n",
            "    assert(test_cout.str() == expected_output1);\n",
            "     std::cout << \"Test case 1 passed\" << std::endl;\n",
            "\n",
            "\n",
            "    return 0;\n",
            "}\n"
          ]
        }
      ]
    },
    {
      "cell_type": "code",
      "source": [
        "model = google.generativeai.GenerativeModel(\"gemini-1.5-flash\")\n",
        "response = model.generate_content(\"Explain how AI works\", stream=True)\n",
        "for chunk in response:\n",
        "    print(chunk.text, end=\"\")"
      ],
      "metadata": {
        "colab": {
          "base_uri": "https://localhost:8080/",
          "height": 453
        },
        "id": "TM9tr2f_LHWV",
        "outputId": "5cc69a52-69c0-49bb-ed0c-4b32a771b2be"
      },
      "execution_count": 15,
      "outputs": [
        {
          "output_type": "stream",
          "name": "stdout",
          "text": [
            "Artificial intelligence (AI) is a broad field encompassing many techniques, but at its core, it's about creating systems that can perform tasks that typically require human intelligence.  There's no single \"how it works\" answer, as different AI approaches use different methods. However, we can break down the general principles:\n",
            "\n",
            "**1. Data is King:**  AI systems learn from data.  The more relevant and high-quality data they are trained on, the better they perform.  This data can be anything from images and text to sensor readings and financial transactions.\n",
            "\n",
            "**2. Algorithms as the Engine:**  Algorithms are sets of rules and statistical techniques that AI systems use to process and learn from data.  These algorithms allow the system to identify patterns, make predictions, and improve its performance over time.  Key algorithm types include:\n",
            "\n",
            "* **Machine Learning (ML):**  This is a subset of AI where systems learn from data without explicit programming.  Instead of being explicitly told what to do, they identify patterns and relationships in the data to make predictions or decisions.  Different ML approaches include:\n",
            "    * **Supervised Learning:** The algorithm learns from labeled data (e.g., images labeled as \"cat\" or \"dog\").\n",
            "    * **Unsupervised Learning:** The algorithm finds patterns in unlabeled data (e.g., grouping customers based on purchasing behavior).\n",
            "    * **Reinforcement Learning:** The algorithm learns through trial and error by interacting with an environment and receiving rewards or penalties.\n",
            "\n",
            "* **Deep Learning (DL):**  A specialized type of machine learning that uses artificial neural networks with multiple layers (hence \"deep\").  These networks are inspired by the structure and function of the human brain and are particularly effective at processing complex data like images, speech, and text.\n",
            "\n",
            "**3. Models as the Representation:**  The algorithm processes the data and creates a \"model.\" This model is a mathematical representation of the patterns and relationships learned from the data.  For example, a model for image recognition might learn to identify features like edges, corners, and textures to distinguish between different objects.\n",
            "\n",
            "**4. Training and Evaluation:**  AI systems are trained on large datasets. During training, the algorithm adjusts the model's parameters to minimize errors and improve its accuracy.  The model's performance is then evaluated on a separate dataset to assess its generalization ability (how well it performs on unseen data).\n",
            "\n",
            "**5. Inference (Prediction):** Once trained, the AI system can use its model to make predictions or decisions on new, unseen data.  This is called inference.  For example, an image recognition system trained on thousands of cat and dog images can then identify a cat or dog in a new image.\n",
            "\n",
            "\n",
            "**In simpler terms:** Imagine teaching a child to identify a cat. You show them many pictures of cats, pointing out their features (whiskers, pointy ears, etc.).  The child learns to recognize these features and eventually can identify a cat in a new picture.  AI works similarly, but instead of a child, it's an algorithm, and instead of pictures, it's data. The algorithm learns patterns in the data and builds a model to make predictions.\n",
            "\n",
            "\n",
            "It's crucial to remember that AI is a rapidly evolving field, and new techniques and approaches are constantly being developed.  This explanation provides a general overview, and the specifics can vary greatly depending on the specific AI application.\n"
          ]
        }
      ]
    },
    {
      "cell_type": "code",
      "source": [
        "model = google.generativeai.GenerativeModel(\"gemini-1.5-flash\")\n",
        "chat = model.start_chat(\n",
        "    history=[\n",
        "        {\"role\": \"user\", \"parts\": \"Hello\"},\n",
        "        {\"role\": \"model\", \"parts\": \"Great to meet you. What would you like to know?\"},\n",
        "    ]\n",
        ")\n",
        "\n",
        "response = chat.send_message(\"I have 2 dogs in my house.\", stream=True)\n",
        "for chunk in response:\n",
        "    print(chunk.text, end=\"\")"
      ],
      "metadata": {
        "colab": {
          "base_uri": "https://localhost:8080/",
          "height": 34
        },
        "id": "BwweLrWrLHTd",
        "outputId": "3f8d13ef-9f4b-4d50-a1fa-81769a6ee64f"
      },
      "execution_count": 16,
      "outputs": [
        {
          "output_type": "stream",
          "name": "stdout",
          "text": [
            "That's lovely!  What breeds are they?  Do you have any fun stories about them?\n"
          ]
        }
      ]
    },
    {
      "cell_type": "code",
      "source": [
        "python_code = \"\"\"\n",
        "# Danh sách các minterm (các tổ hợp đầu vào mà hàm Boolean trả về 1)\n",
        "minterms = [0, 1, 2, 5, 6, 7]\n",
        "\n",
        "# Số biến đầu vào\n",
        "num_variables = 3\n",
        "\n",
        "# Hàm để kiểm tra xem hai số nhị phân có khác nhau đúng 1 bit không\n",
        "def is_adjacent(a, b):\n",
        "    diff = a ^ b\n",
        "    return (diff & (diff - 1)) == 0\n",
        "\n",
        "# Tạo danh sách các nhóm dựa trên số lượng bit 1\n",
        "groups = {}\n",
        "for minterm in minterms:\n",
        "    count = bin(minterm).count('1')\n",
        "    if count not in groups:\n",
        "        groups[count] = []\n",
        "    groups[count].append((minterm, [minterm]))\n",
        "\n",
        "# Tìm các tổ hợp có thể kết hợp\n",
        "prime_implicants = []\n",
        "while True:\n",
        "    new_groups = {}\n",
        "    merged = set()\n",
        "    keys = sorted(groups.keys())\n",
        "    for i in range(len(keys) - 1):\n",
        "        for a in groups[keys[i]]:\n",
        "            for b in groups[keys[i + 1]]:\n",
        "                if is_adjacent(a[0], b[0]):\n",
        "                    merged.add(a[0])\n",
        "                    merged.add(b[0])\n",
        "                    combined = (a[0], a[1] + b[1])\n",
        "                    count = bin(combined[0]).count('1')\n",
        "                    if count not in new_groups:\n",
        "                        new_groups[count] = []\n",
        "                    new_groups[count].append(combined)\n",
        "    for key in groups:\n",
        "        for a in groups[key]:\n",
        "            if a[0] not in merged:\n",
        "                prime_implicants.append(a)\n",
        "    if not new_groups:\n",
        "        break\n",
        "    groups = new_groups\n",
        "\n",
        "# In kết quả (sẽ không hiển thị do stdout bị chuyển hướng)\n",
        "print(\"Các prime implicants:\")\n",
        "for pi in prime_implicants:\n",
        "    print(f\"Minterms: {pi[1]} -> Binary: {format(pi[0], f'0{num_variables}b')}\")\n",
        "\"\"\"\n",
        "\n",
        "result = convert_python_cpp_GEMINI(python_code)\n",
        "print(result)"
      ],
      "metadata": {
        "colab": {
          "base_uri": "https://localhost:8080/",
          "height": 1000
        },
        "id": "Fu3D3HE8LHQz",
        "outputId": "2a956e9e-f510-4ff6-c82e-660270b81cf6"
      },
      "execution_count": 17,
      "outputs": [
        {
          "output_type": "stream",
          "name": "stdout",
          "text": [
            "#include <iostream>\n",
            "#include <vector>\n",
            "#include <unordered_map>\n",
            "#include <algorithm>\n",
            "#include <cmath>\n",
            "#include <bitset>\n",
            "#include <iomanip>\n",
            "\n",
            "using namespace std;\n",
            "\n",
            "// Function to check if two binary numbers differ by exactly one bit\n",
            "bool is_adjacent(int a, int b) {\n",
            "    int diff = a ^ b;\n",
            "    return (diff & (diff - 1)) == 0;\n",
            "}\n",
            "\n",
            "int main() {\n",
            "    vector<int> minterms = {0, 1, 2, 5, 6, 7};\n",
            "    int num_variables = 3;\n",
            "\n",
            "    unordered_map<int, vector<pair<int, vector<int>>>> groups;\n",
            "    for (int minterm : minterms) {\n",
            "        int count = __builtin_popcount(minterm); // Use builtin popcount for speed\n",
            "        groups[count].push_back({minterm, {minterm}});\n",
            "    }\n",
            "\n",
            "    vector<pair<int, vector<int>>> prime_implicants;\n",
            "    while (true) {\n",
            "        unordered_map<int, vector<pair<int, vector<int>>>> new_groups;\n",
            "        unordered_set<int> merged;\n",
            "        vector<int> keys;\n",
            "        for (auto const& [key, val] : groups) {\n",
            "            keys.push_back(key);\n",
            "        }\n",
            "        sort(keys.begin(), keys.end());\n",
            "\n",
            "        for (size_t i = 0; i < keys.size() - 1; ++i) {\n",
            "            for (auto& a : groups[keys[i]]) {\n",
            "                for (auto& b : groups[keys[i + 1]]) {\n",
            "                    if (is_adjacent(a.first, b.first)) {\n",
            "                        merged.insert(a.first);\n",
            "                        merged.insert(b.first);\n",
            "                        pair<int, vector<int>> combined = {a.first, a.second};\n",
            "                        combined.second.insert(combined.second.end(), b.second.begin(), b.second.end());\n",
            "                        int count = __builtin_popcount(combined.first);\n",
            "                        new_groups[count].push_back(combined);\n",
            "                    }\n",
            "                }\n",
            "            }\n",
            "        }\n",
            "\n",
            "        for (auto const& [key, val] : groups) {\n",
            "            for (auto& a : groups[key]) {\n",
            "                if (merged.find(a.first) == merged.end()) {\n",
            "                    prime_implicants.push_back(a);\n",
            "                }\n",
            "            }\n",
            "        }\n",
            "\n",
            "        if (new_groups.empty()) {\n",
            "            break;\n",
            "        }\n",
            "        groups = new_groups;\n",
            "    }\n",
            "\n",
            "    cout << \"Các prime implicants:\" << endl;\n",
            "    for (const auto& pi : prime_implicants) {\n",
            "        cout << \"Minterms: [\";\n",
            "        for (size_t i = 0; i < pi.second.size(); ++i) {\n",
            "            cout << pi.second[i];\n",
            "            if (i < pi.second.size() - 1) {\n",
            "                cout << \", \";\n",
            "            }\n",
            "        }\n",
            "        cout << \"] -> Binary: \" << bitset<3>(pi.first) << endl; // Use bitset for binary output\n",
            "    }\n",
            "\n",
            "    return 0;\n",
            "}\n"
          ]
        }
      ]
    },
    {
      "cell_type": "markdown",
      "source": [
        "# **Calculate time**"
      ],
      "metadata": {
        "id": "taxI3TykLZU-"
      }
    },
    {
      "cell_type": "code",
      "source": [
        "import time\n",
        "import sys\n",
        "from io import StringIO\n",
        "import io\n",
        "\n",
        "def execute_python_code(code):\n",
        "    \"\"\"\n",
        "    Thực thi một đoạn mã Python được truyền vào dưới dạng chuỗi.\n",
        "\n",
        "    :param code: Chuỗi mã Python cần thực thi.\n",
        "    :return: Kết quả thực thi, thời gian thực thi và đầu ra của mã.\n",
        "    \"\"\"\n",
        "    start_time = time.time()\n",
        "\n",
        "    old_stdout = sys.stdout\n",
        "    old_stderr = sys.stderr\n",
        "    new_stdout = io.StringIO()\n",
        "    new_stderr = io.StringIO()\n",
        "    sys.stdout = new_stdout\n",
        "    sys.stderr = new_stderr\n",
        "\n",
        "    try:\n",
        "        exec(code)\n",
        "    except Exception as e:\n",
        "        error_message = f\"Execution Error: {e}\\n{new_stderr.getvalue()}\"\n",
        "        return f\"Python Execution Time: {time.time() - start_time:.6f} seconds\", error_message\n",
        "    finally:\n",
        "        sys.stdout = old_stdout\n",
        "        sys.stderr = old_stderr\n",
        "\n",
        "    end_time = time.time()\n",
        "    execution_time = end_time - start_time\n",
        "    output = new_stdout.getvalue()\n",
        "    error_output = new_stderr.getvalue()\n",
        "\n",
        "    if error_output:\n",
        "        return f\"Python Execution Time: {execution_time:.6f} seconds\"\n",
        "    else:\n",
        "        return f\"Python Execution Time: {execution_time:.6f} seconds\"\n",
        "\n",
        "python_code = \"\"\"\n",
        "# Danh sách các minterm (các tổ hợp đầu vào mà hàm Boolean trả về 1)\n",
        "minterms = [0, 1, 2, 5, 6, 7]\n",
        "\n",
        "# Số biến đầu vào\n",
        "num_variables = 3\n",
        "\n",
        "# Hàm để kiểm tra xem hai số nhị phân có khác nhau đúng 1 bit không\n",
        "def is_adjacent(a, b):\n",
        "    diff = a ^ b\n",
        "    return (diff & (diff - 1)) == 0\n",
        "\n",
        "# Tạo danh sách các nhóm dựa trên số lượng bit 1\n",
        "groups = {}\n",
        "for minterm in minterms:\n",
        "    count = bin(minterm).count('1')\n",
        "    if count not in groups:\n",
        "        groups[count] = []\n",
        "    groups[count].append((minterm, [minterm]))\n",
        "\n",
        "# Tìm các tổ hợp có thể kết hợp\n",
        "prime_implicants = []\n",
        "while True:\n",
        "    new_groups = {}\n",
        "    merged = set()\n",
        "    keys = sorted(groups.keys())\n",
        "    for i in range(len(keys) - 1):\n",
        "        for a in groups[keys[i]]:\n",
        "            for b in groups[keys[i + 1]]:\n",
        "                if is_adjacent(a[0], b[0]):\n",
        "                    merged.add(a[0])\n",
        "                    merged.add(b[0])\n",
        "                    combined = (a[0], a[1] + b[1])\n",
        "                    count = bin(combined[0]).count('1')\n",
        "                    if count not in new_groups:\n",
        "                        new_groups[count] = []\n",
        "                    new_groups[count].append(combined)\n",
        "    for key in groups:\n",
        "        for a in groups[key]:\n",
        "            if a[0] not in merged:\n",
        "                prime_implicants.append(a)\n",
        "    if not new_groups:\n",
        "        break\n",
        "    groups = new_groups\n",
        "\n",
        "# In kết quả (sẽ không hiển thị do stdout bị chuyển hướng)\n",
        "print(\"Các prime implicants:\")\n",
        "for pi in prime_implicants:\n",
        "    print(f\"Minterms: {pi[1]} -> Binary: {format(pi[0], f'0{num_variables}b')}\")\n",
        "\"\"\"\n",
        "\n",
        "result = execute_python_code(python_code)\n",
        "print(result)"
      ],
      "metadata": {
        "colab": {
          "base_uri": "https://localhost:8080/"
        },
        "id": "xw9Jx4XLLHOD",
        "outputId": "5fcc6352-d240-409f-dd3a-942abf840394"
      },
      "execution_count": 18,
      "outputs": [
        {
          "output_type": "stream",
          "name": "stdout",
          "text": [
            "Python Execution Time: 0.000655 seconds\n"
          ]
        }
      ]
    },
    {
      "cell_type": "code",
      "source": [
        "def compile_and_run_cpp(code):\n",
        "    \"\"\"\n",
        "    Biên dịch và chạy mã C++.\n",
        "\n",
        "    :param code: Chuỗi mã C++ cần thực thi.\n",
        "    :return: Kết quả thực thi và thời gian thực thi.\n",
        "    \"\"\"\n",
        "\n",
        "    cpp_filename = \"temp.cpp\"\n",
        "    exe_filename = \"temp\"\n",
        "    with open(cpp_filename, \"w\") as f:\n",
        "        f.write(code)\n",
        "\n",
        "    compile_command = f\"g++ {cpp_filename} -o {exe_filename}\"\n",
        "    compile_process = subprocess.run(compile_command, shell=True, capture_output=True, text=True)\n",
        "    if compile_process.returncode != 0:\n",
        "        return f\"Compilation Error: {compile_process.stderr}\"\n",
        "\n",
        "    start_time = time.time()\n",
        "    run_process = subprocess.run(f\"./{exe_filename}\", shell=True, capture_output=True, text=True)\n",
        "    end_time = time.time()\n",
        "\n",
        "    os.remove(cpp_filename)\n",
        "    os.remove(exe_filename)\n",
        "\n",
        "    execution_time = end_time - start_time\n",
        "    return f\"C++ Execution Time: {execution_time} seconds\"\n",
        "\n",
        "\n",
        "cpp_code = convert_python_cpp_GPT(\"print('hello world')\")\n",
        "print(compile_and_run_cpp(cpp_code))"
      ],
      "metadata": {
        "colab": {
          "base_uri": "https://localhost:8080/"
        },
        "id": "fxpJhlfjLe-h",
        "outputId": "e6066708-2d85-4ca3-9205-146f440e45dc"
      },
      "execution_count": 19,
      "outputs": [
        {
          "output_type": "stream",
          "name": "stdout",
          "text": [
            "C++ Execution Time: 0.0033235549926757812 seconds\n"
          ]
        }
      ]
    },
    {
      "cell_type": "code",
      "source": [
        "def choose_model(python, model_name):\n",
        "    if model_name == \"GPT\":\n",
        "        conversion_function = convert_python_cpp_GPT\n",
        "        test_case_function = convert_python_cpp_GPT_testcase\n",
        "    elif model_name == \"Claude\":\n",
        "        conversion_function = convert_python_cpp_CLAUDE\n",
        "        test_case_function = convert_python_cpp_CLAUDE_testcase\n",
        "    elif model_name == \"Gemini\":\n",
        "        conversion_function = convert_python_cpp_GEMINI\n",
        "        test_case_function = convert_python_cpp_GEMINI_testcase\n",
        "    else:\n",
        "        raise ValueError(\"Invalid model selected\")\n",
        "\n",
        "    try:\n",
        "        cpp_code = conversion_function(python)\n",
        "        unit_test_case = test_case_function(python)\n",
        "        return cpp_code, unit_test_case\n",
        "    except Exception as e:\n",
        "        logging.error(f\"Lỗi trong choose_model: {e}\")\n",
        "        return f\"Lỗi: {e}\", \"\""
      ],
      "metadata": {
        "id": "qFpSxDMzLe7o"
      },
      "execution_count": 20,
      "outputs": []
    },
    {
      "cell_type": "code",
      "source": [
        "css = \"\"\"\n",
        ".python {background-color: #306998;}\n",
        ".cpp {background-color: #050;}\n",
        "\"\"\""
      ],
      "metadata": {
        "id": "krLDApYzLe5e"
      },
      "execution_count": 21,
      "outputs": []
    },
    {
      "cell_type": "code",
      "source": [
        "with gr.Blocks(css=css) as ui:\n",
        "    gr.Markdown(\"## Convert code from Python to C++\")\n",
        "    with gr.Row():\n",
        "        python = gr.Textbox(label=\"Python code:\", lines=10)\n",
        "        cpp = gr.Textbox(label=\"C++ code:\", lines=10)\n",
        "        test_case = gr.Textbox(label=\"Test case:\", lines=10)\n",
        "    with gr.Row():\n",
        "        model = gr.Dropdown([\"GPT\", \"Claude\", \"Gemini\"], label=\"Select model\", value=\"GPT\")\n",
        "    with gr.Row():\n",
        "        convert = gr.Button(\"Convert code\")\n",
        "    with gr.Row():\n",
        "        python_run = gr.Button(\"Run Python\")\n",
        "        cpp_run = gr.Button(\"Run C++\")\n",
        "    with gr.Row():\n",
        "        python_out = gr.TextArea(label=\"Python result:\", elem_classes=[\"python\"])\n",
        "        cpp_out = gr.TextArea(label=\"C++ result:\", elem_classes=[\"cpp\"])\n",
        "\n",
        "    convert.click(choose_model, inputs=[python, model], outputs=[cpp, test_case])\n",
        "    python_run.click(execute_python_code, inputs=[python], outputs=[python_out])\n",
        "    cpp_run.click(compile_and_run_cpp, inputs=[cpp], outputs=[cpp_out])\n",
        "\n",
        "ui.launch(inbrowser=True)"
      ],
      "metadata": {
        "colab": {
          "base_uri": "https://localhost:8080/",
          "height": 625
        },
        "id": "d5QlEutuLe3g",
        "outputId": "30237c97-14b0-44c8-8a12-2b84fa7e5644"
      },
      "execution_count": 22,
      "outputs": [
        {
          "output_type": "stream",
          "name": "stdout",
          "text": [
            "Running Gradio in a Colab notebook requires sharing enabled. Automatically setting `share=True` (you can turn this off by setting `share=False` in `launch()` explicitly).\n",
            "\n",
            "Colab notebook detected. To show errors in colab notebook, set debug=True in launch()\n",
            "* Running on public URL: https://66c0f87f21d248c3db.gradio.live\n",
            "\n",
            "This share link expires in 72 hours. For free permanent hosting and GPU upgrades, run `gradio deploy` from the terminal in the working directory to deploy to Hugging Face Spaces (https://huggingface.co/spaces)\n"
          ]
        },
        {
          "output_type": "display_data",
          "data": {
            "text/plain": [
              "<IPython.core.display.HTML object>"
            ],
            "text/html": [
              "<div><iframe src=\"https://66c0f87f21d248c3db.gradio.live\" width=\"100%\" height=\"500\" allow=\"autoplay; camera; microphone; clipboard-read; clipboard-write;\" frameborder=\"0\" allowfullscreen></iframe></div>"
            ]
          },
          "metadata": {}
        },
        {
          "output_type": "execute_result",
          "data": {
            "text/plain": []
          },
          "metadata": {},
          "execution_count": 22
        }
      ]
    },
    {
      "cell_type": "code",
      "source": [],
      "metadata": {
        "id": "48kKCJPaNwHA"
      },
      "execution_count": null,
      "outputs": []
    }
  ]
}