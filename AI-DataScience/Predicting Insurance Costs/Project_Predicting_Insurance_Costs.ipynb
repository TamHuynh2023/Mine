{
  "cells": [
    {
      "cell_type": "code",
      "execution_count": null,
      "metadata": {
        "id": "V4zKDAA-c9gD",
        "outputId": "0d6b99c9-73ee-4669-ee94-9d2d61b5d49d"
      },
      "outputs": [
        {
          "data": {
            "text/plain": [
              "<Figure size 640x480 with 0 Axes>"
            ]
          },
          "metadata": {},
          "output_type": "display_data"
        }
      ],
      "source": [
        "import pandas as pd\n",
        "import numpy as np\n",
        "import datetime as dt\n",
        "import seaborn as sns\n",
        "import matplotlib.pyplot as plt\n",
        "%matplotlib inline\n",
        "\n",
        "from sklearn.linear_model import LinearRegression\n",
        "from sklearn.metrics import mean_absolute_error, r2_score, mean_squared_error\n",
        "from sklearn.model_selection import train_test_split\n",
        "\n",
        "sns.set_style(\"whitegrid\")\n",
        "sns.despine()"
      ]
    },
    {
      "cell_type": "code",
      "execution_count": null,
      "metadata": {
        "id": "A_gIwUW3c9gG",
        "outputId": "5bef50ee-9538-469e-bdc7-7bbaf79d6569"
      },
      "outputs": [
        {
          "data": {
            "text/html": [
              "<div>\n",
              "<style scoped>\n",
              "    .dataframe tbody tr th:only-of-type {\n",
              "        vertical-align: middle;\n",
              "    }\n",
              "\n",
              "    .dataframe tbody tr th {\n",
              "        vertical-align: top;\n",
              "    }\n",
              "\n",
              "    .dataframe thead th {\n",
              "        text-align: right;\n",
              "    }\n",
              "</style>\n",
              "<table border=\"1\" class=\"dataframe\">\n",
              "  <thead>\n",
              "    <tr style=\"text-align: right;\">\n",
              "      <th></th>\n",
              "      <th>age</th>\n",
              "      <th>sex</th>\n",
              "      <th>bmi</th>\n",
              "      <th>children</th>\n",
              "      <th>smoker</th>\n",
              "      <th>region</th>\n",
              "      <th>charges</th>\n",
              "    </tr>\n",
              "  </thead>\n",
              "  <tbody>\n",
              "    <tr>\n",
              "      <th>0</th>\n",
              "      <td>19</td>\n",
              "      <td>female</td>\n",
              "      <td>27.900</td>\n",
              "      <td>0</td>\n",
              "      <td>yes</td>\n",
              "      <td>southwest</td>\n",
              "      <td>16884.92400</td>\n",
              "    </tr>\n",
              "    <tr>\n",
              "      <th>1</th>\n",
              "      <td>18</td>\n",
              "      <td>male</td>\n",
              "      <td>33.770</td>\n",
              "      <td>1</td>\n",
              "      <td>no</td>\n",
              "      <td>southeast</td>\n",
              "      <td>1725.55230</td>\n",
              "    </tr>\n",
              "    <tr>\n",
              "      <th>2</th>\n",
              "      <td>28</td>\n",
              "      <td>male</td>\n",
              "      <td>33.000</td>\n",
              "      <td>3</td>\n",
              "      <td>no</td>\n",
              "      <td>southeast</td>\n",
              "      <td>4449.46200</td>\n",
              "    </tr>\n",
              "    <tr>\n",
              "      <th>3</th>\n",
              "      <td>33</td>\n",
              "      <td>male</td>\n",
              "      <td>22.705</td>\n",
              "      <td>0</td>\n",
              "      <td>no</td>\n",
              "      <td>northwest</td>\n",
              "      <td>21984.47061</td>\n",
              "    </tr>\n",
              "    <tr>\n",
              "      <th>4</th>\n",
              "      <td>32</td>\n",
              "      <td>male</td>\n",
              "      <td>28.880</td>\n",
              "      <td>0</td>\n",
              "      <td>no</td>\n",
              "      <td>northwest</td>\n",
              "      <td>3866.85520</td>\n",
              "    </tr>\n",
              "    <tr>\n",
              "      <th>...</th>\n",
              "      <td>...</td>\n",
              "      <td>...</td>\n",
              "      <td>...</td>\n",
              "      <td>...</td>\n",
              "      <td>...</td>\n",
              "      <td>...</td>\n",
              "      <td>...</td>\n",
              "    </tr>\n",
              "    <tr>\n",
              "      <th>1333</th>\n",
              "      <td>50</td>\n",
              "      <td>male</td>\n",
              "      <td>30.970</td>\n",
              "      <td>3</td>\n",
              "      <td>no</td>\n",
              "      <td>northwest</td>\n",
              "      <td>10600.54830</td>\n",
              "    </tr>\n",
              "    <tr>\n",
              "      <th>1334</th>\n",
              "      <td>18</td>\n",
              "      <td>female</td>\n",
              "      <td>31.920</td>\n",
              "      <td>0</td>\n",
              "      <td>no</td>\n",
              "      <td>northeast</td>\n",
              "      <td>2205.98080</td>\n",
              "    </tr>\n",
              "    <tr>\n",
              "      <th>1335</th>\n",
              "      <td>18</td>\n",
              "      <td>female</td>\n",
              "      <td>36.850</td>\n",
              "      <td>0</td>\n",
              "      <td>no</td>\n",
              "      <td>southeast</td>\n",
              "      <td>1629.83350</td>\n",
              "    </tr>\n",
              "    <tr>\n",
              "      <th>1336</th>\n",
              "      <td>21</td>\n",
              "      <td>female</td>\n",
              "      <td>25.800</td>\n",
              "      <td>0</td>\n",
              "      <td>no</td>\n",
              "      <td>southwest</td>\n",
              "      <td>2007.94500</td>\n",
              "    </tr>\n",
              "    <tr>\n",
              "      <th>1337</th>\n",
              "      <td>61</td>\n",
              "      <td>female</td>\n",
              "      <td>29.070</td>\n",
              "      <td>0</td>\n",
              "      <td>yes</td>\n",
              "      <td>northwest</td>\n",
              "      <td>29141.36030</td>\n",
              "    </tr>\n",
              "  </tbody>\n",
              "</table>\n",
              "<p>1338 rows × 7 columns</p>\n",
              "</div>"
            ],
            "text/plain": [
              "      age     sex     bmi  children smoker     region      charges\n",
              "0      19  female  27.900         0    yes  southwest  16884.92400\n",
              "1      18    male  33.770         1     no  southeast   1725.55230\n",
              "2      28    male  33.000         3     no  southeast   4449.46200\n",
              "3      33    male  22.705         0     no  northwest  21984.47061\n",
              "4      32    male  28.880         0     no  northwest   3866.85520\n",
              "...   ...     ...     ...       ...    ...        ...          ...\n",
              "1333   50    male  30.970         3     no  northwest  10600.54830\n",
              "1334   18  female  31.920         0     no  northeast   2205.98080\n",
              "1335   18  female  36.850         0     no  southeast   1629.83350\n",
              "1336   21  female  25.800         0     no  southwest   2007.94500\n",
              "1337   61  female  29.070         0    yes  northwest  29141.36030\n",
              "\n",
              "[1338 rows x 7 columns]"
            ]
          },
          "execution_count": 97,
          "metadata": {},
          "output_type": "execute_result"
        }
      ],
      "source": [
        "df = pd.read_csv(\"insurance.csv\")\n",
        "df"
      ]
    },
    {
      "cell_type": "markdown",
      "metadata": {
        "id": "hgjgTCloc9gH"
      },
      "source": [
        "# Exploring The Dataset"
      ]
    },
    {
      "cell_type": "code",
      "execution_count": null,
      "metadata": {
        "id": "CzfxXw5lc9gI",
        "outputId": "f391c411-aa3b-45bd-c066-be3f083da930"
      },
      "outputs": [
        {
          "data": {
            "text/plain": [
              "age         0.299008\n",
              "bmi         0.198341\n",
              "children    0.067998\n",
              "charges     1.000000\n",
              "Name: charges, dtype: float64"
            ]
          },
          "execution_count": 98,
          "metadata": {},
          "output_type": "execute_result"
        }
      ],
      "source": [
        "df.corr()[\"charges\"]"
      ]
    },
    {
      "cell_type": "code",
      "execution_count": null,
      "metadata": {
        "id": "i7DKFxb-c9gI",
        "outputId": "70f6596e-5546-482d-d81d-47e2bc1a25ca"
      },
      "outputs": [
        {
          "data": {
            "text/plain": [
              "array([[<AxesSubplot:title={'center':'charges'}>]], dtype=object)"
            ]
          },
          "execution_count": 99,
          "metadata": {},
          "output_type": "execute_result"
        },
        {
          "data": {
            "image/png": "[encoded data removed]",
            "text/plain": [
              "<Figure size 640x480 with 1 Axes>"
            ]
          },
          "metadata": {},
          "output_type": "display_data"
        }
      ],
      "source": [
        "df.hist(\"charges\")"
      ]
    },
    {
      "cell_type": "markdown",
      "metadata": {
        "id": "lGbyrrmec9gI"
      },
      "source": [
        "=> Cột \"charges\" có phân phối lệch phải. Các khoản phí bảo hiểm cực kỳ đắt đỏ thường xuất hiện nhiều hơn so với các khoản phí nhỏ hơn. Điều này làm cho việc sai số trong mô hình không thể thực sự tập trung ở giá trị zero. Có thể xem xét thực hiện biến đổi log cho kết quả."
      ]
    },
    {
      "cell_type": "markdown",
      "metadata": {
        "id": "PcH-j9s0c9gJ"
      },
      "source": [
        "Khi chúng ta vẽ biểu đồ histogram, các cột cao tại khoảng giá trị 10,000 và 20,000 thực sự là tần suất của các khoản chi phí nằm trong khoảng đó. Điều này không phản ánh tỷ lệ số lượng khoản chi phí đắt đỏ so với khoản chi phí rẻ.\n",
        "\n",
        "**Tại sao lại như vậy?**\n",
        "- Có một số khoản chi phí đắt đỏ (ví dụ: các khoản chi phí y tế lớn) xuất hiện rất hiếm khi, nhưng khi xuất hiện, chúng có giá trị lớn.\n",
        "- Trong khi đó, các khoản chi phí rẻ hơn (ví dụ: các khoản chi phí nhỏ hơn) xuất hiện thường xuyên hơn, nhưng giá trị của chúng thấp hơn.\n",
        "\n",
        "Vì vậy, mặc dù tần suất của các khoản chi phí đắt đỏ thấp hơn, giá trị của chúng khiến chúng trở nên quan trọng hơn trong phân tích. Điều này dẫn đến sự lệch phải trong phân phối."
      ]
    },
    {
      "cell_type": "code",
      "execution_count": null,
      "metadata": {
        "id": "G0UuX5ZUc9gJ",
        "outputId": "99dcf2fe-b263-4e73-ab43-829a3ecbc21f"
      },
      "outputs": [
        {
          "data": {
            "text/plain": [
              "array([[<AxesSubplot:title={'center':'log_charges'}>]], dtype=object)"
            ]
          },
          "execution_count": 100,
          "metadata": {},
          "output_type": "execute_result"
        },
        {
          "data": {
            "image/png": "[encoded data removed]",
            "text/plain": [
              "<Figure size 640x480 with 1 Axes>"
            ]
          },
          "metadata": {},
          "output_type": "display_data"
        }
      ],
      "source": [
        "df[\"log_charges\"] = np.log2(df[\"charges\"])\n",
        "\n",
        "df.hist(\"log_charges\")"
      ]
    },
    {
      "cell_type": "markdown",
      "metadata": {
        "id": "Bddqm-XSc9gK"
      },
      "source": [
        "=> Cột giá trị `charges` sau khi áp dụng hàm log được phân bố gần trung tâm hơn, đúng như mong muốn. Điều này làm cho khả năng sai số của mô hình không bị thiên lệch."
      ]
    },
    {
      "cell_type": "code",
      "execution_count": null,
      "metadata": {
        "id": "ZugGNBFYc9gK",
        "outputId": "b8ca0bb7-ddfa-4fd3-c172-9c4a3625d89e"
      },
      "outputs": [
        {
          "data": {
            "text/plain": [
              "age            0.527834\n",
              "bmi            0.132669\n",
              "children       0.161336\n",
              "charges        0.892964\n",
              "log_charges    1.000000\n",
              "Name: log_charges, dtype: float64"
            ]
          },
          "execution_count": 101,
          "metadata": {},
          "output_type": "execute_result"
        }
      ],
      "source": [
        "df.corr()[\"log_charges\"]"
      ]
    },
    {
      "cell_type": "code",
      "execution_count": null,
      "metadata": {
        "id": "wymqMBIlc9gK",
        "outputId": "ae6b2c3d-b1a9-41cc-f6f8-3935b0ab6de9"
      },
      "outputs": [
        {
          "data": {
            "text/html": [
              "<div>\n",
              "<style scoped>\n",
              "    .dataframe tbody tr th:only-of-type {\n",
              "        vertical-align: middle;\n",
              "    }\n",
              "\n",
              "    .dataframe tbody tr th {\n",
              "        vertical-align: top;\n",
              "    }\n",
              "\n",
              "    .dataframe thead th {\n",
              "        text-align: right;\n",
              "    }\n",
              "</style>\n",
              "<table border=\"1\" class=\"dataframe\">\n",
              "  <thead>\n",
              "    <tr style=\"text-align: right;\">\n",
              "      <th></th>\n",
              "      <th>age</th>\n",
              "      <th>bmi</th>\n",
              "      <th>children</th>\n",
              "      <th>charges</th>\n",
              "      <th>log_charges</th>\n",
              "    </tr>\n",
              "  </thead>\n",
              "  <tbody>\n",
              "    <tr>\n",
              "      <th>age</th>\n",
              "      <td>1.000000</td>\n",
              "      <td>0.109272</td>\n",
              "      <td>0.042469</td>\n",
              "      <td>0.299008</td>\n",
              "      <td>0.527834</td>\n",
              "    </tr>\n",
              "    <tr>\n",
              "      <th>bmi</th>\n",
              "      <td>0.109272</td>\n",
              "      <td>1.000000</td>\n",
              "      <td>0.012759</td>\n",
              "      <td>0.198341</td>\n",
              "      <td>0.132669</td>\n",
              "    </tr>\n",
              "    <tr>\n",
              "      <th>children</th>\n",
              "      <td>0.042469</td>\n",
              "      <td>0.012759</td>\n",
              "      <td>1.000000</td>\n",
              "      <td>0.067998</td>\n",
              "      <td>0.161336</td>\n",
              "    </tr>\n",
              "    <tr>\n",
              "      <th>charges</th>\n",
              "      <td>0.299008</td>\n",
              "      <td>0.198341</td>\n",
              "      <td>0.067998</td>\n",
              "      <td>1.000000</td>\n",
              "      <td>0.892964</td>\n",
              "    </tr>\n",
              "    <tr>\n",
              "      <th>log_charges</th>\n",
              "      <td>0.527834</td>\n",
              "      <td>0.132669</td>\n",
              "      <td>0.161336</td>\n",
              "      <td>0.892964</td>\n",
              "      <td>1.000000</td>\n",
              "    </tr>\n",
              "  </tbody>\n",
              "</table>\n",
              "</div>"
            ],
            "text/plain": [
              "                  age       bmi  children   charges  log_charges\n",
              "age          1.000000  0.109272  0.042469  0.299008     0.527834\n",
              "bmi          0.109272  1.000000  0.012759  0.198341     0.132669\n",
              "children     0.042469  0.012759  1.000000  0.067998     0.161336\n",
              "charges      0.299008  0.198341  0.067998  1.000000     0.892964\n",
              "log_charges  0.527834  0.132669  0.161336  0.892964     1.000000"
            ]
          },
          "execution_count": 102,
          "metadata": {},
          "output_type": "execute_result"
        }
      ],
      "source": [
        "df.corr()"
      ]
    },
    {
      "cell_type": "markdown",
      "metadata": {
        "tags": [],
        "id": "heqrg_Z6c9gK"
      },
      "source": [
        "# Dividing The Data"
      ]
    },
    {
      "cell_type": "code",
      "execution_count": null,
      "metadata": {
        "id": "NcyMP1doc9gL"
      },
      "outputs": [],
      "source": [
        "df[\"is_smoker\"] = df[\"smoker\"].apply(lambda x: 1 if x == \"yes\" else 0)\n",
        "X = df[[\"age\", \"bmi\", \"is_smoker\"]]\n",
        "y = df[\"log_charges\"]\n",
        "\n",
        "X_train, X_test, y_train, y_test = train_test_split(X, y, test_size = 0.2, random_state = 47)"
      ]
    },
    {
      "cell_type": "markdown",
      "metadata": {
        "id": "ZWK4Gqlcc9gL"
      },
      "source": [
        "# Build The Model"
      ]
    },
    {
      "cell_type": "code",
      "execution_count": null,
      "metadata": {
        "id": "k-r6Hue9c9gL",
        "outputId": "fb04b02d-c7b4-4c41-ee5d-2340b088d9c6"
      },
      "outputs": [
        {
          "data": {
            "text/plain": [
              "0.7388489389288027"
            ]
          },
          "execution_count": 106,
          "metadata": {},
          "output_type": "execute_result"
        }
      ],
      "source": [
        "model = LinearRegression()\n",
        "\n",
        "model.fit(X_train, y_train)\n",
        "predicts = model.predict(X_train)\n",
        "\n",
        "r2_score(y_train, predicts)"
      ]
    },
    {
      "cell_type": "code",
      "execution_count": null,
      "metadata": {
        "id": "mMuRAo5mc9gL",
        "outputId": "acd9137b-2bab-4603-e0d9-a6cccb61a1ca"
      },
      "outputs": [
        {
          "data": {
            "text/plain": [
              "0.4509520661460599"
            ]
          },
          "execution_count": 107,
          "metadata": {},
          "output_type": "execute_result"
        }
      ],
      "source": [
        "mean_squared_error(y_train, predicts)"
      ]
    },
    {
      "cell_type": "code",
      "execution_count": null,
      "metadata": {
        "id": "Zaz2UCzzc9gL",
        "outputId": "254ef928-f498-4c64-8605-a8ac4b61c443"
      },
      "outputs": [
        {
          "data": {
            "text/plain": [
              "1.5698060334366168"
            ]
          },
          "execution_count": 111,
          "metadata": {},
          "output_type": "execute_result"
        }
      ],
      "source": [
        "np.exp(mean_squared_error(y_train, predicts))"
      ]
    },
    {
      "cell_type": "markdown",
      "metadata": {
        "id": "_4VH-CtUc9gM"
      },
      "source": [
        "=> Tỷ lệ sai số bình phương trung bình (MSE) của mô hình trên tập huấn luyện là 0.45 và trên tỷ lệ gốc là 1.56. Giá trị R-squared cho thấy mô hình có thể giải thích 73% biến thiên trong log của chi phí bảo hiểm. Tuy kết quả ban đầu khá tích cực, nhưng chúng ta cần nhớ rằng đây là các giá trị lạc quan. 😊"
      ]
    },
    {
      "cell_type": "markdown",
      "metadata": {
        "tags": [],
        "id": "VlRKLeAwc9gM"
      },
      "source": [
        "# Residual Diagnostics"
      ]
    },
    {
      "cell_type": "code",
      "execution_count": null,
      "metadata": {
        "id": "zy5STd1Fc9gM"
      },
      "outputs": [],
      "source": [
        "residual = y_train - predicts"
      ]
    },
    {
      "cell_type": "code",
      "execution_count": null,
      "metadata": {
        "id": "hdB0lbI7c9gM",
        "outputId": "74c5aa0c-2fd3-4f9f-ee98-2538e8839a72"
      },
      "outputs": [
        {
          "data": {
            "text/plain": [
              "Text(0, 0.5, 'residual')"
            ]
          },
          "execution_count": 109,
          "metadata": {},
          "output_type": "execute_result"
        },
        {
          "data": {
            "image/png": "[encoded data removed]",
            "text/plain": [
              "<Figure size 640x480 with 1 Axes>"
            ]
          },
          "metadata": {},
          "output_type": "display_data"
        }
      ],
      "source": [
        "plt.scatter(predicts, residual)\n",
        "plt.xlabel(\"prediction\")\n",
        "plt.ylabel(\"residual\")"
      ]
    },
    {
      "cell_type": "markdown",
      "metadata": {
        "id": "ccmX-S-oc9gM"
      },
      "source": [
        "1. **Phân phối của phần dư**:\n",
        "   - Nếu các giá trị phần dư không xoay quanh số 0 và có một mẫu rõ rệt, điều này cho thấy mô hình hồi quy tuyến tính có thể không phù hợp với dữ liệu.\n",
        "   - Có thể có các yếu tố khác không được mô hình hóa hoặc mối quan hệ không phải tuyến tính.\n",
        "\n",
        "2. **Khả năng tổng quát hóa**:\n",
        "   - Mô hình hồi quy tuyến tính nên có khả năng tổng quát hóa tốt trên dữ liệu mới (tập kiểm tra).\n",
        "   - Nếu phần dư không ngẫu nhiên và có mẫu, mô hình có thể không tổng quát hóa tốt.\n",
        "\n",
        "3. **Kiểm tra thêm**:\n",
        "   - Để đánh giá chính xác, chúng ta nên kiểm tra các độ đo khác như R-squared, sai số dự đoán trên tập kiểm tra, và kiểm tra giả thuyết về phân phối của phần dư.\n"
      ]
    },
    {
      "cell_type": "markdown",
      "metadata": {
        "id": "3fxftIJPc9gN"
      },
      "source": [
        "# Interpreting The Model"
      ]
    },
    {
      "cell_type": "code",
      "execution_count": null,
      "metadata": {
        "id": "g5JrjDU_c9gN",
        "outputId": "a26d5615-2d99-498e-fc77-e418bb5fbd48"
      },
      "outputs": [
        {
          "data": {
            "text/plain": [
              "10.233481408281971"
            ]
          },
          "execution_count": 112,
          "metadata": {},
          "output_type": "execute_result"
        }
      ],
      "source": [
        "inter = model.intercept_\n",
        "inter"
      ]
    },
    {
      "cell_type": "code",
      "execution_count": null,
      "metadata": {
        "id": "EZcTbmQhc9gN",
        "outputId": "48115e78-a430-421e-afeb-2795146a11d6"
      },
      "outputs": [
        {
          "data": {
            "text/plain": [
              "array([0.05054496, 0.01513969, 2.21581421])"
            ]
          },
          "execution_count": 113,
          "metadata": {},
          "output_type": "execute_result"
        }
      ],
      "source": [
        "coef = model.coef_\n",
        "coef"
      ]
    },
    {
      "cell_type": "markdown",
      "metadata": {
        "id": "MF11wuRFc9gN"
      },
      "source": [
        "1. **Tăng 1 năm về tuổi (subject)**:\n",
        "   - Tăng 1 năm về tuổi được liên kết với việc tăng trung bình 0.05 trong log của chi phí bảo hiểm, khi giữ nguyên trạng thái hút thuốc và chỉ số BMI. Tương đương với tăng khoảng 5% trong chi phí trên tỷ lệ gốc.\n",
        "\n",
        "2. **Tăng 1 đơn vị về chỉ số BMI (subject)**:\n",
        "   - Tăng 1 đơn vị về chỉ số BMI được liên kết với việc tăng trung bình 0.015 trong log của chi phí bảo hiểm, khi giữ nguyên trạng thái hút thuốc và tuổi. Tương đương với tăng khoảng 1.5% trong chi phí trên tỷ lệ gốc.\n",
        "\n",
        "3. **Trạng thái hút thuốc (smoker)**:\n",
        "   - Người hút thuốc được liên kết với việc tăng trung bình 2.21 trong log của chi phí bảo hiểm, khi giữ nguyên tuổi và chỉ số BMI. Tương đương với tăng khoảng 811% trong chi phí trên tỷ lệ gốc."
      ]
    },
    {
      "cell_type": "code",
      "execution_count": null,
      "metadata": {
        "id": "E6Aa5e5Ec9gN",
        "outputId": "a6f98b3a-fd47-4651-f37f-13650aba44a5"
      },
      "outputs": [
        {
          "data": {
            "text/plain": [
              "(5.127109637602412, 1.511306461571893, 811.5716393040306)"
            ]
          },
          "execution_count": 121,
          "metadata": {},
          "output_type": "execute_result"
        }
      ],
      "source": [
        "pct_1, pct_2, pct_3  = (np.exp(0.05) - 1) * 100, (np.exp(0.015) - 1) * 100, (np.exp(2.21) - 1) * 100\n",
        "pct_1, pct_2, pct_3"
      ]
    },
    {
      "cell_type": "markdown",
      "metadata": {
        "id": "-z_e7iE7c9gO"
      },
      "source": [
        "# Final Model Evaluation"
      ]
    },
    {
      "cell_type": "code",
      "execution_count": null,
      "metadata": {
        "id": "m_357Afec9gO",
        "outputId": "bfa38353-2d87-4bcf-f400-5ecd0ac8b9e6"
      },
      "outputs": [
        {
          "data": {
            "text/plain": [
              "0.4424024810708572"
            ]
          },
          "execution_count": 123,
          "metadata": {},
          "output_type": "execute_result"
        }
      ],
      "source": [
        "y_pred = model.predict(X_test)\n",
        "\n",
        "mean_squared_error(y_test, y_pred)"
      ]
    },
    {
      "cell_type": "code",
      "execution_count": null,
      "metadata": {
        "id": "GGYEveYzc9gO",
        "outputId": "551620eb-2eef-45dc-ee31-c255eb3d2a29"
      },
      "outputs": [
        {
          "data": {
            "text/plain": [
              "0.7647392671726335"
            ]
          },
          "execution_count": 124,
          "metadata": {},
          "output_type": "execute_result"
        }
      ],
      "source": [
        "r2_score(y_test, y_pred)"
      ]
    },
    {
      "cell_type": "code",
      "execution_count": null,
      "metadata": {
        "id": "dTYCSSjzc9gO",
        "outputId": "c152a82d-8a02-476f-84a4-4de30f5bc5c8"
      },
      "outputs": [
        {
          "data": {
            "text/plain": [
              "1.5564420528503653"
            ]
          },
          "execution_count": 126,
          "metadata": {},
          "output_type": "execute_result"
        }
      ],
      "source": [
        "np.exp(mean_squared_error(y_test, y_pred))"
      ]
    },
    {
      "cell_type": "markdown",
      "metadata": {
        "id": "JiESzD2nc9gO"
      },
      "source": [
        "=> Dự đoán sai số trung bình (MSE) trên tập kiểm tra là khoảng 0.44, trong khi MSE trên tập huấn luyện là khoảng 0.45. Trong trường hợp này, hai sai số khá phù hợp với nhau, vì vậy chúng ta có thể kết luận rằng mô hình không bị quá khớp (overfit). **Tuy nhiên, các giá trị dư thừa (residuals) cho thấy mô hình dự đoán chi phí thấp hơn đối với các đối tượng thực tế đã bị tính phí cao hơn. Do đó, mô hình gặp khó khăn trong việc dự đoán các chi phí cao hơn.** Tổng thể, dự đoán của mô hình quá thận trọng.\n",
        "\n",
        "Chúng ta có thể cải thiện mô hình bằng cách bao gồm các thuật ngữ phức tạp hơn trong hồi quy, chẳng hạn như tương tác hoặc thuật ngữ bậc hai.\n",
        "\n",
        "\n",
        "----------------------------------------------------------------------------------------------------------------"
      ]
    },
    {
      "cell_type": "markdown",
      "metadata": {
        "id": "L-DX-k87c9gP"
      },
      "source": [
        "Trước tiên, chúng ta cần nhớ lại mục tiêu của mô hình hồi quy tuyến tính: dự đoán biến phụ thuộc (trong trường hợp này là chi phí) dựa trên các biến độc lập (tuổi, BMI và thông tin về việc hút thuốc).\n",
        "\n",
        "1. **Giá trị dư thừa (residuals)**:\n",
        "   - Giá trị dư thừa là sự khác biệt giữa giá trị thực tế của biến phụ thuộc và giá trị được dự đoán bởi mô hình.\n",
        "   - Trong trường hợp của bạn, nếu mô hình dự đoán chi phí thấp hơn so với giá trị thực tế (các đối tượng đã bị tính phí cao hơn), thì giá trị dư thừa sẽ là dương.\n",
        "   - Điều này có nghĩa là mô hình của bạn \"thận trọng\" hơn trong việc dự đoán chi phí. Nó cố gắng tránh dự đoán quá cao để không làm sai lệch kết quả.\n",
        "\n",
        "2. **Mô hình gặp khó khăn với các chi phí cao hơn**:\n",
        "   - Khi mô hình gặp khó khăn trong việc dự đoán các chi phí cao hơn, điều này có thể do nhiều nguyên nhân:\n",
        "     - **Khả năng biểu diễn**: Mô hình có thể không đủ phức tạp để biểu diễn đúng mối quan hệ giữa các biến. Có thể cần thêm các thuật ngữ phức tạp hơn (tương tác, thuật ngữ bậc hai) để cải thiện mô hình.\n",
        "     - **Dữ liệu**: Dữ liệu huấn luyện có thể không đủ để mô hình học được mối quan hệ cho các chi phí cao hơn.\n",
        "     - **Biến khác**: Có thể có các biến khác mà mô hình chưa xem xét (ví dụ: loại bệnh, vị trí, v.v.).\n",
        "\n",
        "3. **Cách cải thiện mô hình**:\n",
        "   - Bạn có thể thử bổ sung thêm các biến khác hoặc thay đổi cấu trúc mô hình (ví dụ: sử dụng mô hình tuyến tính hỗn hợp, mô hình phi tuyến, hoặc mô hình hồi quy Ridge/Lasso).\n",
        "   - Kiểm tra lại dữ liệu và xem xét việc thu thập thêm thông tin về các đối tượng có chi phí cao hơn."
      ]
    },
    {
      "cell_type": "code",
      "execution_count": null,
      "metadata": {
        "id": "--mirHAXc9gP"
      },
      "outputs": [],
      "source": []
    },
    {
      "cell_type": "code",
      "execution_count": null,
      "metadata": {
        "id": "WjzZZM_nc9gP"
      },
      "outputs": [],
      "source": []
    },
    {
      "cell_type": "code",
      "execution_count": null,
      "metadata": {
        "id": "v7mBFA5-c9gP"
      },
      "outputs": [],
      "source": []
    }
  ],
  "metadata": {
    "kernelspec": {
      "display_name": "Python 3 (ipykernel)",
      "language": "python",
      "name": "python3"
    },
    "language_info": {
      "codemirror_mode": {
        "name": "ipython",
        "version": 3
      },
      "file_extension": ".py",
      "mimetype": "text/x-python",
      "name": "python",
      "nbconvert_exporter": "python",
      "pygments_lexer": "ipython3",
      "version": "3.10.6"
    },
    "colab": {
      "provenance": []
    }
  },
  "nbformat": 4,
  "nbformat_minor": 0
}