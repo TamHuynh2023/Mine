{
  "cells": [
    {
      "cell_type": "code",
      "execution_count": null,
      "metadata": {
        "collapsed": true,
        "id": "iH0dnh4_wf1K"
      },
      "outputs": [],
      "source": [
        "!pip cache purge\n",
        "!pip install imapclient openai langchain\n",
        "!pip install python-dotenv\n",
        "\n",
        "!pip install -U langchain-community\n",
        "!pip install langchain-openai\n",
        "!pip install langchain-chroma\n",
        "\n",
        "!pip install faiss-cpu"
      ]
    },
    {
      "cell_type": "markdown",
      "metadata": {
        "id": "gowEXolYTMPc"
      },
      "source": [
        "### **Get emails \"UNSEEN\"**"
      ]
    },
    {
      "cell_type": "code",
      "execution_count": null,
      "metadata": {
        "collapsed": true,
        "id": "VkB-egyTHeki"
      },
      "outputs": [],
      "source": [
        "import imapclient\n",
        "import email\n",
        "from email.header import decode_header\n",
        "import openai\n",
        "import datetime\n",
        "from bs4 import BeautifulSoup\n",
        "\n",
        "EMAIL = \"nu330006@gmail.com\"\n",
        "PASSWORD = \"kund pbor krgm rzhx\"\n",
        "\n",
        "mail = imapclient.IMAPClient(\"imap.gmail.com\", ssl=True)\n",
        "mail.login(EMAIL, PASSWORD)\n",
        "\n",
        "mail.select_folder(\"INBOX\")\n",
        "\n",
        "days = 30\n",
        "while True:\n",
        "    days_ago = (datetime.datetime.now() - datetime.timedelta(days=days)).strftime(\"%d-%b-%Y\")\n",
        "    messages = mail.search([\"SINCE\", days_ago, \"UNSEEN\"])\n",
        "\n",
        "    if len(messages) > 0 or days >= 600:\n",
        "        break\n",
        "    days += 10\n",
        "\n",
        "print(f\"🔍 Đang kiểm tra email chưa đọc trong {days} ngày qua...\")\n",
        "\n",
        "\n",
        "if mail.has_capability('SORT'):\n",
        "    messages = mail.sort([\"REVERSE DATE\"], messages)\n",
        "else:\n",
        "    fetch_data = mail.fetch(messages, ['INTERNALDATE'])\n",
        "    messages_with_dates = [(msg_id, fetch_data[msg_id][b'INTERNALDATE']) for msg_id in messages]\n",
        "    messages_with_dates.sort(key=lambda item: item[1], reverse=True)\n",
        "    messages = [item[0] for item in messages_with_dates]\n",
        "\n",
        "email_data = []\n",
        "\n",
        "\n",
        "from email.header import decode_header\n",
        "import chardet\n",
        "\n",
        "def decode_email_content(content, encoding=None):\n",
        "    if encoding:\n",
        "        try:\n",
        "            return content.decode(encoding)\n",
        "        except UnicodeDecodeError:\n",
        "            pass\n",
        "    detected_encoding = chardet.detect(content)['encoding']\n",
        "    if detected_encoding:\n",
        "        return content.decode(detected_encoding)\n",
        "    return content.decode('utf-8', errors='ignore')\n",
        "\n",
        "\n",
        "for msg_id in messages:\n",
        "    raw_msg = mail.fetch(msg_id, [\"RFC822\"])[msg_id][b\"RFC822\"]\n",
        "    msg = email.message_from_bytes(raw_msg)\n",
        "\n",
        "    from_email = msg[\"From\"]\n",
        "    if isinstance(from_email, tuple):\n",
        "        from_email = \" \".join(str(part) for part in from_email)\n",
        "\n",
        "    subject, encoding = decode_header(msg[\"Subject\"])[0]\n",
        "    subject = subject.decode(encoding) if encoding else subject\n",
        "\n",
        "    body = \"\"\n",
        "    if msg.is_multipart():\n",
        "        for part in msg.walk():\n",
        "            content_type = part.get_content_type()\n",
        "            content_disposition = str(part.get(\"Content-Disposition\"))\n",
        "\n",
        "            if content_type == \"text/plain\" and \"attachment\" not in content_disposition:\n",
        "                body = part.get_payload(decode=True)\n",
        "                body = decode_email_content(body, part.get_content_charset())\n",
        "                break\n",
        "            elif content_type == \"text/html\" and \"attachment\" not in content_disposition:\n",
        "                html_content = part.get_payload(decode=True)\n",
        "                html_content = decode_email_content(html_content, part.get_content_charset())\n",
        "\n",
        "                soup = BeautifulSoup(html_content, \"lxml\")\n",
        "\n",
        "                for tag in soup(['style', 'script', 'head', 'title', 'meta', 'link',\n",
        "                                'noscript', 'header', 'footer', 'table', 'tr', 'td',\n",
        "                                'th', 'tbody', 'thead', 'form', 'input']):\n",
        "                    tag.decompose()\n",
        "\n",
        "                for element in soup.find_all(['p', 'div', 'br', 'li', 'h1', 'h2', 'h3']):\n",
        "                    element.append('\\n')\n",
        "\n",
        "                body = soup.get_text(separator='\\n', strip=True)\n",
        "\n",
        "                import re\n",
        "                body = re.sub(r'\\n{3,}', '\\n\\n', body)\n",
        "                body = re.sub(r'[\\xa0\\u200b]+', ' ', body)\n",
        "    else:\n",
        "        body = msg.get_payload(decode=True)\n",
        "        body = decode_email_content(body, msg.get_content_charset())\n",
        "\n",
        "    email_data.append({\"From email\": from_email, \"subject\": subject, \"body\": body})\n",
        "\n",
        "for email in email_data:\n",
        "    print(f\"📩 **From:** {email['From email']}\")\n",
        "    print(f\"📩 **Tiêu đề:** {email['subject']}\")\n",
        "    print(f\"📜 **Nội dung:** {email['body']}...\")"
      ]
    },
    {
      "cell_type": "code",
      "execution_count": null,
      "metadata": {
        "colab": {
          "base_uri": "https://localhost:8080/",
          "height": 109
        },
        "id": "WPIPaAIvyBl-",
        "outputId": "470e6d94-aa7b-4de1-a3ca-e744393a171b"
      },
      "outputs": [
        {
          "output_type": "stream",
          "name": "stdout",
          "text": [
            "Drive already mounted at /content/drive; to attempt to forcibly remount, call drive.mount(\"/content/drive\", force_remount=True).\n"
          ]
        },
        {
          "output_type": "display_data",
          "data": {
            "text/plain": [
              "<IPython.core.display.HTML object>"
            ],
            "text/html": [
              "\n",
              "     <input type=\"file\" id=\"files-17766fc6-4371-4a2d-b372-eb51cdf10118\" name=\"files[]\" multiple disabled\n",
              "        style=\"border:none\" />\n",
              "     <output id=\"result-17766fc6-4371-4a2d-b372-eb51cdf10118\">\n",
              "      Upload widget is only available when the cell has been executed in the\n",
              "      current browser session. Please rerun this cell to enable.\n",
              "      </output>\n",
              "      <script>// Copyright 2017 Google LLC\n",
              "//\n",
              "// Licensed under the Apache License, Version 2.0 (the \"License\");\n",
              "// you may not use this file except in compliance with the License.\n",
              "// You may obtain a copy of the License at\n",
              "//\n",
              "//      http://www.apache.org/licenses/LICENSE-2.0\n",
              "//\n",
              "// Unless required by applicable law or agreed to in writing, software\n",
              "// distributed under the License is distributed on an \"AS IS\" BASIS,\n",
              "// WITHOUT WARRANTIES OR CONDITIONS OF ANY KIND, either express or implied.\n",
              "// See the License for the specific language governing permissions and\n",
              "// limitations under the License.\n",
              "\n",
              "/**\n",
              " * @fileoverview Helpers for google.colab Python module.\n",
              " */\n",
              "(function(scope) {\n",
              "function span(text, styleAttributes = {}) {\n",
              "  const element = document.createElement('span');\n",
              "  element.textContent = text;\n",
              "  for (const key of Object.keys(styleAttributes)) {\n",
              "    element.style[key] = styleAttributes[key];\n",
              "  }\n",
              "  return element;\n",
              "}\n",
              "\n",
              "// Max number of bytes which will be uploaded at a time.\n",
              "const MAX_PAYLOAD_SIZE = 100 * 1024;\n",
              "\n",
              "function _uploadFiles(inputId, outputId) {\n",
              "  const steps = uploadFilesStep(inputId, outputId);\n",
              "  const outputElement = document.getElementById(outputId);\n",
              "  // Cache steps on the outputElement to make it available for the next call\n",
              "  // to uploadFilesContinue from Python.\n",
              "  outputElement.steps = steps;\n",
              "\n",
              "  return _uploadFilesContinue(outputId);\n",
              "}\n",
              "\n",
              "// This is roughly an async generator (not supported in the browser yet),\n",
              "// where there are multiple asynchronous steps and the Python side is going\n",
              "// to poll for completion of each step.\n",
              "// This uses a Promise to block the python side on completion of each step,\n",
              "// then passes the result of the previous step as the input to the next step.\n",
              "function _uploadFilesContinue(outputId) {\n",
              "  const outputElement = document.getElementById(outputId);\n",
              "  const steps = outputElement.steps;\n",
              "\n",
              "  const next = steps.next(outputElement.lastPromiseValue);\n",
              "  return Promise.resolve(next.value.promise).then((value) => {\n",
              "    // Cache the last promise value to make it available to the next\n",
              "    // step of the generator.\n",
              "    outputElement.lastPromiseValue = value;\n",
              "    return next.value.response;\n",
              "  });\n",
              "}\n",
              "\n",
              "/**\n",
              " * Generator function which is called between each async step of the upload\n",
              " * process.\n",
              " * @param {string} inputId Element ID of the input file picker element.\n",
              " * @param {string} outputId Element ID of the output display.\n",
              " * @return {!Iterable<!Object>} Iterable of next steps.\n",
              " */\n",
              "function* uploadFilesStep(inputId, outputId) {\n",
              "  const inputElement = document.getElementById(inputId);\n",
              "  inputElement.disabled = false;\n",
              "\n",
              "  const outputElement = document.getElementById(outputId);\n",
              "  outputElement.innerHTML = '';\n",
              "\n",
              "  const pickedPromise = new Promise((resolve) => {\n",
              "    inputElement.addEventListener('change', (e) => {\n",
              "      resolve(e.target.files);\n",
              "    });\n",
              "  });\n",
              "\n",
              "  const cancel = document.createElement('button');\n",
              "  inputElement.parentElement.appendChild(cancel);\n",
              "  cancel.textContent = 'Cancel upload';\n",
              "  const cancelPromise = new Promise((resolve) => {\n",
              "    cancel.onclick = () => {\n",
              "      resolve(null);\n",
              "    };\n",
              "  });\n",
              "\n",
              "  // Wait for the user to pick the files.\n",
              "  const files = yield {\n",
              "    promise: Promise.race([pickedPromise, cancelPromise]),\n",
              "    response: {\n",
              "      action: 'starting',\n",
              "    }\n",
              "  };\n",
              "\n",
              "  cancel.remove();\n",
              "\n",
              "  // Disable the input element since further picks are not allowed.\n",
              "  inputElement.disabled = true;\n",
              "\n",
              "  if (!files) {\n",
              "    return {\n",
              "      response: {\n",
              "        action: 'complete',\n",
              "      }\n",
              "    };\n",
              "  }\n",
              "\n",
              "  for (const file of files) {\n",
              "    const li = document.createElement('li');\n",
              "    li.append(span(file.name, {fontWeight: 'bold'}));\n",
              "    li.append(span(\n",
              "        `(${file.type || 'n/a'}) - ${file.size} bytes, ` +\n",
              "        `last modified: ${\n",
              "            file.lastModifiedDate ? file.lastModifiedDate.toLocaleDateString() :\n",
              "                                    'n/a'} - `));\n",
              "    const percent = span('0% done');\n",
              "    li.appendChild(percent);\n",
              "\n",
              "    outputElement.appendChild(li);\n",
              "\n",
              "    const fileDataPromise = new Promise((resolve) => {\n",
              "      const reader = new FileReader();\n",
              "      reader.onload = (e) => {\n",
              "        resolve(e.target.result);\n",
              "      };\n",
              "      reader.readAsArrayBuffer(file);\n",
              "    });\n",
              "    // Wait for the data to be ready.\n",
              "    let fileData = yield {\n",
              "      promise: fileDataPromise,\n",
              "      response: {\n",
              "        action: 'continue',\n",
              "      }\n",
              "    };\n",
              "\n",
              "    // Use a chunked sending to avoid message size limits. See b/62115660.\n",
              "    let position = 0;\n",
              "    do {\n",
              "      const length = Math.min(fileData.byteLength - position, MAX_PAYLOAD_SIZE);\n",
              "      const chunk = new Uint8Array(fileData, position, length);\n",
              "      position += length;\n",
              "\n",
              "      const base64 = btoa(String.fromCharCode.apply(null, chunk));\n",
              "      yield {\n",
              "        response: {\n",
              "          action: 'append',\n",
              "          file: file.name,\n",
              "          data: base64,\n",
              "        },\n",
              "      };\n",
              "\n",
              "      let percentDone = fileData.byteLength === 0 ?\n",
              "          100 :\n",
              "          Math.round((position / fileData.byteLength) * 100);\n",
              "      percent.textContent = `${percentDone}% done`;\n",
              "\n",
              "    } while (position < fileData.byteLength);\n",
              "  }\n",
              "\n",
              "  // All done.\n",
              "  yield {\n",
              "    response: {\n",
              "      action: 'complete',\n",
              "    }\n",
              "  };\n",
              "}\n",
              "\n",
              "scope.google = scope.google || {};\n",
              "scope.google.colab = scope.google.colab || {};\n",
              "scope.google.colab._files = {\n",
              "  _uploadFiles,\n",
              "  _uploadFilesContinue,\n",
              "};\n",
              "})(self);\n",
              "</script> "
            ]
          },
          "metadata": {}
        },
        {
          "output_type": "stream",
          "name": "stdout",
          "text": [
            "Saving API Key.env to API Key (1).env\n"
          ]
        }
      ],
      "source": [
        "from google.colab import drive\n",
        "drive.mount('/content/drive')\n",
        "\n",
        "from google.colab import files\n",
        "uploaded = files.upload()"
      ]
    },
    {
      "cell_type": "markdown",
      "metadata": {
        "id": "X2DncDjPTUqK"
      },
      "source": [
        "### **Summarize body mail**"
      ]
    },
    {
      "cell_type": "code",
      "execution_count": null,
      "metadata": {
        "id": "3mAOwEUiyBio"
      },
      "outputs": [],
      "source": [
        "import os\n",
        "from dotenv import load_dotenv\n",
        "import google.generativeai as genai\n",
        "\n",
        "load_dotenv(\"/content/API Key.env\")\n",
        "google_api_key = os.getenv('GEMINI_API_KEY')\n",
        "\n",
        "\n",
        "def generate_summary(body_mail):\n",
        "    system_prompt = f\"\"\"You are a professional email summarization assistant. Summarize the email content into three sections::\n",
        "    1. Main Purpose\n",
        "    2. Key Information\n",
        "\n",
        "    This mail: {body_mail}\n",
        "    \"\"\"\n",
        "\n",
        "    genai.configure(api_key=google_api_key)\n",
        "    model = genai.GenerativeModel(\"gemini-1.5-flash\")\n",
        "    response = model.generate_content(system_prompt)\n",
        "\n",
        "    return response.text"
      ]
    },
    {
      "cell_type": "code",
      "execution_count": null,
      "metadata": {
        "collapsed": true,
        "id": "bwNqpUtmyBgs"
      },
      "outputs": [],
      "source": [
        "for email in email_data:\n",
        "    summary = generate_summary(email[\"body\"])\n",
        "    print(f\"📩 **From:** {email['From email']}\")\n",
        "    print(f\"📩 **Tiêu đề:** {email['subject']}\")\n",
        "    print(f\"✅ **Tóm tắt:** {summary}\")\n",
        "    print(\"\\n\")\n",
        "\n",
        "    break"
      ]
    },
    {
      "cell_type": "code",
      "source": [
        "path = \"/content/drive/MyDrive/emails_output.txt\"\n",
        "\n",
        "with open(path, \"w\") as file:\n",
        "    for email in email_data:\n",
        "        summary = generate_summary(email[\"body\"])\n",
        "        mail = f\"\"\"\n",
        "            **From:** {email['From email']}\\n\n",
        "            **Title:** {email['subject']}\\n\n",
        "            **Body:** {summary}\\n\\n\"\"\"\n",
        "        file.write(mail)"
      ],
      "metadata": {
        "id": "4EfTCqvtpXrd"
      },
      "execution_count": null,
      "outputs": []
    },
    {
      "cell_type": "code",
      "source": [
        "with open(path, \"r\") as file:\n",
        "    content = file.read()\n",
        "    print(content)"
      ],
      "metadata": {
        "id": "CymQAvEApuW8"
      },
      "execution_count": null,
      "outputs": []
    },
    {
      "cell_type": "markdown",
      "metadata": {
        "id": "nTjMSJhdVGIS"
      },
      "source": [
        "### **Split chunk to vector and store to vectordata**"
      ]
    },
    {
      "cell_type": "code",
      "execution_count": null,
      "metadata": {
        "id": "B631dPR5MKOk",
        "collapsed": true
      },
      "outputs": [],
      "source": [
        "from langchain.document_loaders import TextLoader\n",
        "from langchain.schema import Document\n",
        "\n",
        "loader = TextLoader(\"/content/drive/MyDrive/emails_output.txt\")\n",
        "documents = loader.load()"
      ]
    },
    {
      "cell_type": "code",
      "source": [
        "from langchain.text_splitter import CharacterTextSplitter\n",
        "\n",
        "full_text = \"\\n\\n\".join(doc.page_content for doc in documents)\n",
        "text_splitter = CharacterTextSplitter(\n",
        "    chunk_size=1000,\n",
        "    chunk_overlap=100,\n",
        ")\n",
        "\n",
        "chunks = text_splitter.split_text(full_text)"
      ],
      "metadata": {
        "id": "0AhI4Q96jpqn"
      },
      "execution_count": null,
      "outputs": []
    },
    {
      "cell_type": "code",
      "source": [
        "final_chunks = []\n",
        "for chunk in chunks:\n",
        "    header_start = chunk.find(\"📩 **From:**\")\n",
        "    metadata = {\n",
        "        \"source\": \"emails_output.txt\",\n",
        "        \"email_header\": chunk[header_start:].split(\"\\n\")[0].split(\":\", 1)[1].strip() if header_start != -1 else None\n",
        "    }\n",
        "    final_chunks.append(Document(page_content=chunk, metadata=metadata))"
      ],
      "metadata": {
        "collapsed": true,
        "id": "4T_DCgx6_skl"
      },
      "execution_count": null,
      "outputs": []
    },
    {
      "cell_type": "code",
      "execution_count": null,
      "metadata": {
        "colab": {
          "base_uri": "https://localhost:8080/"
        },
        "id": "jA50qUo3KvGu",
        "outputId": "fc7d8e31-cec4-4f72-da2a-2f9221c64aab"
      },
      "outputs": [
        {
          "output_type": "stream",
          "name": "stdout",
          "text": [
            "There are 7 vectors with 1,536 dimensions in the loaded vector store\n"
          ]
        }
      ],
      "source": [
        "from langchain_openai import OpenAIEmbeddings\n",
        "from langchain.vectorstores import FAISS\n",
        "\n",
        "embeddings = OpenAIEmbeddings()\n",
        "vectorstore = FAISS.from_documents(final_chunks, embedding=embeddings)\n",
        "\n",
        "vectorstore.save_local(\"/content/drive/MyDrive/faiss_index\")\n",
        "\n",
        "loaded_vectorstore = FAISS.load_local(\"/content/drive/MyDrive/faiss_index\", embeddings, allow_dangerous_deserialization=True) # Use allow_dangerous_deserialization here instead\n",
        "\n",
        "total_vectors = loaded_vectorstore.index.ntotal\n",
        "dimensions = loaded_vectorstore.index.d\n",
        "print(f\"There are {total_vectors} vectors with {dimensions:,} dimensions in the loaded vector store\")"
      ]
    },
    {
      "cell_type": "markdown",
      "metadata": {
        "id": "o0jY38nmFDuu"
      },
      "source": [
        "### **Response body mail related to query**"
      ]
    },
    {
      "cell_type": "code",
      "execution_count": null,
      "metadata": {
        "collapsed": true,
        "id": "8EXc_PYAyBRv"
      },
      "outputs": [],
      "source": [
        "from langchain_core.callbacks import StdOutCallbackHandler\n",
        "from langchain.memory import ConversationBufferMemory\n",
        "from langchain.chains import ConversationalRetrievalChain\n",
        "\n",
        "def query_vector_db(query):\n",
        "    llm = ChatOpenAI(model_name=\"gpt-4o\", temperature=0.5)\n",
        "\n",
        "    memory = ConversationBufferMemory(memory_key=\"chat_history\", return_messages=True)\n",
        "\n",
        "    retriever = vectorstore.as_retriever()\n",
        "\n",
        "    qa = ConversationalRetrievalChain.from_llm(llm, retriever, memory=memory, callbacks=[StdOutCallbackHandler()])\n",
        "\n",
        "    result = qa.invoke({\"question\": query})\n",
        "    return result"
      ]
    },
    {
      "cell_type": "code",
      "execution_count": null,
      "metadata": {
        "collapsed": true,
        "id": "DcebvnJJyBMt"
      },
      "outputs": [],
      "source": [
        "bodymail_relate = query_vector_db(\"List all emails about AI, and return email & body\")"
      ]
    },
    {
      "cell_type": "code",
      "execution_count": null,
      "metadata": {
        "collapsed": true,
        "id": "2S-jtHu1eb6h"
      },
      "outputs": [],
      "source": [
        "bodymail_relate[\"answer\"]"
      ]
    },
    {
      "cell_type": "code",
      "source": [
        "import re\n",
        "\n",
        "def extract_body_mail(text):\n",
        "    email_entries = re.split(r\"\\n\\n(?=\\d+\\. \\*\\*From:\\*\\*)\", text.strip())\n",
        "\n",
        "    dictt_email_body = {}\n",
        "\n",
        "    for entry in email_entries:\n",
        "        from_match = re.search(r\"\\*\\*From:\\*\\* (.*)\", entry)\n",
        "        body_match = re.search(r\"\\*\\*Body:\\*\\* (.*)\", entry, re.DOTALL)\n",
        "\n",
        "        if from_match and body_match:\n",
        "            sender = from_match.group(1).strip()\n",
        "            body = body_match.group(1).strip()\n",
        "\n",
        "            print(\"From:\", sender)\n",
        "            print(\"Body:\", body)\n",
        "            print(\"------\")\n",
        "\n",
        "            dictt_email_body[sender] = body\n",
        "\n",
        "    return dictt_email_body\n",
        "\n",
        "extract_body_mail(bodymail_relate[\"answer\"])"
      ],
      "metadata": {
        "id": "i4Duh-8tQ7V7"
      },
      "execution_count": null,
      "outputs": []
    },
    {
      "cell_type": "markdown",
      "metadata": {
        "id": "pKQaTi2CV2PN"
      },
      "source": [
        "### **Create an Automatic Reply**"
      ]
    },
    {
      "cell_type": "code",
      "execution_count": null,
      "metadata": {
        "id": "2ve47Nu7_Nyf"
      },
      "outputs": [],
      "source": [
        "from langchain_openai import ChatOpenAI\n",
        "\n",
        "def generate_auto_reply(email_sender_name, email_body):\n",
        "    llm = ChatOpenAI(model_name=\"gpt-3.5-turbo\", temperature=0.7)\n",
        "    prompt = f\"\"\"\n",
        "    You are a professional virtual assistant named **Huynh Minh Tam**.\n",
        "    Please create a short and polite email response based on the following content:\n",
        "\n",
        "    - Sender: {email_sender_name}\n",
        "    - Email content: {email_body}\n",
        "\n",
        "    Your response should:\n",
        "    1. Address the sender by their name (if available).\n",
        "    2. Be concise and professional.\n",
        "    3. Sign off with your name: **Huynh Minh Tam**.\n",
        "\n",
        "    Response:\n",
        "    \"\"\"\n",
        "    response = llm.invoke(prompt)\n",
        "    return response.content\n",
        "\n",
        "\n",
        "def save_auto_replies(filename):\n",
        "    with open(filename, \"w\", encoding=\"utf-8\") as file:\n",
        "        for sender_name, body_mail in extract_body_mail(bodymail_relate[\"answer\"]).items():\n",
        "            auto_reply = generate_auto_reply(sender_name, body_mail)\n",
        "            file.write(f\"To: {sender_name}\\n\")\n",
        "            file.write(f\"From: Huynh Minh Tam <nu330006@gmail.com>\\n\")\n",
        "            file.write(f\"Auto-reply: {auto_reply}\\n\")\n",
        "            file.write(\"------\\n\")\n",
        "\n",
        "\n",
        "save_auto_replies(\"/content/auto_replies.txt\")"
      ]
    },
    {
      "cell_type": "code",
      "source": [
        "import smtplib\n",
        "from email.mime.text import MIMEText\n",
        "from email.mime.multipart import MIMEMultipart\n",
        "\n",
        "def send_email(sender_email, receiver_email, subject, body, smtp_server, smtp_port, smtp_username, smtp_password):\n",
        "    msg = MIMEMultipart()\n",
        "    msg[\"From\"] = sender_email\n",
        "    msg[\"To\"] = receiver_email\n",
        "    msg[\"Subject\"] = subject\n",
        "    msg.attach(MIMEText(body, \"plain\"))\n",
        "\n",
        "    try:\n",
        "        with smtplib.SMTP(smtp_server, smtp_port) as server:\n",
        "            server.starttls()\n",
        "            server.login(smtp_username, smtp_password)\n",
        "            server.send_message(msg)\n",
        "        print(f\"Email sent to {receiver_email}\")\n",
        "    except Exception as e:\n",
        "        print(f\"Failed to send email to {receiver_email}: {e}\")\n",
        "\n",
        "\n",
        "smtp_server = \"smtp.gmail.com\"\n",
        "smtp_port = 587\n",
        "smtp_username = \"nu330006@gmail.com\"\n",
        "smtp_password = \"kund pbor krgm rzhx\"\n",
        "\n",
        "\n",
        "def send_auto_replies_from_file(filename):\n",
        "    with open(filename, \"r\", encoding=\"utf-8\") as file:\n",
        "        content = file.read()\n",
        "\n",
        "    replies = content.split(\"------\")\n",
        "\n",
        "    for reply in replies:\n",
        "        if not reply.strip():\n",
        "            continue\n",
        "\n",
        "        to_match = re.search(r\"To: (.*)\", reply)\n",
        "        from_match = re.search(r\"From: (.*)\", reply)\n",
        "        subject_match = re.search(r\"Subject: (.*)\", reply)\n",
        "        body_match = re.search(r\"Auto-reply: (.*)\", reply, re.DOTALL)\n",
        "\n",
        "        if to_match and from_match and body_match:\n",
        "            receiver_email = to_match.group(1).strip()\n",
        "            sender_email = from_match.group(1).strip()\n",
        "            subject = subject_match.group(1).strip() if subject_match else \"Auto-reply: Thank you for your email\"\n",
        "            body = body_match.group(1).strip()\n",
        "\n",
        "            send_email(\n",
        "                sender_email=sender_email,\n",
        "                receiver_email=receiver_email,\n",
        "                subject=subject,\n",
        "                body=body,\n",
        "                smtp_server=smtp_server,\n",
        "                smtp_port=smtp_port,\n",
        "                smtp_username=smtp_username,\n",
        "                smtp_password=smtp_password\n",
        "            )\n",
        "\n",
        "send_auto_replies_from_file(\"/content/auto_replies.txt\")"
      ],
      "metadata": {
        "colab": {
          "base_uri": "https://localhost:8080/"
        },
        "id": "sJCiIvVgfNKd",
        "outputId": "addbf3c7-3e0d-4c9f-ed1d-dbc5c037f04d"
      },
      "execution_count": null,
      "outputs": [
        {
          "output_type": "stream",
          "name": "stdout",
          "text": [
            "Email sent to Cohere Team <hello@cohere.com>\n"
          ]
        }
      ]
    }
  ],
  "metadata": {
    "accelerator": "GPU",
    "colab": {
      "gpuType": "T4",
      "provenance": []
    },
    "kernelspec": {
      "display_name": "Python 3",
      "name": "python3"
    },
    "language_info": {
      "name": "python"
    }
  },
  "nbformat": 4,
  "nbformat_minor": 0
}