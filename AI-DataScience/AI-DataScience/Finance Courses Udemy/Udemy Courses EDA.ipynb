{
 "cells": [
  {
   "cell_type": "code",
   "execution_count": 77,
   "id": "11cdbacd",
   "metadata": {},
   "outputs": [
    {
     "data": {
      "text/plain": [
       "<Figure size 640x480 with 0 Axes>"
      ]
     },
     "metadata": {},
     "output_type": "display_data"
    }
   ],
   "source": [
    "import datetime\n",
    "\n",
    "import sklearn\n",
    "from sklearn.model_selection import train_test_split\n",
    "from sklearn.linear_model import LinearRegression\n",
    "\n",
    "import numpy as np\n",
    "import pandas as pd\n",
    "import seaborn as sns\n",
    "sns.set_style(\"whitegrid\")\n",
    "sns.despine()\n",
    "\n",
    "import matplotlib.pyplot as plt\n",
    "\n",
    "import plotly.graph_objects as go\n",
    "import plotly.express as px\n",
    "from plotly.subplots import make_subplots\n",
    "\n",
    "from jupyterthemes import get_themes\n",
    "import jupyterthemes as jt\n",
    "from jupyterthemes.stylefx import set_nb_theme\n",
    "# set_nb_theme('onedrk')"
   ]
  },
  {
   "cell_type": "code",
   "execution_count": null,
   "id": "1b11bc62",
   "metadata": {},
   "outputs": [],
   "source": [
    "<font color='green'>toi yeu ban</font>"
   ]
  },
  {
   "cell_type": "markdown",
   "id": "a4aed86f",
   "metadata": {},
   "source": [
    "<h2 style = \"color:black; background:lightgreen\"> Reading data </h2>"
   ]
  },
  {
   "cell_type": "code",
   "execution_count": 2,
   "id": "cd0a07bb",
   "metadata": {
    "scrolled": true
   },
   "outputs": [
    {
     "data": {
      "text/html": [
       "<div>\n",
       "<style scoped>\n",
       "    .dataframe tbody tr th:only-of-type {\n",
       "        vertical-align: middle;\n",
       "    }\n",
       "\n",
       "    .dataframe tbody tr th {\n",
       "        vertical-align: top;\n",
       "    }\n",
       "\n",
       "    .dataframe thead th {\n",
       "        text-align: right;\n",
       "    }\n",
       "</style>\n",
       "<table border=\"1\" class=\"dataframe\">\n",
       "  <thead>\n",
       "    <tr style=\"text-align: right;\">\n",
       "      <th></th>\n",
       "      <th>id</th>\n",
       "      <th>title</th>\n",
       "      <th>url</th>\n",
       "      <th>is_paid</th>\n",
       "      <th>num_subscribers</th>\n",
       "      <th>avg_rating</th>\n",
       "      <th>avg_rating_recent</th>\n",
       "      <th>rating</th>\n",
       "      <th>num_reviews</th>\n",
       "      <th>is_wishlisted</th>\n",
       "      <th>num_published_lectures</th>\n",
       "      <th>num_published_practice_tests</th>\n",
       "      <th>created</th>\n",
       "      <th>published_time</th>\n",
       "      <th>discount_price__amount</th>\n",
       "      <th>discount_price__currency</th>\n",
       "      <th>discount_price__price_string</th>\n",
       "      <th>price_detail__amount</th>\n",
       "      <th>price_detail__currency</th>\n",
       "      <th>price_detail__price_string</th>\n",
       "    </tr>\n",
       "  </thead>\n",
       "  <tbody>\n",
       "    <tr>\n",
       "      <th>0</th>\n",
       "      <td>762616</td>\n",
       "      <td>The Complete SQL Bootcamp 2020: Go from Zero t...</td>\n",
       "      <td>/course/the-complete-sql-bootcamp/</td>\n",
       "      <td>True</td>\n",
       "      <td>295509</td>\n",
       "      <td>4.66019</td>\n",
       "      <td>4.67874</td>\n",
       "      <td>4.67874</td>\n",
       "      <td>78006</td>\n",
       "      <td>False</td>\n",
       "      <td>84</td>\n",
       "      <td>0</td>\n",
       "      <td>2016-02-14T22:57:48Z</td>\n",
       "      <td>2016-04-06T05:16:11Z</td>\n",
       "      <td>455.0</td>\n",
       "      <td>INR</td>\n",
       "      <td>₹455</td>\n",
       "      <td>8640.0</td>\n",
       "      <td>INR</td>\n",
       "      <td>₹8,640</td>\n",
       "    </tr>\n",
       "    <tr>\n",
       "      <th>1</th>\n",
       "      <td>937678</td>\n",
       "      <td>Tableau 2020 A-Z: Hands-On Tableau Training fo...</td>\n",
       "      <td>/course/tableau10/</td>\n",
       "      <td>True</td>\n",
       "      <td>209070</td>\n",
       "      <td>4.58956</td>\n",
       "      <td>4.60015</td>\n",
       "      <td>4.60015</td>\n",
       "      <td>54581</td>\n",
       "      <td>False</td>\n",
       "      <td>78</td>\n",
       "      <td>0</td>\n",
       "      <td>2016-08-22T12:10:18Z</td>\n",
       "      <td>2016-08-23T16:59:49Z</td>\n",
       "      <td>455.0</td>\n",
       "      <td>INR</td>\n",
       "      <td>₹455</td>\n",
       "      <td>8640.0</td>\n",
       "      <td>INR</td>\n",
       "      <td>₹8,640</td>\n",
       "    </tr>\n",
       "    <tr>\n",
       "      <th>2</th>\n",
       "      <td>1361790</td>\n",
       "      <td>PMP Exam Prep Seminar -  PMBOK Guide 6</td>\n",
       "      <td>/course/pmp-pmbok6-35-pdus/</td>\n",
       "      <td>True</td>\n",
       "      <td>155282</td>\n",
       "      <td>4.59491</td>\n",
       "      <td>4.59326</td>\n",
       "      <td>4.59326</td>\n",
       "      <td>52653</td>\n",
       "      <td>False</td>\n",
       "      <td>292</td>\n",
       "      <td>2</td>\n",
       "      <td>2017-09-26T16:32:48Z</td>\n",
       "      <td>2017-11-14T23:58:14Z</td>\n",
       "      <td>455.0</td>\n",
       "      <td>INR</td>\n",
       "      <td>₹455</td>\n",
       "      <td>8640.0</td>\n",
       "      <td>INR</td>\n",
       "      <td>₹8,640</td>\n",
       "    </tr>\n",
       "    <tr>\n",
       "      <th>3</th>\n",
       "      <td>648826</td>\n",
       "      <td>The Complete Financial Analyst Course 2020</td>\n",
       "      <td>/course/the-complete-financial-analyst-course/</td>\n",
       "      <td>True</td>\n",
       "      <td>245860</td>\n",
       "      <td>4.54407</td>\n",
       "      <td>4.53772</td>\n",
       "      <td>4.53772</td>\n",
       "      <td>46447</td>\n",
       "      <td>False</td>\n",
       "      <td>338</td>\n",
       "      <td>0</td>\n",
       "      <td>2015-10-23T13:34:35Z</td>\n",
       "      <td>2016-01-21T01:38:48Z</td>\n",
       "      <td>455.0</td>\n",
       "      <td>INR</td>\n",
       "      <td>₹455</td>\n",
       "      <td>8640.0</td>\n",
       "      <td>INR</td>\n",
       "      <td>₹8,640</td>\n",
       "    </tr>\n",
       "    <tr>\n",
       "      <th>4</th>\n",
       "      <td>637930</td>\n",
       "      <td>An Entire MBA in 1 Course:Award Winning Busine...</td>\n",
       "      <td>/course/an-entire-mba-in-1-courseaward-winning...</td>\n",
       "      <td>True</td>\n",
       "      <td>374836</td>\n",
       "      <td>4.47080</td>\n",
       "      <td>4.47173</td>\n",
       "      <td>4.47173</td>\n",
       "      <td>41630</td>\n",
       "      <td>False</td>\n",
       "      <td>83</td>\n",
       "      <td>0</td>\n",
       "      <td>2015-10-12T06:39:46Z</td>\n",
       "      <td>2016-01-11T21:39:33Z</td>\n",
       "      <td>455.0</td>\n",
       "      <td>INR</td>\n",
       "      <td>₹455</td>\n",
       "      <td>8640.0</td>\n",
       "      <td>INR</td>\n",
       "      <td>₹8,640</td>\n",
       "    </tr>\n",
       "    <tr>\n",
       "      <th>...</th>\n",
       "      <td>...</td>\n",
       "      <td>...</td>\n",
       "      <td>...</td>\n",
       "      <td>...</td>\n",
       "      <td>...</td>\n",
       "      <td>...</td>\n",
       "      <td>...</td>\n",
       "      <td>...</td>\n",
       "      <td>...</td>\n",
       "      <td>...</td>\n",
       "      <td>...</td>\n",
       "      <td>...</td>\n",
       "      <td>...</td>\n",
       "      <td>...</td>\n",
       "      <td>...</td>\n",
       "      <td>...</td>\n",
       "      <td>...</td>\n",
       "      <td>...</td>\n",
       "      <td>...</td>\n",
       "      <td>...</td>\n",
       "    </tr>\n",
       "    <tr>\n",
       "      <th>13603</th>\n",
       "      <td>3005408</td>\n",
       "      <td>מושגים בסיסיים באופציות חלק ב</td>\n",
       "      <td>/course/1-ndgzhu/</td>\n",
       "      <td>False</td>\n",
       "      <td>47</td>\n",
       "      <td>0.00000</td>\n",
       "      <td>0.00000</td>\n",
       "      <td>0.00000</td>\n",
       "      <td>0</td>\n",
       "      <td>False</td>\n",
       "      <td>6</td>\n",
       "      <td>0</td>\n",
       "      <td>2020-04-15T10:20:17Z</td>\n",
       "      <td>2020-04-23T02:06:55Z</td>\n",
       "      <td>NaN</td>\n",
       "      <td>NaN</td>\n",
       "      <td>NaN</td>\n",
       "      <td>NaN</td>\n",
       "      <td>NaN</td>\n",
       "      <td>NaN</td>\n",
       "    </tr>\n",
       "    <tr>\n",
       "      <th>13604</th>\n",
       "      <td>3467284</td>\n",
       "      <td>Programa de Integridade</td>\n",
       "      <td>/course/iaudit_programa_de_integridade/</td>\n",
       "      <td>False</td>\n",
       "      <td>19</td>\n",
       "      <td>0.00000</td>\n",
       "      <td>0.00000</td>\n",
       "      <td>0.00000</td>\n",
       "      <td>0</td>\n",
       "      <td>False</td>\n",
       "      <td>5</td>\n",
       "      <td>0</td>\n",
       "      <td>2020-09-01T17:57:15Z</td>\n",
       "      <td>2020-09-03T15:26:47Z</td>\n",
       "      <td>NaN</td>\n",
       "      <td>NaN</td>\n",
       "      <td>NaN</td>\n",
       "      <td>NaN</td>\n",
       "      <td>NaN</td>\n",
       "      <td>NaN</td>\n",
       "    </tr>\n",
       "    <tr>\n",
       "      <th>13605</th>\n",
       "      <td>3368222</td>\n",
       "      <td>Goodwill and Method of Calculating Goodwill (A...</td>\n",
       "      <td>/course/goodwill-and-method-of-calculating-goo...</td>\n",
       "      <td>False</td>\n",
       "      <td>47</td>\n",
       "      <td>0.00000</td>\n",
       "      <td>0.00000</td>\n",
       "      <td>0.00000</td>\n",
       "      <td>0</td>\n",
       "      <td>False</td>\n",
       "      <td>5</td>\n",
       "      <td>0</td>\n",
       "      <td>2020-07-27T02:29:18Z</td>\n",
       "      <td>2020-07-31T12:14:40Z</td>\n",
       "      <td>NaN</td>\n",
       "      <td>NaN</td>\n",
       "      <td>NaN</td>\n",
       "      <td>NaN</td>\n",
       "      <td>NaN</td>\n",
       "      <td>NaN</td>\n",
       "    </tr>\n",
       "    <tr>\n",
       "      <th>13606</th>\n",
       "      <td>3211345</td>\n",
       "      <td>Poderoso Investidor</td>\n",
       "      <td>/course/poderoso-investidor/</td>\n",
       "      <td>False</td>\n",
       "      <td>48</td>\n",
       "      <td>0.00000</td>\n",
       "      <td>0.00000</td>\n",
       "      <td>0.00000</td>\n",
       "      <td>0</td>\n",
       "      <td>False</td>\n",
       "      <td>13</td>\n",
       "      <td>0</td>\n",
       "      <td>2020-06-07T01:29:53Z</td>\n",
       "      <td>2020-07-15T10:35:38Z</td>\n",
       "      <td>NaN</td>\n",
       "      <td>NaN</td>\n",
       "      <td>NaN</td>\n",
       "      <td>NaN</td>\n",
       "      <td>NaN</td>\n",
       "      <td>NaN</td>\n",
       "    </tr>\n",
       "    <tr>\n",
       "      <th>13607</th>\n",
       "      <td>2935720</td>\n",
       "      <td>Acabou a Previdência e agora? -  Volume 03</td>\n",
       "      <td>/course/acabou-a-previdencia-e-agora-volume-03/</td>\n",
       "      <td>True</td>\n",
       "      <td>0</td>\n",
       "      <td>0.00000</td>\n",
       "      <td>0.00000</td>\n",
       "      <td>0.00000</td>\n",
       "      <td>0</td>\n",
       "      <td>False</td>\n",
       "      <td>14</td>\n",
       "      <td>0</td>\n",
       "      <td>2020-03-30T19:10:58Z</td>\n",
       "      <td>2020-04-02T16:33:32Z</td>\n",
       "      <td>NaN</td>\n",
       "      <td>NaN</td>\n",
       "      <td>NaN</td>\n",
       "      <td>NaN</td>\n",
       "      <td>NaN</td>\n",
       "      <td>NaN</td>\n",
       "    </tr>\n",
       "  </tbody>\n",
       "</table>\n",
       "<p>13608 rows × 20 columns</p>\n",
       "</div>"
      ],
      "text/plain": [
       "            id                                              title  \\\n",
       "0       762616  The Complete SQL Bootcamp 2020: Go from Zero t...   \n",
       "1       937678  Tableau 2020 A-Z: Hands-On Tableau Training fo...   \n",
       "2      1361790             PMP Exam Prep Seminar -  PMBOK Guide 6   \n",
       "3       648826         The Complete Financial Analyst Course 2020   \n",
       "4       637930  An Entire MBA in 1 Course:Award Winning Busine...   \n",
       "...        ...                                                ...   \n",
       "13603  3005408                      מושגים בסיסיים באופציות חלק ב   \n",
       "13604  3467284                            Programa de Integridade   \n",
       "13605  3368222  Goodwill and Method of Calculating Goodwill (A...   \n",
       "13606  3211345                                Poderoso Investidor   \n",
       "13607  2935720         Acabou a Previdência e agora? -  Volume 03   \n",
       "\n",
       "                                                     url  is_paid  \\\n",
       "0                     /course/the-complete-sql-bootcamp/     True   \n",
       "1                                     /course/tableau10/     True   \n",
       "2                            /course/pmp-pmbok6-35-pdus/     True   \n",
       "3         /course/the-complete-financial-analyst-course/     True   \n",
       "4      /course/an-entire-mba-in-1-courseaward-winning...     True   \n",
       "...                                                  ...      ...   \n",
       "13603                                  /course/1-ndgzhu/    False   \n",
       "13604            /course/iaudit_programa_de_integridade/    False   \n",
       "13605  /course/goodwill-and-method-of-calculating-goo...    False   \n",
       "13606                       /course/poderoso-investidor/    False   \n",
       "13607    /course/acabou-a-previdencia-e-agora-volume-03/     True   \n",
       "\n",
       "       num_subscribers  avg_rating  avg_rating_recent   rating  num_reviews  \\\n",
       "0               295509     4.66019            4.67874  4.67874        78006   \n",
       "1               209070     4.58956            4.60015  4.60015        54581   \n",
       "2               155282     4.59491            4.59326  4.59326        52653   \n",
       "3               245860     4.54407            4.53772  4.53772        46447   \n",
       "4               374836     4.47080            4.47173  4.47173        41630   \n",
       "...                ...         ...                ...      ...          ...   \n",
       "13603               47     0.00000            0.00000  0.00000            0   \n",
       "13604               19     0.00000            0.00000  0.00000            0   \n",
       "13605               47     0.00000            0.00000  0.00000            0   \n",
       "13606               48     0.00000            0.00000  0.00000            0   \n",
       "13607                0     0.00000            0.00000  0.00000            0   \n",
       "\n",
       "       is_wishlisted  num_published_lectures  num_published_practice_tests  \\\n",
       "0              False                      84                             0   \n",
       "1              False                      78                             0   \n",
       "2              False                     292                             2   \n",
       "3              False                     338                             0   \n",
       "4              False                      83                             0   \n",
       "...              ...                     ...                           ...   \n",
       "13603          False                       6                             0   \n",
       "13604          False                       5                             0   \n",
       "13605          False                       5                             0   \n",
       "13606          False                      13                             0   \n",
       "13607          False                      14                             0   \n",
       "\n",
       "                    created        published_time  discount_price__amount  \\\n",
       "0      2016-02-14T22:57:48Z  2016-04-06T05:16:11Z                   455.0   \n",
       "1      2016-08-22T12:10:18Z  2016-08-23T16:59:49Z                   455.0   \n",
       "2      2017-09-26T16:32:48Z  2017-11-14T23:58:14Z                   455.0   \n",
       "3      2015-10-23T13:34:35Z  2016-01-21T01:38:48Z                   455.0   \n",
       "4      2015-10-12T06:39:46Z  2016-01-11T21:39:33Z                   455.0   \n",
       "...                     ...                   ...                     ...   \n",
       "13603  2020-04-15T10:20:17Z  2020-04-23T02:06:55Z                     NaN   \n",
       "13604  2020-09-01T17:57:15Z  2020-09-03T15:26:47Z                     NaN   \n",
       "13605  2020-07-27T02:29:18Z  2020-07-31T12:14:40Z                     NaN   \n",
       "13606  2020-06-07T01:29:53Z  2020-07-15T10:35:38Z                     NaN   \n",
       "13607  2020-03-30T19:10:58Z  2020-04-02T16:33:32Z                     NaN   \n",
       "\n",
       "      discount_price__currency discount_price__price_string  \\\n",
       "0                          INR                         ₹455   \n",
       "1                          INR                         ₹455   \n",
       "2                          INR                         ₹455   \n",
       "3                          INR                         ₹455   \n",
       "4                          INR                         ₹455   \n",
       "...                        ...                          ...   \n",
       "13603                      NaN                          NaN   \n",
       "13604                      NaN                          NaN   \n",
       "13605                      NaN                          NaN   \n",
       "13606                      NaN                          NaN   \n",
       "13607                      NaN                          NaN   \n",
       "\n",
       "       price_detail__amount price_detail__currency price_detail__price_string  \n",
       "0                    8640.0                    INR                     ₹8,640  \n",
       "1                    8640.0                    INR                     ₹8,640  \n",
       "2                    8640.0                    INR                     ₹8,640  \n",
       "3                    8640.0                    INR                     ₹8,640  \n",
       "4                    8640.0                    INR                     ₹8,640  \n",
       "...                     ...                    ...                        ...  \n",
       "13603                   NaN                    NaN                        NaN  \n",
       "13604                   NaN                    NaN                        NaN  \n",
       "13605                   NaN                    NaN                        NaN  \n",
       "13606                   NaN                    NaN                        NaN  \n",
       "13607                   NaN                    NaN                        NaN  \n",
       "\n",
       "[13608 rows x 20 columns]"
      ]
     },
     "execution_count": 2,
     "metadata": {},
     "output_type": "execute_result"
    }
   ],
   "source": [
    "df = pd.read_csv(\"udemy_course.csv\")\n",
    "df"
   ]
  },
  {
   "cell_type": "code",
   "execution_count": 3,
   "id": "b2f7dd41",
   "metadata": {
    "scrolled": true
   },
   "outputs": [
    {
     "data": {
      "text/html": [
       "<div>\n",
       "<style scoped>\n",
       "    .dataframe tbody tr th:only-of-type {\n",
       "        vertical-align: middle;\n",
       "    }\n",
       "\n",
       "    .dataframe tbody tr th {\n",
       "        vertical-align: top;\n",
       "    }\n",
       "\n",
       "    .dataframe thead th {\n",
       "        text-align: right;\n",
       "    }\n",
       "</style>\n",
       "<table border=\"1\" class=\"dataframe\">\n",
       "  <thead>\n",
       "    <tr style=\"text-align: right;\">\n",
       "      <th></th>\n",
       "      <th>id</th>\n",
       "      <th>title</th>\n",
       "      <th>url</th>\n",
       "      <th>is_paid</th>\n",
       "      <th>num_subscribers</th>\n",
       "      <th>avg_rating</th>\n",
       "      <th>avg_rating_recent</th>\n",
       "      <th>rating</th>\n",
       "      <th>num_reviews</th>\n",
       "      <th>is_wishlisted</th>\n",
       "      <th>num_published_lectures</th>\n",
       "      <th>num_published_practice_tests</th>\n",
       "      <th>created</th>\n",
       "      <th>published_time</th>\n",
       "      <th>discount_price__amount</th>\n",
       "      <th>discount_price__currency</th>\n",
       "      <th>discount_price__price_string</th>\n",
       "      <th>price_detail__amount</th>\n",
       "      <th>price_detail__currency</th>\n",
       "      <th>price_detail__price_string</th>\n",
       "    </tr>\n",
       "  </thead>\n",
       "  <tbody>\n",
       "    <tr>\n",
       "      <th>0</th>\n",
       "      <td>762616</td>\n",
       "      <td>The Complete SQL Bootcamp 2020: Go from Zero t...</td>\n",
       "      <td>/course/the-complete-sql-bootcamp/</td>\n",
       "      <td>True</td>\n",
       "      <td>295509</td>\n",
       "      <td>4.66019</td>\n",
       "      <td>4.67874</td>\n",
       "      <td>4.67874</td>\n",
       "      <td>78006</td>\n",
       "      <td>False</td>\n",
       "      <td>84</td>\n",
       "      <td>0</td>\n",
       "      <td>2016-02-14T22:57:48Z</td>\n",
       "      <td>2016-04-06T05:16:11Z</td>\n",
       "      <td>455.0</td>\n",
       "      <td>INR</td>\n",
       "      <td>₹455</td>\n",
       "      <td>8640.0</td>\n",
       "      <td>INR</td>\n",
       "      <td>₹8,640</td>\n",
       "    </tr>\n",
       "    <tr>\n",
       "      <th>1</th>\n",
       "      <td>937678</td>\n",
       "      <td>Tableau 2020 A-Z: Hands-On Tableau Training fo...</td>\n",
       "      <td>/course/tableau10/</td>\n",
       "      <td>True</td>\n",
       "      <td>209070</td>\n",
       "      <td>4.58956</td>\n",
       "      <td>4.60015</td>\n",
       "      <td>4.60015</td>\n",
       "      <td>54581</td>\n",
       "      <td>False</td>\n",
       "      <td>78</td>\n",
       "      <td>0</td>\n",
       "      <td>2016-08-22T12:10:18Z</td>\n",
       "      <td>2016-08-23T16:59:49Z</td>\n",
       "      <td>455.0</td>\n",
       "      <td>INR</td>\n",
       "      <td>₹455</td>\n",
       "      <td>8640.0</td>\n",
       "      <td>INR</td>\n",
       "      <td>₹8,640</td>\n",
       "    </tr>\n",
       "    <tr>\n",
       "      <th>2</th>\n",
       "      <td>1361790</td>\n",
       "      <td>PMP Exam Prep Seminar -  PMBOK Guide 6</td>\n",
       "      <td>/course/pmp-pmbok6-35-pdus/</td>\n",
       "      <td>True</td>\n",
       "      <td>155282</td>\n",
       "      <td>4.59491</td>\n",
       "      <td>4.59326</td>\n",
       "      <td>4.59326</td>\n",
       "      <td>52653</td>\n",
       "      <td>False</td>\n",
       "      <td>292</td>\n",
       "      <td>2</td>\n",
       "      <td>2017-09-26T16:32:48Z</td>\n",
       "      <td>2017-11-14T23:58:14Z</td>\n",
       "      <td>455.0</td>\n",
       "      <td>INR</td>\n",
       "      <td>₹455</td>\n",
       "      <td>8640.0</td>\n",
       "      <td>INR</td>\n",
       "      <td>₹8,640</td>\n",
       "    </tr>\n",
       "    <tr>\n",
       "      <th>3</th>\n",
       "      <td>648826</td>\n",
       "      <td>The Complete Financial Analyst Course 2020</td>\n",
       "      <td>/course/the-complete-financial-analyst-course/</td>\n",
       "      <td>True</td>\n",
       "      <td>245860</td>\n",
       "      <td>4.54407</td>\n",
       "      <td>4.53772</td>\n",
       "      <td>4.53772</td>\n",
       "      <td>46447</td>\n",
       "      <td>False</td>\n",
       "      <td>338</td>\n",
       "      <td>0</td>\n",
       "      <td>2015-10-23T13:34:35Z</td>\n",
       "      <td>2016-01-21T01:38:48Z</td>\n",
       "      <td>455.0</td>\n",
       "      <td>INR</td>\n",
       "      <td>₹455</td>\n",
       "      <td>8640.0</td>\n",
       "      <td>INR</td>\n",
       "      <td>₹8,640</td>\n",
       "    </tr>\n",
       "    <tr>\n",
       "      <th>4</th>\n",
       "      <td>637930</td>\n",
       "      <td>An Entire MBA in 1 Course:Award Winning Busine...</td>\n",
       "      <td>/course/an-entire-mba-in-1-courseaward-winning...</td>\n",
       "      <td>True</td>\n",
       "      <td>374836</td>\n",
       "      <td>4.47080</td>\n",
       "      <td>4.47173</td>\n",
       "      <td>4.47173</td>\n",
       "      <td>41630</td>\n",
       "      <td>False</td>\n",
       "      <td>83</td>\n",
       "      <td>0</td>\n",
       "      <td>2015-10-12T06:39:46Z</td>\n",
       "      <td>2016-01-11T21:39:33Z</td>\n",
       "      <td>455.0</td>\n",
       "      <td>INR</td>\n",
       "      <td>₹455</td>\n",
       "      <td>8640.0</td>\n",
       "      <td>INR</td>\n",
       "      <td>₹8,640</td>\n",
       "    </tr>\n",
       "  </tbody>\n",
       "</table>\n",
       "</div>"
      ],
      "text/plain": [
       "        id                                              title  \\\n",
       "0   762616  The Complete SQL Bootcamp 2020: Go from Zero t...   \n",
       "1   937678  Tableau 2020 A-Z: Hands-On Tableau Training fo...   \n",
       "2  1361790             PMP Exam Prep Seminar -  PMBOK Guide 6   \n",
       "3   648826         The Complete Financial Analyst Course 2020   \n",
       "4   637930  An Entire MBA in 1 Course:Award Winning Busine...   \n",
       "\n",
       "                                                 url  is_paid  \\\n",
       "0                 /course/the-complete-sql-bootcamp/     True   \n",
       "1                                 /course/tableau10/     True   \n",
       "2                        /course/pmp-pmbok6-35-pdus/     True   \n",
       "3     /course/the-complete-financial-analyst-course/     True   \n",
       "4  /course/an-entire-mba-in-1-courseaward-winning...     True   \n",
       "\n",
       "   num_subscribers  avg_rating  avg_rating_recent   rating  num_reviews  \\\n",
       "0           295509     4.66019            4.67874  4.67874        78006   \n",
       "1           209070     4.58956            4.60015  4.60015        54581   \n",
       "2           155282     4.59491            4.59326  4.59326        52653   \n",
       "3           245860     4.54407            4.53772  4.53772        46447   \n",
       "4           374836     4.47080            4.47173  4.47173        41630   \n",
       "\n",
       "   is_wishlisted  num_published_lectures  num_published_practice_tests  \\\n",
       "0          False                      84                             0   \n",
       "1          False                      78                             0   \n",
       "2          False                     292                             2   \n",
       "3          False                     338                             0   \n",
       "4          False                      83                             0   \n",
       "\n",
       "                created        published_time  discount_price__amount  \\\n",
       "0  2016-02-14T22:57:48Z  2016-04-06T05:16:11Z                   455.0   \n",
       "1  2016-08-22T12:10:18Z  2016-08-23T16:59:49Z                   455.0   \n",
       "2  2017-09-26T16:32:48Z  2017-11-14T23:58:14Z                   455.0   \n",
       "3  2015-10-23T13:34:35Z  2016-01-21T01:38:48Z                   455.0   \n",
       "4  2015-10-12T06:39:46Z  2016-01-11T21:39:33Z                   455.0   \n",
       "\n",
       "  discount_price__currency discount_price__price_string  price_detail__amount  \\\n",
       "0                      INR                         ₹455                8640.0   \n",
       "1                      INR                         ₹455                8640.0   \n",
       "2                      INR                         ₹455                8640.0   \n",
       "3                      INR                         ₹455                8640.0   \n",
       "4                      INR                         ₹455                8640.0   \n",
       "\n",
       "  price_detail__currency price_detail__price_string  \n",
       "0                    INR                     ₹8,640  \n",
       "1                    INR                     ₹8,640  \n",
       "2                    INR                     ₹8,640  \n",
       "3                    INR                     ₹8,640  \n",
       "4                    INR                     ₹8,640  "
      ]
     },
     "execution_count": 3,
     "metadata": {},
     "output_type": "execute_result"
    }
   ],
   "source": [
    "df.head()"
   ]
  },
  {
   "cell_type": "markdown",
   "id": "08040332",
   "metadata": {},
   "source": [
    "<h2 style = \"color:black; background:lightgreen\"> Data cleaning </h2>"
   ]
  },
  {
   "cell_type": "code",
   "execution_count": 4,
   "id": "7f004153",
   "metadata": {},
   "outputs": [
    {
     "name": "stdout",
     "output_type": "stream",
     "text": [
      "(13608, 20)\n"
     ]
    }
   ],
   "source": [
    "print(df.shape)"
   ]
  },
  {
   "cell_type": "code",
   "execution_count": 5,
   "id": "b98e04ef",
   "metadata": {
    "scrolled": true
   },
   "outputs": [
    {
     "name": "stdout",
     "output_type": "stream",
     "text": [
      "<class 'pandas.core.frame.DataFrame'>\n",
      "RangeIndex: 13608 entries, 0 to 13607\n",
      "Data columns (total 20 columns):\n",
      " #   Column                        Non-Null Count  Dtype  \n",
      "---  ------                        --------------  -----  \n",
      " 0   id                            13608 non-null  int64  \n",
      " 1   title                         13608 non-null  object \n",
      " 2   url                           13608 non-null  object \n",
      " 3   is_paid                       13608 non-null  bool   \n",
      " 4   num_subscribers               13608 non-null  int64  \n",
      " 5   avg_rating                    13608 non-null  float64\n",
      " 6   avg_rating_recent             13608 non-null  float64\n",
      " 7   rating                        13608 non-null  float64\n",
      " 8   num_reviews                   13608 non-null  int64  \n",
      " 9   is_wishlisted                 13608 non-null  bool   \n",
      " 10  num_published_lectures        13608 non-null  int64  \n",
      " 11  num_published_practice_tests  13608 non-null  int64  \n",
      " 12  created                       13608 non-null  object \n",
      " 13  published_time                13608 non-null  object \n",
      " 14  discount_price__amount        12205 non-null  float64\n",
      " 15  discount_price__currency      12205 non-null  object \n",
      " 16  discount_price__price_string  12205 non-null  object \n",
      " 17  price_detail__amount          13111 non-null  float64\n",
      " 18  price_detail__currency        13111 non-null  object \n",
      " 19  price_detail__price_string    13111 non-null  object \n",
      "dtypes: bool(2), float64(5), int64(5), object(8)\n",
      "memory usage: 1.9+ MB\n"
     ]
    }
   ],
   "source": [
    "df.info()"
   ]
  },
  {
   "cell_type": "code",
   "execution_count": 137,
   "id": "18be2ad9",
   "metadata": {},
   "outputs": [
    {
     "data": {
      "text/html": [
       "<style type=\"text/css\">\n",
       "#T_72c87_row0_col0, #T_72c87_row1_col0, #T_72c87_row2_col0, #T_72c87_row2_col3, #T_72c87_row3_col0, #T_72c87_row3_col3, #T_72c87_row3_col7, #T_72c87_row4_col0, #T_72c87_row4_col3, #T_72c87_row4_col4, #T_72c87_row5_col0, #T_72c87_row5_col1, #T_72c87_row5_col3, #T_72c87_row5_col4, #T_72c87_row5_col5, #T_72c87_row5_col7, #T_72c87_row6_col0, #T_72c87_row6_col1, #T_72c87_row6_col3, #T_72c87_row6_col4, #T_72c87_row6_col5, #T_72c87_row6_col7 {\n",
       "  background-color: #f7fcf5;\n",
       "  color: #000000;\n",
       "}\n",
       "#T_72c87_row0_col1, #T_72c87_row0_col3, #T_72c87_row0_col4, #T_72c87_row0_col5, #T_72c87_row2_col7 {\n",
       "  background-color: #00441b;\n",
       "  color: #f1f1f1;\n",
       "}\n",
       "#T_72c87_row0_col2 {\n",
       "  background-color: #b1e0ab;\n",
       "  color: #000000;\n",
       "  width: 10em;\n",
       "  height: 80%;\n",
       "  background: linear-gradient(90deg,blue 32.3%, transparent 32.3%);\n",
       "}\n",
       "#T_72c87_row0_col6 {\n",
       "  background-color: #00441b;\n",
       "  color: #f1f1f1;\n",
       "  width: 10em;\n",
       "  height: 80%;\n",
       "  background: linear-gradient(90deg,red 100.0%, transparent 100.0%);\n",
       "}\n",
       "#T_72c87_row0_col7 {\n",
       "  background-color: #f2faf0;\n",
       "  color: #000000;\n",
       "}\n",
       "#T_72c87_row1_col1 {\n",
       "  background-color: #e8f6e3;\n",
       "  color: #000000;\n",
       "}\n",
       "#T_72c87_row1_col2 {\n",
       "  background-color: #f4fbf1;\n",
       "  color: #000000;\n",
       "  width: 10em;\n",
       "  height: 80%;\n",
       "  background: linear-gradient(90deg,blue 2.7%, transparent 2.7%);\n",
       "}\n",
       "#T_72c87_row1_col3 {\n",
       "  background-color: #a7dba0;\n",
       "  color: #000000;\n",
       "}\n",
       "#T_72c87_row1_col4 {\n",
       "  background-color: #bde5b6;\n",
       "  color: #000000;\n",
       "}\n",
       "#T_72c87_row1_col5 {\n",
       "  background-color: #e6f5e1;\n",
       "  color: #000000;\n",
       "}\n",
       "#T_72c87_row1_col6 {\n",
       "  background-color: #f0f9ec;\n",
       "  color: #000000;\n",
       "  width: 10em;\n",
       "  height: 80%;\n",
       "  background: linear-gradient(90deg,red 5.2%, transparent 5.2%);\n",
       "}\n",
       "#T_72c87_row1_col7, #T_72c87_row3_col1, #T_72c87_row3_col4, #T_72c87_row3_col5, #T_72c87_row4_col5 {\n",
       "  background-color: #f6fcf4;\n",
       "  color: #000000;\n",
       "}\n",
       "#T_72c87_row2_col1 {\n",
       "  background-color: #46ae60;\n",
       "  color: #f1f1f1;\n",
       "}\n",
       "#T_72c87_row2_col2 {\n",
       "  background-color: #00441b;\n",
       "  color: #f1f1f1;\n",
       "  width: 10em;\n",
       "  height: 80%;\n",
       "  background: linear-gradient(90deg,blue 100.0%, transparent 100.0%);\n",
       "}\n",
       "#T_72c87_row2_col4 {\n",
       "  background-color: #f2faef;\n",
       "  color: #000000;\n",
       "}\n",
       "#T_72c87_row2_col5 {\n",
       "  background-color: #e2f4dd;\n",
       "  color: #000000;\n",
       "}\n",
       "#T_72c87_row2_col6 {\n",
       "  background-color: #c3e7bc;\n",
       "  color: #000000;\n",
       "  width: 10em;\n",
       "  height: 80%;\n",
       "  background: linear-gradient(90deg,red 26.3%, transparent 26.3%);\n",
       "}\n",
       "#T_72c87_row3_col2 {\n",
       "  background-color: #f6fcf4;\n",
       "  color: #000000;\n",
       "  width: 10em;\n",
       "  height: 80%;\n",
       "  background: linear-gradient(90deg,blue 0.4%, transparent 0.4%);\n",
       "}\n",
       "#T_72c87_row3_col6 {\n",
       "  background-color: #f7fcf5;\n",
       "  color: #000000;\n",
       "  width: 10em;\n",
       "  height: 80%;\n",
       "  background: linear-gradient(90deg,red 0.4%, transparent 0.4%);\n",
       "}\n",
       "#T_72c87_row4_col1 {\n",
       "  background-color: #f0f9ec;\n",
       "  color: #000000;\n",
       "}\n",
       "#T_72c87_row4_col2 {\n",
       "  background-color: #dbf1d6;\n",
       "  color: #000000;\n",
       "  width: 10em;\n",
       "  height: 80%;\n",
       "  background: linear-gradient(90deg,blue 16.7%, transparent 16.7%);\n",
       "}\n",
       "#T_72c87_row4_col6 {\n",
       "  background-color: #f6fcf4;\n",
       "  color: #000000;\n",
       "  width: 10em;\n",
       "  height: 80%;\n",
       "  background: linear-gradient(90deg,red 1.0%, transparent 1.0%);\n",
       "}\n",
       "#T_72c87_row4_col7 {\n",
       "  background-color: #d1edcb;\n",
       "  color: #000000;\n",
       "}\n",
       "#T_72c87_row5_col2, #T_72c87_row5_col6 {\n",
       "  background-color: #f7fcf5;\n",
       "  color: #000000;\n",
       "  width: 10em;\n",
       "  height: 80%;\n",
       "}\n",
       "#T_72c87_row6_col2 {\n",
       "  background-color: #f7fcf5;\n",
       "  color: #000000;\n",
       "  width: 10em;\n",
       "  height: 80%;\n",
       "  background: linear-gradient(90deg,blue 0.0%, transparent 0.0%);\n",
       "}\n",
       "#T_72c87_row6_col6 {\n",
       "  background-color: #f7fcf5;\n",
       "  color: #000000;\n",
       "  width: 10em;\n",
       "  height: 80%;\n",
       "  background: linear-gradient(90deg,red 0.0%, transparent 0.0%);\n",
       "}\n",
       "</style>\n",
       "<table id=\"T_72c87_\">\n",
       "  <thead>\n",
       "    <tr>\n",
       "      <th class=\"blank level0\" >&nbsp;</th>\n",
       "      <th class=\"col_heading level0 col0\" >count</th>\n",
       "      <th class=\"col_heading level0 col1\" >mean</th>\n",
       "      <th class=\"col_heading level0 col2\" >std</th>\n",
       "      <th class=\"col_heading level0 col3\" >min</th>\n",
       "      <th class=\"col_heading level0 col4\" >25%</th>\n",
       "      <th class=\"col_heading level0 col5\" >50%</th>\n",
       "      <th class=\"col_heading level0 col6\" >75%</th>\n",
       "      <th class=\"col_heading level0 col7\" >max</th>\n",
       "    </tr>\n",
       "  </thead>\n",
       "  <tbody>\n",
       "    <tr>\n",
       "      <th id=\"T_72c87_level0_row0\" class=\"row_heading level0 row0\" >Price</th>\n",
       "      <td id=\"T_72c87_row0_col0\" class=\"data row0 col0\" >13608.000000</td>\n",
       "      <td id=\"T_72c87_row0_col1\" class=\"data row0 col1\" >4646.992602</td>\n",
       "      <td id=\"T_72c87_row0_col2\" class=\"data row0 col2\" >3051.792396</td>\n",
       "      <td id=\"T_72c87_row0_col3\" class=\"data row0 col3\" >1280.000000</td>\n",
       "      <td id=\"T_72c87_row0_col4\" class=\"data row0 col4\" >1600.000000</td>\n",
       "      <td id=\"T_72c87_row0_col5\" class=\"data row0 col5\" >3840.000000</td>\n",
       "      <td id=\"T_72c87_row0_col6\" class=\"data row0 col6\" >8640.000000</td>\n",
       "      <td id=\"T_72c87_row0_col7\" class=\"data row0 col7\" >12800.000000</td>\n",
       "    </tr>\n",
       "    <tr>\n",
       "      <th id=\"T_72c87_level0_row1\" class=\"row_heading level0 row1\" >Discount price</th>\n",
       "      <td id=\"T_72c87_row1_col0\" class=\"data row1 col0\" >13608.000000</td>\n",
       "      <td id=\"T_72c87_row1_col1\" class=\"data row1 col1\" >493.943794</td>\n",
       "      <td id=\"T_72c87_row1_col2\" class=\"data row1 col2\" >253.644054</td>\n",
       "      <td id=\"T_72c87_row1_col3\" class=\"data row1 col3\" >455.000000</td>\n",
       "      <td id=\"T_72c87_row1_col4\" class=\"data row1 col4\" >455.000000</td>\n",
       "      <td id=\"T_72c87_row1_col5\" class=\"data row1 col5\" >455.000000</td>\n",
       "      <td id=\"T_72c87_row1_col6\" class=\"data row1 col6\" >455.000000</td>\n",
       "      <td id=\"T_72c87_row1_col7\" class=\"data row1 col7\" >3200.000000</td>\n",
       "    </tr>\n",
       "    <tr>\n",
       "      <th id=\"T_72c87_level0_row2\" class=\"row_heading level0 row2\" >Subscribers</th>\n",
       "      <td id=\"T_72c87_row2_col0\" class=\"data row2 col0\" >13608.000000</td>\n",
       "      <td id=\"T_72c87_row2_col1\" class=\"data row2 col1\" >2847.010435</td>\n",
       "      <td id=\"T_72c87_row2_col2\" class=\"data row2 col2\" >9437.865634</td>\n",
       "      <td id=\"T_72c87_row2_col3\" class=\"data row2 col3\" >0.000000</td>\n",
       "      <td id=\"T_72c87_row2_col4\" class=\"data row2 col4\" >62.000000</td>\n",
       "      <td id=\"T_72c87_row2_col5\" class=\"data row2 col5\" >533.000000</td>\n",
       "      <td id=\"T_72c87_row2_col6\" class=\"data row2 col6\" >2279.500000</td>\n",
       "      <td id=\"T_72c87_row2_col7\" class=\"data row2 col7\" >374836.000000</td>\n",
       "    </tr>\n",
       "    <tr>\n",
       "      <th id=\"T_72c87_level0_row3\" class=\"row_heading level0 row3\" >Lectures</th>\n",
       "      <td id=\"T_72c87_row3_col0\" class=\"data row3 col0\" >13608.000000</td>\n",
       "      <td id=\"T_72c87_row3_col1\" class=\"data row3 col1\" >32.224794</td>\n",
       "      <td id=\"T_72c87_row3_col2\" class=\"data row3 col2\" >42.766911</td>\n",
       "      <td id=\"T_72c87_row3_col3\" class=\"data row3 col3\" >0.000000</td>\n",
       "      <td id=\"T_72c87_row3_col4\" class=\"data row3 col4\" >12.000000</td>\n",
       "      <td id=\"T_72c87_row3_col5\" class=\"data row3 col5\" >21.000000</td>\n",
       "      <td id=\"T_72c87_row3_col6\" class=\"data row3 col6\" >37.000000</td>\n",
       "      <td id=\"T_72c87_row3_col7\" class=\"data row3 col7\" >699.000000</td>\n",
       "    </tr>\n",
       "    <tr>\n",
       "      <th id=\"T_72c87_level0_row4\" class=\"row_heading level0 row4\" >Num reviews</th>\n",
       "      <td id=\"T_72c87_row4_col0\" class=\"data row4 col0\" >13608.000000</td>\n",
       "      <td id=\"T_72c87_row4_col1\" class=\"data row4 col1\" >243.169827</td>\n",
       "      <td id=\"T_72c87_row4_col2\" class=\"data row4 col2\" >1580.965895</td>\n",
       "      <td id=\"T_72c87_row4_col3\" class=\"data row4 col3\" >0.000000</td>\n",
       "      <td id=\"T_72c87_row4_col4\" class=\"data row4 col4\" >7.000000</td>\n",
       "      <td id=\"T_72c87_row4_col5\" class=\"data row4 col5\" >24.000000</td>\n",
       "      <td id=\"T_72c87_row4_col6\" class=\"data row4 col6\" >87.000000</td>\n",
       "      <td id=\"T_72c87_row4_col7\" class=\"data row4 col7\" >78006.000000</td>\n",
       "    </tr>\n",
       "    <tr>\n",
       "      <th id=\"T_72c87_level0_row5\" class=\"row_heading level0 row5\" >Average rating</th>\n",
       "      <td id=\"T_72c87_row5_col0\" class=\"data row5 col0\" >13608.000000</td>\n",
       "      <td id=\"T_72c87_row5_col1\" class=\"data row5 col1\" >3.923293</td>\n",
       "      <td id=\"T_72c87_row5_col2\" class=\"data row5 col2\" >1.031304</td>\n",
       "      <td id=\"T_72c87_row5_col3\" class=\"data row5 col3\" >0.000000</td>\n",
       "      <td id=\"T_72c87_row5_col4\" class=\"data row5 col4\" >3.800000</td>\n",
       "      <td id=\"T_72c87_row5_col5\" class=\"data row5 col5\" >4.194440</td>\n",
       "      <td id=\"T_72c87_row5_col6\" class=\"data row5 col6\" >4.450000</td>\n",
       "      <td id=\"T_72c87_row5_col7\" class=\"data row5 col7\" >5.000000</td>\n",
       "    </tr>\n",
       "    <tr>\n",
       "      <th id=\"T_72c87_level0_row6\" class=\"row_heading level0 row6\" >Rating</th>\n",
       "      <td id=\"T_72c87_row6_col0\" class=\"data row6 col0\" >13608.000000</td>\n",
       "      <td id=\"T_72c87_row6_col1\" class=\"data row6 col1\" >3.912242</td>\n",
       "      <td id=\"T_72c87_row6_col2\" class=\"data row6 col2\" >1.039237</td>\n",
       "      <td id=\"T_72c87_row6_col3\" class=\"data row6 col3\" >0.000000</td>\n",
       "      <td id=\"T_72c87_row6_col4\" class=\"data row6 col4\" >3.787315</td>\n",
       "      <td id=\"T_72c87_row6_col5\" class=\"data row6 col5\" >4.181735</td>\n",
       "      <td id=\"T_72c87_row6_col6\" class=\"data row6 col6\" >4.452105</td>\n",
       "      <td id=\"T_72c87_row6_col7\" class=\"data row6 col7\" >5.000000</td>\n",
       "    </tr>\n",
       "  </tbody>\n",
       "</table>\n"
      ],
      "text/plain": [
       "<pandas.io.formats.style.Styler at 0x281731d4d30>"
      ]
     },
     "execution_count": 137,
     "metadata": {},
     "output_type": "execute_result"
    }
   ],
   "source": [
    "df.describe().T.sort_values(\"25%\", ascending = False).style.background_gradient(cmap = \"Greens\")\\\n",
    "    .bar(subset = [\"std\"], color = \"blue\").bar(subset = [\"75%\"], color = \"red\")"
   ]
  },
  {
   "cell_type": "code",
   "execution_count": 7,
   "id": "65ce05c6",
   "metadata": {},
   "outputs": [
    {
     "name": "stdout",
     "output_type": "stream",
     "text": [
      "id ---> 13608\n",
      "title ---> 13563\n",
      "url ---> 13608\n",
      "is_paid ---> 2\n",
      "num_subscribers ---> 4875\n",
      "avg_rating ---> 1965\n",
      "avg_rating_recent ---> 11781\n",
      "rating ---> 11781\n",
      "num_reviews ---> 1285\n",
      "is_wishlisted ---> 1\n",
      "num_published_lectures ---> 301\n",
      "num_published_practice_tests ---> 7\n",
      "created ---> 13607\n",
      "published_time ---> 13605\n",
      "discount_price__amount ---> 53\n",
      "discount_price__currency ---> 1\n",
      "discount_price__price_string ---> 53\n",
      "price_detail__amount ---> 37\n",
      "price_detail__currency ---> 1\n",
      "price_detail__price_string ---> 37\n"
     ]
    }
   ],
   "source": [
    "    for column in df.columns:\n",
    "        print(f\"{column} ---> {df[column].nunique()}\")"
   ]
  },
  {
   "cell_type": "markdown",
   "id": "aae94cd9",
   "metadata": {},
   "source": [
    "### <font color='blue'> Drop unnecessary column and change name </font>"
   ]
  },
  {
   "cell_type": "code",
   "execution_count": 8,
   "id": "143139c6",
   "metadata": {},
   "outputs": [],
   "source": [
    "df.drop([\"id\", \"url\", \n",
    "         \"is_paid\", \"is_wishlisted\", \"num_published_practice_tests\",\n",
    "        \"created\", \"discount_price__currency\", \n",
    "        \"avg_rating_recent\",\"discount_price__price_string\",\"price_detail__price_string\"], axis = 1, inplace = True)\n",
    "df.rename({\"avg_rating\": \"Average rating\", \"title\":\"Title\",\n",
    "           \"rating\":\"Rating\", \"num_subscribers\":\"Subscribers\", \"published_time\":\"Time\",\n",
    "          \"num_reviews\": \"Num reviews\",\n",
    "          \"num_published_lectures\":\"Lectures\",\n",
    "          \"discount_price__amount\":\"Discount price\",\n",
    "          \"price_detail__amount\":\"Price\", \n",
    "          \"price_detail__currency\": \"Price detail\"}, axis = 1, inplace = True)"
   ]
  },
  {
   "cell_type": "markdown",
   "id": "71076f73",
   "metadata": {},
   "source": [
    "### <font color='blue'> Check NaN </font>"
   ]
  },
  {
   "cell_type": "code",
   "execution_count": 9,
   "id": "1484aca8",
   "metadata": {
    "scrolled": true
   },
   "outputs": [
    {
     "name": "stdout",
     "output_type": "stream",
     "text": [
      "Title\n",
      "False    13608\n",
      "Name: Title, dtype: int64\n",
      "\n",
      "Subscribers\n",
      "False    13608\n",
      "Name: Subscribers, dtype: int64\n",
      "\n",
      "Average rating\n",
      "False    13608\n",
      "Name: Average rating, dtype: int64\n",
      "\n",
      "Rating\n",
      "False    13608\n",
      "Name: Rating, dtype: int64\n",
      "\n",
      "Num reviews\n",
      "False    13608\n",
      "Name: Num reviews, dtype: int64\n",
      "\n",
      "Lectures\n",
      "False    13608\n",
      "Name: Lectures, dtype: int64\n",
      "\n",
      "Time\n",
      "False    13608\n",
      "Name: Time, dtype: int64\n",
      "\n",
      "Discount price\n",
      "False    12205\n",
      "True      1403\n",
      "Name: Discount price, dtype: int64\n",
      "\n",
      "Price\n",
      "False    13111\n",
      "True       497\n",
      "Name: Price, dtype: int64\n",
      "\n",
      "Price detail\n",
      "False    13111\n",
      "True       497\n",
      "Name: Price detail, dtype: int64\n",
      "\n"
     ]
    }
   ],
   "source": [
    "for column in df.columns:\n",
    "    print(f\"{column}\")\n",
    "    print(f\"{df[column].isnull().value_counts()}\\n\")    "
   ]
  },
  {
   "cell_type": "code",
   "execution_count": 11,
   "id": "4c29cb37",
   "metadata": {
    "scrolled": true
   },
   "outputs": [
    {
     "data": {
      "text/html": [
       "<style type=\"text/css\">\n",
       "#T_d8d4b_row0_col1, #T_d8d4b_row0_col4, #T_d8d4b_row2_col2, #T_d8d4b_row2_col3, #T_d8d4b_row3_col5 {\n",
       "  background-color: #023858;\n",
       "  color: #f1f1f1;\n",
       "}\n",
       "#T_d8d4b_row0_col2 {\n",
       "  background-color: #1379b5;\n",
       "  color: #f1f1f1;\n",
       "}\n",
       "#T_d8d4b_row0_col3 {\n",
       "  background-color: #2a88bc;\n",
       "  color: #f1f1f1;\n",
       "}\n",
       "#T_d8d4b_row0_col5 {\n",
       "  background-color: #d6d6e9;\n",
       "  color: #000000;\n",
       "}\n",
       "#T_d8d4b_row0_col7, #T_d8d4b_row0_col8, #T_d8d4b_row1_col7, #T_d8d4b_row1_col8, #T_d8d4b_row2_col7, #T_d8d4b_row2_col8, #T_d8d4b_row3_col7, #T_d8d4b_row3_col8, #T_d8d4b_row4_col7, #T_d8d4b_row4_col8 {\n",
       "  background-color: #000000;\n",
       "  color: #f1f1f1;\n",
       "}\n",
       "#T_d8d4b_row1_col1 {\n",
       "  background-color: #c4cbe3;\n",
       "  color: #000000;\n",
       "}\n",
       "#T_d8d4b_row1_col2 {\n",
       "  background-color: #e5e1ef;\n",
       "  color: #000000;\n",
       "}\n",
       "#T_d8d4b_row1_col3 {\n",
       "  background-color: #efe9f3;\n",
       "  color: #000000;\n",
       "}\n",
       "#T_d8d4b_row1_col4 {\n",
       "  background-color: #d9d8ea;\n",
       "  color: #000000;\n",
       "}\n",
       "#T_d8d4b_row1_col5, #T_d8d4b_row2_col1, #T_d8d4b_row3_col1, #T_d8d4b_row4_col2, #T_d8d4b_row4_col3, #T_d8d4b_row4_col4 {\n",
       "  background-color: #fff7fb;\n",
       "  color: #000000;\n",
       "}\n",
       "#T_d8d4b_row2_col4 {\n",
       "  background-color: #f5eef6;\n",
       "  color: #000000;\n",
       "}\n",
       "#T_d8d4b_row2_col5 {\n",
       "  background-color: #157ab5;\n",
       "  color: #f1f1f1;\n",
       "}\n",
       "#T_d8d4b_row3_col2 {\n",
       "  background-color: #589ec8;\n",
       "  color: #f1f1f1;\n",
       "}\n",
       "#T_d8d4b_row3_col3 {\n",
       "  background-color: #529bc7;\n",
       "  color: #f1f1f1;\n",
       "}\n",
       "#T_d8d4b_row3_col4 {\n",
       "  background-color: #fbf4f9;\n",
       "  color: #000000;\n",
       "}\n",
       "#T_d8d4b_row4_col1 {\n",
       "  background-color: #f6eff7;\n",
       "  color: #000000;\n",
       "}\n",
       "#T_d8d4b_row4_col5 {\n",
       "  background-color: #faf3f9;\n",
       "  color: #000000;\n",
       "}\n",
       "</style>\n",
       "<table id=\"T_d8d4b_\">\n",
       "  <thead>\n",
       "    <tr>\n",
       "      <th class=\"blank level0\" >&nbsp;</th>\n",
       "      <th class=\"col_heading level0 col0\" >Title</th>\n",
       "      <th class=\"col_heading level0 col1\" >Subscribers</th>\n",
       "      <th class=\"col_heading level0 col2\" >Average rating</th>\n",
       "      <th class=\"col_heading level0 col3\" >Rating</th>\n",
       "      <th class=\"col_heading level0 col4\" >Num reviews</th>\n",
       "      <th class=\"col_heading level0 col5\" >Lectures</th>\n",
       "      <th class=\"col_heading level0 col6\" >Time</th>\n",
       "      <th class=\"col_heading level0 col7\" >Discount price</th>\n",
       "      <th class=\"col_heading level0 col8\" >Price</th>\n",
       "      <th class=\"col_heading level0 col9\" >Price detail</th>\n",
       "    </tr>\n",
       "  </thead>\n",
       "  <tbody>\n",
       "    <tr>\n",
       "      <th id=\"T_d8d4b_level0_row0\" class=\"row_heading level0 row0\" >11484</th>\n",
       "      <td id=\"T_d8d4b_row0_col0\" class=\"data row0 col0\" >Stock Market Investing for Beginners</td>\n",
       "      <td id=\"T_d8d4b_row0_col1\" class=\"data row0 col1\" >259888</td>\n",
       "      <td id=\"T_d8d4b_row0_col2\" class=\"data row0 col2\" >4.349280</td>\n",
       "      <td id=\"T_d8d4b_row0_col3\" class=\"data row0 col3\" >4.359020</td>\n",
       "      <td id=\"T_d8d4b_row0_col4\" class=\"data row0 col4\" >23635</td>\n",
       "      <td id=\"T_d8d4b_row0_col5\" class=\"data row0 col5\" >15</td>\n",
       "      <td id=\"T_d8d4b_row0_col6\" class=\"data row0 col6\" >2013-12-25T19:53:34Z</td>\n",
       "      <td id=\"T_d8d4b_row0_col7\" class=\"data row0 col7\" >nan</td>\n",
       "      <td id=\"T_d8d4b_row0_col8\" class=\"data row0 col8\" >nan</td>\n",
       "      <td id=\"T_d8d4b_row0_col9\" class=\"data row0 col9\" >nan</td>\n",
       "    </tr>\n",
       "    <tr>\n",
       "      <th id=\"T_d8d4b_level0_row1\" class=\"row_heading level0 row1\" >11485</th>\n",
       "      <td id=\"T_d8d4b_row1_col0\" class=\"data row1 col0\" >Introduction to Financial Modeling</td>\n",
       "      <td id=\"T_d8d4b_row1_col1\" class=\"data row1 col1\" >105131</td>\n",
       "      <td id=\"T_d8d4b_row1_col2\" class=\"data row1 col2\" >4.201090</td>\n",
       "      <td id=\"T_d8d4b_row1_col3\" class=\"data row1 col3\" >4.231700</td>\n",
       "      <td id=\"T_d8d4b_row1_col4\" class=\"data row1 col4\" >7378</td>\n",
       "      <td id=\"T_d8d4b_row1_col5\" class=\"data row1 col5\" >8</td>\n",
       "      <td id=\"T_d8d4b_row1_col6\" class=\"data row1 col6\" >2014-05-27T16:22:16Z</td>\n",
       "      <td id=\"T_d8d4b_row1_col7\" class=\"data row1 col7\" >nan</td>\n",
       "      <td id=\"T_d8d4b_row1_col8\" class=\"data row1 col8\" >nan</td>\n",
       "      <td id=\"T_d8d4b_row1_col9\" class=\"data row1 col9\" >nan</td>\n",
       "    </tr>\n",
       "    <tr>\n",
       "      <th id=\"T_d8d4b_level0_row2\" class=\"row_heading level0 row2\" >11486</th>\n",
       "      <td id=\"T_d8d4b_row2_col0\" class=\"data row2 col0\" >Introduction to Corporate Finance (Mergers & Acquisitions)</td>\n",
       "      <td id=\"T_d8d4b_row2_col1\" class=\"data row2 col1\" >43396</td>\n",
       "      <td id=\"T_d8d4b_row2_col2\" class=\"data row2 col2\" >4.425090</td>\n",
       "      <td id=\"T_d8d4b_row2_col3\" class=\"data row2 col3\" >4.439530</td>\n",
       "      <td id=\"T_d8d4b_row2_col4\" class=\"data row2 col4\" >4461</td>\n",
       "      <td id=\"T_d8d4b_row2_col5\" class=\"data row2 col5\" >30</td>\n",
       "      <td id=\"T_d8d4b_row2_col6\" class=\"data row2 col6\" >2017-02-28T16:14:06Z</td>\n",
       "      <td id=\"T_d8d4b_row2_col7\" class=\"data row2 col7\" >nan</td>\n",
       "      <td id=\"T_d8d4b_row2_col8\" class=\"data row2 col8\" >nan</td>\n",
       "      <td id=\"T_d8d4b_row2_col9\" class=\"data row2 col9\" >nan</td>\n",
       "    </tr>\n",
       "    <tr>\n",
       "      <th id=\"T_d8d4b_level0_row3\" class=\"row_heading level0 row3\" >11487</th>\n",
       "      <td id=\"T_d8d4b_row3_col0\" class=\"data row3 col0\" >Learn and Master the Basics of Finance</td>\n",
       "      <td id=\"T_d8d4b_row3_col1\" class=\"data row3 col1\" >43106</td>\n",
       "      <td id=\"T_d8d4b_row3_col2\" class=\"data row3 col2\" >4.306820</td>\n",
       "      <td id=\"T_d8d4b_row3_col3\" class=\"data row3 col3\" >4.338870</td>\n",
       "      <td id=\"T_d8d4b_row3_col4\" class=\"data row3 col4\" >3590</td>\n",
       "      <td id=\"T_d8d4b_row3_col5\" class=\"data row3 col5\" >39</td>\n",
       "      <td id=\"T_d8d4b_row3_col6\" class=\"data row3 col6\" >2016-09-25T20:37:51Z</td>\n",
       "      <td id=\"T_d8d4b_row3_col7\" class=\"data row3 col7\" >nan</td>\n",
       "      <td id=\"T_d8d4b_row3_col8\" class=\"data row3 col8\" >nan</td>\n",
       "      <td id=\"T_d8d4b_row3_col9\" class=\"data row3 col9\" >nan</td>\n",
       "    </tr>\n",
       "    <tr>\n",
       "      <th id=\"T_d8d4b_level0_row4\" class=\"row_heading level0 row4\" >11488</th>\n",
       "      <td id=\"T_d8d4b_row4_col0\" class=\"data row4 col0\" >Stock Market Foundations</td>\n",
       "      <td id=\"T_d8d4b_row4_col1\" class=\"data row4 col1\" >56172</td>\n",
       "      <td id=\"T_d8d4b_row4_col2\" class=\"data row4 col2\" >4.159250</td>\n",
       "      <td id=\"T_d8d4b_row4_col3\" class=\"data row4 col3\" >4.206900</td>\n",
       "      <td id=\"T_d8d4b_row4_col4\" class=\"data row4 col4\" >3083</td>\n",
       "      <td id=\"T_d8d4b_row4_col5\" class=\"data row4 col5\" >9</td>\n",
       "      <td id=\"T_d8d4b_row4_col6\" class=\"data row4 col6\" >2014-03-31T21:35:06Z</td>\n",
       "      <td id=\"T_d8d4b_row4_col7\" class=\"data row4 col7\" >nan</td>\n",
       "      <td id=\"T_d8d4b_row4_col8\" class=\"data row4 col8\" >nan</td>\n",
       "      <td id=\"T_d8d4b_row4_col9\" class=\"data row4 col9\" >nan</td>\n",
       "    </tr>\n",
       "  </tbody>\n",
       "</table>\n"
      ],
      "text/plain": [
       "<pandas.io.formats.style.Styler at 0x28165df2d00>"
      ]
     },
     "execution_count": 11,
     "metadata": {},
     "output_type": "execute_result"
    }
   ],
   "source": [
    "df.loc[df[\"Price\"].isna()].head().sort_values(\"Price detail\", ascending = False)\\\n",
    "    .style.background_gradient().bar(subset = [\"Discount price\"], color = \"blue\")"
   ]
  },
  {
   "cell_type": "code",
   "execution_count": 12,
   "id": "e7d09cc7",
   "metadata": {
    "scrolled": true
   },
   "outputs": [],
   "source": [
    "df[\"Price detail\"].fillna(\"unknown\", inplace = True)\n",
    "for column in df.columns[7:9]:\n",
    "    df[column].replace(np.nan, df[column].mean(), inplace = True)"
   ]
  },
  {
   "cell_type": "markdown",
   "id": "691cb8d2",
   "metadata": {},
   "source": [
    "<h2 style = \"color:black; background:lightgreen\"> Data formatting </h2>"
   ]
  },
  {
   "cell_type": "code",
   "execution_count": 13,
   "id": "aa7e1714",
   "metadata": {},
   "outputs": [
    {
     "data": {
      "text/plain": [
       "Title              object\n",
       "Subscribers         int64\n",
       "Average rating    float64\n",
       "Rating            float64\n",
       "Num reviews         int64\n",
       "Lectures            int64\n",
       "Time               object\n",
       "Discount price    float64\n",
       "Price             float64\n",
       "Price detail       object\n",
       "dtype: object"
      ]
     },
     "execution_count": 13,
     "metadata": {},
     "output_type": "execute_result"
    }
   ],
   "source": [
    "df.dtypes"
   ]
  },
  {
   "cell_type": "code",
   "execution_count": 14,
   "id": "b8e9b9c6",
   "metadata": {},
   "outputs": [
    {
     "data": {
      "text/plain": [
       "0"
      ]
     },
     "execution_count": 14,
     "metadata": {},
     "output_type": "execute_result"
    }
   ],
   "source": [
    "df.duplicated().sum()"
   ]
  },
  {
   "cell_type": "code",
   "execution_count": 15,
   "id": "bc7fef7b",
   "metadata": {},
   "outputs": [],
   "source": [
    "df.drop_duplicates(inplace = True)"
   ]
  },
  {
   "cell_type": "code",
   "execution_count": 16,
   "id": "4c063c2c",
   "metadata": {},
   "outputs": [],
   "source": [
    "df[\"Time\"] = pd.to_datetime(df[\"Time\"])"
   ]
  },
  {
   "cell_type": "markdown",
   "id": "a2057675",
   "metadata": {},
   "source": [
    "<h2 style = \"color:black; background:lightgreen\"> Data visualization </h2>"
   ]
  },
  {
   "cell_type": "code",
   "execution_count": 17,
   "id": "8c2b749e",
   "metadata": {
    "scrolled": false
   },
   "outputs": [
    {
     "data": {
      "text/plain": [
       "<seaborn.axisgrid.PairGrid at 0x28165f4a910>"
      ]
     },
     "execution_count": 17,
     "metadata": {},
     "output_type": "execute_result"
    },
    {
     "data": {
      "image/png": "[encoded data removed]",
      "text/plain": [
       "<Figure size 1855.62x1750 with 56 Axes>"
      ]
     },
     "metadata": {},
     "output_type": "display_data"
    }
   ],
   "source": [
    "sns.pairplot(data = df, kind = \"reg\", hue = \"Price detail\")"
   ]
  },
  {
   "cell_type": "markdown",
   "id": "98aa5861",
   "metadata": {},
   "source": [
    "### <font color='blue'> Calculation </font>"
   ]
  },
  {
   "cell_type": "code",
   "execution_count": 38,
   "id": "373b48c4",
   "metadata": {},
   "outputs": [
    {
     "name": "stdout",
     "output_type": "stream",
     "text": [
      "Highest price course is: Project Management Professional (PMP)® - 35 Contact Hours -----> 12800.0\n",
      "\n",
      "Lowest price course is: Deep Learning Prerequisites: The Numpy Stack in Python (V2+) ----->  1280.0\n",
      "\n",
      "Oldest course is: Simple Strategy for Swing Trading the Stock Market -----> 2010-04-14 16:32:46+00:00\n",
      "\n",
      "Newest course is: CBBF (BTA - CERTIFIED BLOCKCHAIN BUSINESS FOUNDATION) EXAM -----> 2020-09-10 06:31:11+00:00\n",
      "\n",
      "Highest reviews is: The Complete SQL Bootcamp 2020: Go from Zero to Hero -----> 78006\n",
      "\n",
      "Lowest reviews is: The Complete Financial Analytics and Investing Course -----> 0\n",
      "\n",
      "Highest lectures is: Accounting–Financial Accounting Total-Beginners to Advanced -----> 699\n",
      "\n",
      "Lowest lectures is: PMP PMBOK 6 Practice Exams: Set One for PMP Candidates -----> 0\n",
      "\n",
      "{None}\n"
     ]
    }
   ],
   "source": [
    "def calculate():\n",
    "    # The highest price course and the lowest price course\n",
    "    df_price_course = df.set_index(\"Title\")\n",
    "    highest_price_course = df_price_course[\"Price\"].idxmax()\n",
    "    max_highest_price_course = df_price_course[\"Price\"].max()\n",
    "    lowest_price_course = df_price_course[\"Price\"].idxmin()\n",
    "    min_lowest_price_course = df_price_course[\"Price\"].min()\n",
    "    \n",
    "    # The oldest course and the newest course\n",
    "    df_time = df.set_index(\"Title\")\n",
    "    oldest_course = df_time[\"Time\"].idxmin()\n",
    "    min_oldest_course = df_time[\"Time\"].min()\n",
    "    newest_course = df_time[\"Time\"].idxmax()\n",
    "    max_newest_course = df_time[\"Time\"].max()\n",
    "    \n",
    "    # The highest reviews and the lowest reviews\n",
    "    df_reviews = df.set_index(\"Title\")\n",
    "    highest_reviews = df_reviews[\"Num reviews\"].idxmax()\n",
    "    max_highest_reviews = df_reviews[\"Num reviews\"].max()\n",
    "    lowest_reviews = df_reviews[\"Num reviews\"].idxmin()\n",
    "    min_lowest_reviews = df_reviews[\"Num reviews\"].min()\n",
    "    \n",
    "    # The highest lectures and the lowest lectures\n",
    "    df_lectures = df.set_index(\"Title\")\n",
    "    highest_lectures = df_lectures[\"Lectures\"].idxmax()\n",
    "    max_highest_lectures = df_lectures[\"Lectures\"].max()\n",
    "    lowest_lectures = df_lectures[\"Lectures\"].idxmin()\n",
    "    min_lowest_lectures = df_lectures[\"Lectures\"].min()\n",
    "    \n",
    "    return {\n",
    "        print(f\"Highest price course is: {highest_price_course} -----> {max_highest_price_course}\\n\"),\n",
    "        print(f\"Lowest price course is: {lowest_price_course} ----->  {min_lowest_price_course}\\n\"),\n",
    "        print(f\"Oldest course is: {oldest_course} -----> {min_oldest_course}\\n\"),\n",
    "        print(f\"Newest course is: {newest_course} -----> {max_newest_course}\\n\"),\n",
    "        print(f\"Highest reviews is: {highest_reviews} -----> {max_highest_reviews}\\n\"),\n",
    "        print(f\"Lowest reviews is: {lowest_reviews} -----> {min_lowest_reviews}\\n\"),\n",
    "        print(f\"Highest lectures is: {highest_lectures} -----> {max_highest_lectures}\\n\"),\n",
    "        print(f\"Lowest lectures is: {lowest_lectures} -----> {min_lowest_lectures}\\n\")\n",
    "           }\n",
    "print(calculate())"
   ]
  },
  {
   "cell_type": "markdown",
   "id": "366b6aab",
   "metadata": {},
   "source": [
    "### <font color='blue'>Top 15 courses with the most lecturess </font>"
   ]
  },
  {
   "cell_type": "code",
   "execution_count": 122,
   "id": "5250614f",
   "metadata": {
    "scrolled": false
   },
   "outputs": [
    {
     "data": {
      "application/vnd.plotly.v1+json": {
       "config": {
        "plotlyServerURL": "https://plot.ly"
       },
       "data": [
        {
         "alignmentgroup": "True",
         "cliponaxis": false,
         "hovertemplate": "x=%{x}<br>y=%{y}<br>color=%{marker.color}<extra></extra>",
         "legendgroup": "",
         "marker": {
          "color": [
           699,
           668,
           637,
           636,
           601,
           601,
           600,
           600,
           600,
           600,
           576,
           561,
           560,
           556,
           551
          ],
          "coloraxis": "coloraxis",
          "pattern": {
           "shape": ""
          }
         },
         "name": "",
         "offsetgroup": "",
         "orientation": "h",
         "showlegend": false,
         "textangle": 0,
         "textfont": {
          "size": 14
         },
         "textposition": "outside",
         "texttemplate": "%{x}",
         "type": "bar",
         "x": [
          699,
          668,
          637,
          636,
          601,
          601,
          600,
          600,
          600,
          600,
          576,
          561,
          560,
          556,
          551
         ],
         "xaxis": "x",
         "y": [
          "Accounting–Financial Accounting Total-Beginners to Advanced",
          "QuickBooks Pro Desktop 2020, 2019, & 2018 Start to Finish",
          "The Complete Digital Marketing Guide - 18 Courses in 1",
          "The Ultimate QuickBooks Pro Training Bundle - 60+ Hours",
          "Winning Communication Skills for Telephone, Conference Calls",
          "Communication Skills for Beginners",
          "Complete Media Training Master Class - Confidence on Camera",
          "Workplace Communication: Effectively Deliver Criticism",
          "The Complete Communication Skills Master Class for Life",
          "The Complete Storytelling Course for Speaking & Presenting",
          "The Complete Sales Skills Master Class - Sales Marketing B2B",
          "Financial Management A Complete Study for CA/CMA/CS/CFA/ACCA",
          "Learn to Trade The News",
          "Project Management Professional Certification Program (PMP)",
          "QuickBooks Online 2020 Vs. QuickBooks Desktop 2020"
         ],
         "yaxis": "y"
        }
       ],
       "layout": {
        "barmode": "group",
        "coloraxis": {
         "colorbar": {
          "title": {
           "text": "color"
          }
         },
         "colorscale": [
          [
           0,
           "#0d0887"
          ],
          [
           0.1111111111111111,
           "#46039f"
          ],
          [
           0.2222222222222222,
           "#7201a8"
          ],
          [
           0.3333333333333333,
           "#9c179e"
          ],
          [
           0.4444444444444444,
           "#bd3786"
          ],
          [
           0.5555555555555556,
           "#d8576b"
          ],
          [
           0.6666666666666666,
           "#ed7953"
          ],
          [
           0.7777777777777778,
           "#fb9f3a"
          ],
          [
           0.8888888888888888,
           "#fdca26"
          ],
          [
           1,
           "#f0f921"
          ]
         ]
        },
        "height": 480,
        "hovermode": "x",
        "legend": {
         "tracegroupgap": 0
        },
        "margin": {
         "t": 60
        },
        "paper_bgcolor": "rgb(220, 220, 220)",
        "plot_bgcolor": "rgb(220, 220, 220)",
        "template": {
         "data": {
          "bar": [
           {
            "error_x": {
             "color": "#2a3f5f"
            },
            "error_y": {
             "color": "#2a3f5f"
            },
            "marker": {
             "line": {
              "color": "#E5ECF6",
              "width": 0.5
             },
             "pattern": {
              "fillmode": "overlay",
              "size": 10,
              "solidity": 0.2
             }
            },
            "type": "bar"
           }
          ],
          "barpolar": [
           {
            "marker": {
             "line": {
              "color": "#E5ECF6",
              "width": 0.5
             },
             "pattern": {
              "fillmode": "overlay",
              "size": 10,
              "solidity": 0.2
             }
            },
            "type": "barpolar"
           }
          ],
          "carpet": [
           {
            "aaxis": {
             "endlinecolor": "#2a3f5f",
             "gridcolor": "white",
             "linecolor": "white",
             "minorgridcolor": "white",
             "startlinecolor": "#2a3f5f"
            },
            "baxis": {
             "endlinecolor": "#2a3f5f",
             "gridcolor": "white",
             "linecolor": "white",
             "minorgridcolor": "white",
             "startlinecolor": "#2a3f5f"
            },
            "type": "carpet"
           }
          ],
          "choropleth": [
           {
            "colorbar": {
             "outlinewidth": 0,
             "ticks": ""
            },
            "type": "choropleth"
           }
          ],
          "contour": [
           {
            "colorbar": {
             "outlinewidth": 0,
             "ticks": ""
            },
            "colorscale": [
             [
              0,
              "#0d0887"
             ],
             [
              0.1111111111111111,
              "#46039f"
             ],
             [
              0.2222222222222222,
              "#7201a8"
             ],
             [
              0.3333333333333333,
              "#9c179e"
             ],
             [
              0.4444444444444444,
              "#bd3786"
             ],
             [
              0.5555555555555556,
              "#d8576b"
             ],
             [
              0.6666666666666666,
              "#ed7953"
             ],
             [
              0.7777777777777778,
              "#fb9f3a"
             ],
             [
              0.8888888888888888,
              "#fdca26"
             ],
             [
              1,
              "#f0f921"
             ]
            ],
            "type": "contour"
           }
          ],
          "contourcarpet": [
           {
            "colorbar": {
             "outlinewidth": 0,
             "ticks": ""
            },
            "type": "contourcarpet"
           }
          ],
          "heatmap": [
           {
            "colorbar": {
             "outlinewidth": 0,
             "ticks": ""
            },
            "colorscale": [
             [
              0,
              "#0d0887"
             ],
             [
              0.1111111111111111,
              "#46039f"
             ],
             [
              0.2222222222222222,
              "#7201a8"
             ],
             [
              0.3333333333333333,
              "#9c179e"
             ],
             [
              0.4444444444444444,
              "#bd3786"
             ],
             [
              0.5555555555555556,
              "#d8576b"
             ],
             [
              0.6666666666666666,
              "#ed7953"
             ],
             [
              0.7777777777777778,
              "#fb9f3a"
             ],
             [
              0.8888888888888888,
              "#fdca26"
             ],
             [
              1,
              "#f0f921"
             ]
            ],
            "type": "heatmap"
           }
          ],
          "heatmapgl": [
           {
            "colorbar": {
             "outlinewidth": 0,
             "ticks": ""
            },
            "colorscale": [
             [
              0,
              "#0d0887"
             ],
             [
              0.1111111111111111,
              "#46039f"
             ],
             [
              0.2222222222222222,
              "#7201a8"
             ],
             [
              0.3333333333333333,
              "#9c179e"
             ],
             [
              0.4444444444444444,
              "#bd3786"
             ],
             [
              0.5555555555555556,
              "#d8576b"
             ],
             [
              0.6666666666666666,
              "#ed7953"
             ],
             [
              0.7777777777777778,
              "#fb9f3a"
             ],
             [
              0.8888888888888888,
              "#fdca26"
             ],
             [
              1,
              "#f0f921"
             ]
            ],
            "type": "heatmapgl"
           }
          ],
          "histogram": [
           {
            "marker": {
             "pattern": {
              "fillmode": "overlay",
              "size": 10,
              "solidity": 0.2
             }
            },
            "type": "histogram"
           }
          ],
          "histogram2d": [
           {
            "colorbar": {
             "outlinewidth": 0,
             "ticks": ""
            },
            "colorscale": [
             [
              0,
              "#0d0887"
             ],
             [
              0.1111111111111111,
              "#46039f"
             ],
             [
              0.2222222222222222,
              "#7201a8"
             ],
             [
              0.3333333333333333,
              "#9c179e"
             ],
             [
              0.4444444444444444,
              "#bd3786"
             ],
             [
              0.5555555555555556,
              "#d8576b"
             ],
             [
              0.6666666666666666,
              "#ed7953"
             ],
             [
              0.7777777777777778,
              "#fb9f3a"
             ],
             [
              0.8888888888888888,
              "#fdca26"
             ],
             [
              1,
              "#f0f921"
             ]
            ],
            "type": "histogram2d"
           }
          ],
          "histogram2dcontour": [
           {
            "colorbar": {
             "outlinewidth": 0,
             "ticks": ""
            },
            "colorscale": [
             [
              0,
              "#0d0887"
             ],
             [
              0.1111111111111111,
              "#46039f"
             ],
             [
              0.2222222222222222,
              "#7201a8"
             ],
             [
              0.3333333333333333,
              "#9c179e"
             ],
             [
              0.4444444444444444,
              "#bd3786"
             ],
             [
              0.5555555555555556,
              "#d8576b"
             ],
             [
              0.6666666666666666,
              "#ed7953"
             ],
             [
              0.7777777777777778,
              "#fb9f3a"
             ],
             [
              0.8888888888888888,
              "#fdca26"
             ],
             [
              1,
              "#f0f921"
             ]
            ],
            "type": "histogram2dcontour"
           }
          ],
          "mesh3d": [
           {
            "colorbar": {
             "outlinewidth": 0,
             "ticks": ""
            },
            "type": "mesh3d"
           }
          ],
          "parcoords": [
           {
            "line": {
             "colorbar": {
              "outlinewidth": 0,
              "ticks": ""
             }
            },
            "type": "parcoords"
           }
          ],
          "pie": [
           {
            "automargin": true,
            "type": "pie"
           }
          ],
          "scatter": [
           {
            "fillpattern": {
             "fillmode": "overlay",
             "size": 10,
             "solidity": 0.2
            },
            "type": "scatter"
           }
          ],
          "scatter3d": [
           {
            "line": {
             "colorbar": {
              "outlinewidth": 0,
              "ticks": ""
             }
            },
            "marker": {
             "colorbar": {
              "outlinewidth": 0,
              "ticks": ""
             }
            },
            "type": "scatter3d"
           }
          ],
          "scattercarpet": [
           {
            "marker": {
             "colorbar": {
              "outlinewidth": 0,
              "ticks": ""
             }
            },
            "type": "scattercarpet"
           }
          ],
          "scattergeo": [
           {
            "marker": {
             "colorbar": {
              "outlinewidth": 0,
              "ticks": ""
             }
            },
            "type": "scattergeo"
           }
          ],
          "scattergl": [
           {
            "marker": {
             "colorbar": {
              "outlinewidth": 0,
              "ticks": ""
             }
            },
            "type": "scattergl"
           }
          ],
          "scattermapbox": [
           {
            "marker": {
             "colorbar": {
              "outlinewidth": 0,
              "ticks": ""
             }
            },
            "type": "scattermapbox"
           }
          ],
          "scatterpolar": [
           {
            "marker": {
             "colorbar": {
              "outlinewidth": 0,
              "ticks": ""
             }
            },
            "type": "scatterpolar"
           }
          ],
          "scatterpolargl": [
           {
            "marker": {
             "colorbar": {
              "outlinewidth": 0,
              "ticks": ""
             }
            },
            "type": "scatterpolargl"
           }
          ],
          "scatterternary": [
           {
            "marker": {
             "colorbar": {
              "outlinewidth": 0,
              "ticks": ""
             }
            },
            "type": "scatterternary"
           }
          ],
          "surface": [
           {
            "colorbar": {
             "outlinewidth": 0,
             "ticks": ""
            },
            "colorscale": [
             [
              0,
              "#0d0887"
             ],
             [
              0.1111111111111111,
              "#46039f"
             ],
             [
              0.2222222222222222,
              "#7201a8"
             ],
             [
              0.3333333333333333,
              "#9c179e"
             ],
             [
              0.4444444444444444,
              "#bd3786"
             ],
             [
              0.5555555555555556,
              "#d8576b"
             ],
             [
              0.6666666666666666,
              "#ed7953"
             ],
             [
              0.7777777777777778,
              "#fb9f3a"
             ],
             [
              0.8888888888888888,
              "#fdca26"
             ],
             [
              1,
              "#f0f921"
             ]
            ],
            "type": "surface"
           }
          ],
          "table": [
           {
            "cells": {
             "fill": {
              "color": "#EBF0F8"
             },
             "line": {
              "color": "white"
             }
            },
            "header": {
             "fill": {
              "color": "#C8D4E3"
             },
             "line": {
              "color": "white"
             }
            },
            "type": "table"
           }
          ]
         },
         "layout": {
          "annotationdefaults": {
           "arrowcolor": "#2a3f5f",
           "arrowhead": 0,
           "arrowwidth": 1
          },
          "autotypenumbers": "strict",
          "coloraxis": {
           "colorbar": {
            "outlinewidth": 0,
            "ticks": ""
           }
          },
          "colorscale": {
           "diverging": [
            [
             0,
             "#8e0152"
            ],
            [
             0.1,
             "#c51b7d"
            ],
            [
             0.2,
             "#de77ae"
            ],
            [
             0.3,
             "#f1b6da"
            ],
            [
             0.4,
             "#fde0ef"
            ],
            [
             0.5,
             "#f7f7f7"
            ],
            [
             0.6,
             "#e6f5d0"
            ],
            [
             0.7,
             "#b8e186"
            ],
            [
             0.8,
             "#7fbc41"
            ],
            [
             0.9,
             "#4d9221"
            ],
            [
             1,
             "#276419"
            ]
           ],
           "sequential": [
            [
             0,
             "#0d0887"
            ],
            [
             0.1111111111111111,
             "#46039f"
            ],
            [
             0.2222222222222222,
             "#7201a8"
            ],
            [
             0.3333333333333333,
             "#9c179e"
            ],
            [
             0.4444444444444444,
             "#bd3786"
            ],
            [
             0.5555555555555556,
             "#d8576b"
            ],
            [
             0.6666666666666666,
             "#ed7953"
            ],
            [
             0.7777777777777778,
             "#fb9f3a"
            ],
            [
             0.8888888888888888,
             "#fdca26"
            ],
            [
             1,
             "#f0f921"
            ]
           ],
           "sequentialminus": [
            [
             0,
             "#0d0887"
            ],
            [
             0.1111111111111111,
             "#46039f"
            ],
            [
             0.2222222222222222,
             "#7201a8"
            ],
            [
             0.3333333333333333,
             "#9c179e"
            ],
            [
             0.4444444444444444,
             "#bd3786"
            ],
            [
             0.5555555555555556,
             "#d8576b"
            ],
            [
             0.6666666666666666,
             "#ed7953"
            ],
            [
             0.7777777777777778,
             "#fb9f3a"
            ],
            [
             0.8888888888888888,
             "#fdca26"
            ],
            [
             1,
             "#f0f921"
            ]
           ]
          },
          "colorway": [
           "#636efa",
           "#EF553B",
           "#00cc96",
           "#ab63fa",
           "#FFA15A",
           "#19d3f3",
           "#FF6692",
           "#B6E880",
           "#FF97FF",
           "#FECB52"
          ],
          "font": {
           "color": "#2a3f5f"
          },
          "geo": {
           "bgcolor": "white",
           "lakecolor": "white",
           "landcolor": "#E5ECF6",
           "showlakes": true,
           "showland": true,
           "subunitcolor": "white"
          },
          "hoverlabel": {
           "align": "left"
          },
          "hovermode": "closest",
          "mapbox": {
           "style": "light"
          },
          "paper_bgcolor": "white",
          "plot_bgcolor": "#E5ECF6",
          "polar": {
           "angularaxis": {
            "gridcolor": "white",
            "linecolor": "white",
            "ticks": ""
           },
           "bgcolor": "#E5ECF6",
           "radialaxis": {
            "gridcolor": "white",
            "linecolor": "white",
            "ticks": ""
           }
          },
          "scene": {
           "xaxis": {
            "backgroundcolor": "#E5ECF6",
            "gridcolor": "white",
            "gridwidth": 2,
            "linecolor": "white",
            "showbackground": true,
            "ticks": "",
            "zerolinecolor": "white"
           },
           "yaxis": {
            "backgroundcolor": "#E5ECF6",
            "gridcolor": "white",
            "gridwidth": 2,
            "linecolor": "white",
            "showbackground": true,
            "ticks": "",
            "zerolinecolor": "white"
           },
           "zaxis": {
            "backgroundcolor": "#E5ECF6",
            "gridcolor": "white",
            "gridwidth": 2,
            "linecolor": "white",
            "showbackground": true,
            "ticks": "",
            "zerolinecolor": "white"
           }
          },
          "shapedefaults": {
           "line": {
            "color": "#2a3f5f"
           }
          },
          "ternary": {
           "aaxis": {
            "gridcolor": "white",
            "linecolor": "white",
            "ticks": ""
           },
           "baxis": {
            "gridcolor": "white",
            "linecolor": "white",
            "ticks": ""
           },
           "bgcolor": "#E5ECF6",
           "caxis": {
            "gridcolor": "white",
            "linecolor": "white",
            "ticks": ""
           }
          },
          "title": {
           "x": 0.05
          },
          "xaxis": {
           "automargin": true,
           "gridcolor": "white",
           "linecolor": "white",
           "ticks": "",
           "title": {
            "standoff": 15
           },
           "zerolinecolor": "white",
           "zerolinewidth": 2
          },
          "yaxis": {
           "automargin": true,
           "gridcolor": "white",
           "linecolor": "white",
           "ticks": "",
           "title": {
            "standoff": 15
           },
           "zerolinecolor": "white",
           "zerolinewidth": 2
          }
         }
        },
        "title": {
         "text": "TOP 15 COURSES WITH THE MOST LECTURES",
         "x": 0.5,
         "y": 1
        },
        "width": 950,
        "xaxis": {
         "anchor": "y",
         "domain": [
          0,
          1
         ],
         "title": {
          "font": {
           "size": 16
          },
          "text": "Lectures's number"
         }
        },
        "yaxis": {
         "anchor": "x",
         "domain": [
          0,
          1
         ],
         "title": {
          "font": {
           "size": 16
          },
          "text": "Course's name"
         }
        }
       }
      },
      "text/html": [
       "<div>                            <div id=\"ae032d57-9173-49ce-b43a-834bca48cd87\" class=\"plotly-graph-div\" style=\"height:480px; width:950px;\"></div>            <script type=\"text/javascript\">                require([\"plotly\"], function(Plotly) {                    window.PLOTLYENV=window.PLOTLYENV || {};                                    if (document.getElementById(\"ae032d57-9173-49ce-b43a-834bca48cd87\")) {                    Plotly.newPlot(                        \"ae032d57-9173-49ce-b43a-834bca48cd87\",                        [{\"alignmentgroup\":\"True\",\"hovertemplate\":\"x=%{x}<br>y=%{y}<br>color=%{marker.color}<extra></extra>\",\"legendgroup\":\"\",\"marker\":{\"color\":[699,668,637,636,601,601,600,600,600,600,576,561,560,556,551],\"coloraxis\":\"coloraxis\",\"pattern\":{\"shape\":\"\"}},\"name\":\"\",\"offsetgroup\":\"\",\"orientation\":\"h\",\"showlegend\":false,\"textposition\":\"outside\",\"texttemplate\":\"%{x}\",\"x\":[699,668,637,636,601,601,600,600,600,600,576,561,560,556,551],\"xaxis\":\"x\",\"y\":[\"Accounting\\u2013Financial Accounting Total-Beginners to Advanced\",\"QuickBooks Pro Desktop 2020, 2019, & 2018 Start to Finish\",\"The Complete Digital Marketing Guide - 18 Courses in 1\",\"The Ultimate QuickBooks Pro Training Bundle - 60+ Hours\",\"Winning Communication Skills for Telephone, Conference Calls\",\"Communication Skills for Beginners\",\"Complete Media Training Master Class - Confidence on Camera\",\"Workplace Communication: Effectively Deliver Criticism\",\"The Complete Communication Skills Master Class for Life\",\"The Complete Storytelling Course for Speaking & Presenting\",\"The Complete Sales Skills Master Class - Sales Marketing B2B\",\"Financial Management A Complete Study for CA/CMA/CS/CFA/ACCA\",\"Learn to Trade The News\",\"Project Management Professional Certification Program (PMP)\",\"QuickBooks Online 2020 Vs. QuickBooks Desktop 2020\"],\"yaxis\":\"y\",\"type\":\"bar\",\"textfont\":{\"size\":14},\"cliponaxis\":false,\"textangle\":0}],                        {\"template\":{\"data\":{\"histogram2dcontour\":[{\"type\":\"histogram2dcontour\",\"colorbar\":{\"outlinewidth\":0,\"ticks\":\"\"},\"colorscale\":[[0.0,\"#0d0887\"],[0.1111111111111111,\"#46039f\"],[0.2222222222222222,\"#7201a8\"],[0.3333333333333333,\"#9c179e\"],[0.4444444444444444,\"#bd3786\"],[0.5555555555555556,\"#d8576b\"],[0.6666666666666666,\"#ed7953\"],[0.7777777777777778,\"#fb9f3a\"],[0.8888888888888888,\"#fdca26\"],[1.0,\"#f0f921\"]]}],\"choropleth\":[{\"type\":\"choropleth\",\"colorbar\":{\"outlinewidth\":0,\"ticks\":\"\"}}],\"histogram2d\":[{\"type\":\"histogram2d\",\"colorbar\":{\"outlinewidth\":0,\"ticks\":\"\"},\"colorscale\":[[0.0,\"#0d0887\"],[0.1111111111111111,\"#46039f\"],[0.2222222222222222,\"#7201a8\"],[0.3333333333333333,\"#9c179e\"],[0.4444444444444444,\"#bd3786\"],[0.5555555555555556,\"#d8576b\"],[0.6666666666666666,\"#ed7953\"],[0.7777777777777778,\"#fb9f3a\"],[0.8888888888888888,\"#fdca26\"],[1.0,\"#f0f921\"]]}],\"heatmap\":[{\"type\":\"heatmap\",\"colorbar\":{\"outlinewidth\":0,\"ticks\":\"\"},\"colorscale\":[[0.0,\"#0d0887\"],[0.1111111111111111,\"#46039f\"],[0.2222222222222222,\"#7201a8\"],[0.3333333333333333,\"#9c179e\"],[0.4444444444444444,\"#bd3786\"],[0.5555555555555556,\"#d8576b\"],[0.6666666666666666,\"#ed7953\"],[0.7777777777777778,\"#fb9f3a\"],[0.8888888888888888,\"#fdca26\"],[1.0,\"#f0f921\"]]}],\"heatmapgl\":[{\"type\":\"heatmapgl\",\"colorbar\":{\"outlinewidth\":0,\"ticks\":\"\"},\"colorscale\":[[0.0,\"#0d0887\"],[0.1111111111111111,\"#46039f\"],[0.2222222222222222,\"#7201a8\"],[0.3333333333333333,\"#9c179e\"],[0.4444444444444444,\"#bd3786\"],[0.5555555555555556,\"#d8576b\"],[0.6666666666666666,\"#ed7953\"],[0.7777777777777778,\"#fb9f3a\"],[0.8888888888888888,\"#fdca26\"],[1.0,\"#f0f921\"]]}],\"contourcarpet\":[{\"type\":\"contourcarpet\",\"colorbar\":{\"outlinewidth\":0,\"ticks\":\"\"}}],\"contour\":[{\"type\":\"contour\",\"colorbar\":{\"outlinewidth\":0,\"ticks\":\"\"},\"colorscale\":[[0.0,\"#0d0887\"],[0.1111111111111111,\"#46039f\"],[0.2222222222222222,\"#7201a8\"],[0.3333333333333333,\"#9c179e\"],[0.4444444444444444,\"#bd3786\"],[0.5555555555555556,\"#d8576b\"],[0.6666666666666666,\"#ed7953\"],[0.7777777777777778,\"#fb9f3a\"],[0.8888888888888888,\"#fdca26\"],[1.0,\"#f0f921\"]]}],\"surface\":[{\"type\":\"surface\",\"colorbar\":{\"outlinewidth\":0,\"ticks\":\"\"},\"colorscale\":[[0.0,\"#0d0887\"],[0.1111111111111111,\"#46039f\"],[0.2222222222222222,\"#7201a8\"],[0.3333333333333333,\"#9c179e\"],[0.4444444444444444,\"#bd3786\"],[0.5555555555555556,\"#d8576b\"],[0.6666666666666666,\"#ed7953\"],[0.7777777777777778,\"#fb9f3a\"],[0.8888888888888888,\"#fdca26\"],[1.0,\"#f0f921\"]]}],\"mesh3d\":[{\"type\":\"mesh3d\",\"colorbar\":{\"outlinewidth\":0,\"ticks\":\"\"}}],\"scatter\":[{\"fillpattern\":{\"fillmode\":\"overlay\",\"size\":10,\"solidity\":0.2},\"type\":\"scatter\"}],\"parcoords\":[{\"type\":\"parcoords\",\"line\":{\"colorbar\":{\"outlinewidth\":0,\"ticks\":\"\"}}}],\"scatterpolargl\":[{\"type\":\"scatterpolargl\",\"marker\":{\"colorbar\":{\"outlinewidth\":0,\"ticks\":\"\"}}}],\"bar\":[{\"error_x\":{\"color\":\"#2a3f5f\"},\"error_y\":{\"color\":\"#2a3f5f\"},\"marker\":{\"line\":{\"color\":\"#E5ECF6\",\"width\":0.5},\"pattern\":{\"fillmode\":\"overlay\",\"size\":10,\"solidity\":0.2}},\"type\":\"bar\"}],\"scattergeo\":[{\"type\":\"scattergeo\",\"marker\":{\"colorbar\":{\"outlinewidth\":0,\"ticks\":\"\"}}}],\"scatterpolar\":[{\"type\":\"scatterpolar\",\"marker\":{\"colorbar\":{\"outlinewidth\":0,\"ticks\":\"\"}}}],\"histogram\":[{\"marker\":{\"pattern\":{\"fillmode\":\"overlay\",\"size\":10,\"solidity\":0.2}},\"type\":\"histogram\"}],\"scattergl\":[{\"type\":\"scattergl\",\"marker\":{\"colorbar\":{\"outlinewidth\":0,\"ticks\":\"\"}}}],\"scatter3d\":[{\"type\":\"scatter3d\",\"line\":{\"colorbar\":{\"outlinewidth\":0,\"ticks\":\"\"}},\"marker\":{\"colorbar\":{\"outlinewidth\":0,\"ticks\":\"\"}}}],\"scattermapbox\":[{\"type\":\"scattermapbox\",\"marker\":{\"colorbar\":{\"outlinewidth\":0,\"ticks\":\"\"}}}],\"scatterternary\":[{\"type\":\"scatterternary\",\"marker\":{\"colorbar\":{\"outlinewidth\":0,\"ticks\":\"\"}}}],\"scattercarpet\":[{\"type\":\"scattercarpet\",\"marker\":{\"colorbar\":{\"outlinewidth\":0,\"ticks\":\"\"}}}],\"carpet\":[{\"aaxis\":{\"endlinecolor\":\"#2a3f5f\",\"gridcolor\":\"white\",\"linecolor\":\"white\",\"minorgridcolor\":\"white\",\"startlinecolor\":\"#2a3f5f\"},\"baxis\":{\"endlinecolor\":\"#2a3f5f\",\"gridcolor\":\"white\",\"linecolor\":\"white\",\"minorgridcolor\":\"white\",\"startlinecolor\":\"#2a3f5f\"},\"type\":\"carpet\"}],\"table\":[{\"cells\":{\"fill\":{\"color\":\"#EBF0F8\"},\"line\":{\"color\":\"white\"}},\"header\":{\"fill\":{\"color\":\"#C8D4E3\"},\"line\":{\"color\":\"white\"}},\"type\":\"table\"}],\"barpolar\":[{\"marker\":{\"line\":{\"color\":\"#E5ECF6\",\"width\":0.5},\"pattern\":{\"fillmode\":\"overlay\",\"size\":10,\"solidity\":0.2}},\"type\":\"barpolar\"}],\"pie\":[{\"automargin\":true,\"type\":\"pie\"}]},\"layout\":{\"autotypenumbers\":\"strict\",\"colorway\":[\"#636efa\",\"#EF553B\",\"#00cc96\",\"#ab63fa\",\"#FFA15A\",\"#19d3f3\",\"#FF6692\",\"#B6E880\",\"#FF97FF\",\"#FECB52\"],\"font\":{\"color\":\"#2a3f5f\"},\"hovermode\":\"closest\",\"hoverlabel\":{\"align\":\"left\"},\"paper_bgcolor\":\"white\",\"plot_bgcolor\":\"#E5ECF6\",\"polar\":{\"bgcolor\":\"#E5ECF6\",\"angularaxis\":{\"gridcolor\":\"white\",\"linecolor\":\"white\",\"ticks\":\"\"},\"radialaxis\":{\"gridcolor\":\"white\",\"linecolor\":\"white\",\"ticks\":\"\"}},\"ternary\":{\"bgcolor\":\"#E5ECF6\",\"aaxis\":{\"gridcolor\":\"white\",\"linecolor\":\"white\",\"ticks\":\"\"},\"baxis\":{\"gridcolor\":\"white\",\"linecolor\":\"white\",\"ticks\":\"\"},\"caxis\":{\"gridcolor\":\"white\",\"linecolor\":\"white\",\"ticks\":\"\"}},\"coloraxis\":{\"colorbar\":{\"outlinewidth\":0,\"ticks\":\"\"}},\"colorscale\":{\"sequential\":[[0.0,\"#0d0887\"],[0.1111111111111111,\"#46039f\"],[0.2222222222222222,\"#7201a8\"],[0.3333333333333333,\"#9c179e\"],[0.4444444444444444,\"#bd3786\"],[0.5555555555555556,\"#d8576b\"],[0.6666666666666666,\"#ed7953\"],[0.7777777777777778,\"#fb9f3a\"],[0.8888888888888888,\"#fdca26\"],[1.0,\"#f0f921\"]],\"sequentialminus\":[[0.0,\"#0d0887\"],[0.1111111111111111,\"#46039f\"],[0.2222222222222222,\"#7201a8\"],[0.3333333333333333,\"#9c179e\"],[0.4444444444444444,\"#bd3786\"],[0.5555555555555556,\"#d8576b\"],[0.6666666666666666,\"#ed7953\"],[0.7777777777777778,\"#fb9f3a\"],[0.8888888888888888,\"#fdca26\"],[1.0,\"#f0f921\"]],\"diverging\":[[0,\"#8e0152\"],[0.1,\"#c51b7d\"],[0.2,\"#de77ae\"],[0.3,\"#f1b6da\"],[0.4,\"#fde0ef\"],[0.5,\"#f7f7f7\"],[0.6,\"#e6f5d0\"],[0.7,\"#b8e186\"],[0.8,\"#7fbc41\"],[0.9,\"#4d9221\"],[1,\"#276419\"]]},\"xaxis\":{\"gridcolor\":\"white\",\"linecolor\":\"white\",\"ticks\":\"\",\"title\":{\"standoff\":15},\"zerolinecolor\":\"white\",\"automargin\":true,\"zerolinewidth\":2},\"yaxis\":{\"gridcolor\":\"white\",\"linecolor\":\"white\",\"ticks\":\"\",\"title\":{\"standoff\":15},\"zerolinecolor\":\"white\",\"automargin\":true,\"zerolinewidth\":2},\"scene\":{\"xaxis\":{\"backgroundcolor\":\"#E5ECF6\",\"gridcolor\":\"white\",\"linecolor\":\"white\",\"showbackground\":true,\"ticks\":\"\",\"zerolinecolor\":\"white\",\"gridwidth\":2},\"yaxis\":{\"backgroundcolor\":\"#E5ECF6\",\"gridcolor\":\"white\",\"linecolor\":\"white\",\"showbackground\":true,\"ticks\":\"\",\"zerolinecolor\":\"white\",\"gridwidth\":2},\"zaxis\":{\"backgroundcolor\":\"#E5ECF6\",\"gridcolor\":\"white\",\"linecolor\":\"white\",\"showbackground\":true,\"ticks\":\"\",\"zerolinecolor\":\"white\",\"gridwidth\":2}},\"shapedefaults\":{\"line\":{\"color\":\"#2a3f5f\"}},\"annotationdefaults\":{\"arrowcolor\":\"#2a3f5f\",\"arrowhead\":0,\"arrowwidth\":1},\"geo\":{\"bgcolor\":\"white\",\"landcolor\":\"#E5ECF6\",\"subunitcolor\":\"white\",\"showland\":true,\"showlakes\":true,\"lakecolor\":\"white\"},\"title\":{\"x\":0.05},\"mapbox\":{\"style\":\"light\"}}},\"xaxis\":{\"anchor\":\"y\",\"domain\":[0.0,1.0],\"title\":{\"text\":\"Lectures's number\",\"font\":{\"size\":16}}},\"yaxis\":{\"anchor\":\"x\",\"domain\":[0.0,1.0],\"title\":{\"text\":\"Course's name\",\"font\":{\"size\":16}}},\"coloraxis\":{\"colorbar\":{\"title\":{\"text\":\"color\"}},\"colorscale\":[[0.0,\"#0d0887\"],[0.1111111111111111,\"#46039f\"],[0.2222222222222222,\"#7201a8\"],[0.3333333333333333,\"#9c179e\"],[0.4444444444444444,\"#bd3786\"],[0.5555555555555556,\"#d8576b\"],[0.6666666666666666,\"#ed7953\"],[0.7777777777777778,\"#fb9f3a\"],[0.8888888888888888,\"#fdca26\"],[1.0,\"#f0f921\"]]},\"legend\":{\"tracegroupgap\":0},\"margin\":{\"t\":60},\"barmode\":\"group\",\"height\":480,\"width\":950,\"title\":{\"text\":\"TOP 15 COURSES WITH THE MOST LECTURES\",\"x\":0.5,\"y\":1},\"hovermode\":\"x\",\"paper_bgcolor\":\"rgb(220, 220, 220)\",\"plot_bgcolor\":\"rgb(220, 220, 220)\"},                        {\"responsive\": true}                    ).then(function(){\n",
       "                            \n",
       "var gd = document.getElementById('ae032d57-9173-49ce-b43a-834bca48cd87');\n",
       "var x = new MutationObserver(function (mutations, observer) {{\n",
       "        var display = window.getComputedStyle(gd).display;\n",
       "        if (!display || display === 'none') {{\n",
       "            console.log([gd, 'removed!']);\n",
       "            Plotly.purge(gd);\n",
       "            observer.disconnect();\n",
       "        }}\n",
       "}});\n",
       "\n",
       "// Listen for the removal of the full notebook cells\n",
       "var notebookContainer = gd.closest('#notebook-container');\n",
       "if (notebookContainer) {{\n",
       "    x.observe(notebookContainer, {childList: true});\n",
       "}}\n",
       "\n",
       "// Listen for the clearing of the current output cell\n",
       "var outputEl = gd.closest('.output');\n",
       "if (outputEl) {{\n",
       "    x.observe(outputEl, {childList: true});\n",
       "}}\n",
       "\n",
       "                        })                };                });            </script>        </div>"
      ]
     },
     "metadata": {},
     "output_type": "display_data"
    }
   ],
   "source": [
    "fig = px.bar(df, x = df.sort_values(by=\"Lectures\", ascending=False)[\"Lectures\"][0:15], \n",
    "             y = df.sort_values(by=\"Lectures\", ascending=False).Title[0:15], \n",
    "             width = 950, height = 480, text_auto = True,\n",
    "            barmode = \"group\", color = df.sort_values(by=\"Lectures\", ascending=False)[\"Lectures\"][0:15])\n",
    "\n",
    "fig.update_traces(textfont_size=14, textangle=0, textposition=\"outside\", cliponaxis=False)\n",
    "\n",
    "fig.update_layout(title = \"TOP 15 COURSES WITH THE MOST LECTURES\", title_x = 0.5, title_y = 1, \n",
    "                  hovermode = \"x\",\n",
    "                 xaxis = dict(title = \"Lectures's number\", titlefont = dict(size = 16)), \n",
    "                 yaxis = dict(title = \"Course's name\", titlefont = dict(size = 16)))\n",
    "fig.update_layout(paper_bgcolor = \"rgb(220, 220, 220)\", \n",
    "                 plot_bgcolor = \"rgb(220, 220, 220)\")\n",
    "\n",
    "fig.show()"
   ]
  },
  {
   "cell_type": "markdown",
   "id": "619b1d5f",
   "metadata": {},
   "source": [
    "### <font color='blue'>Top 15 courses with the most Num reviews </font>"
   ]
  },
  {
   "cell_type": "code",
   "execution_count": 95,
   "id": "b7576e71",
   "metadata": {},
   "outputs": [
    {
     "data": {
      "application/vnd.plotly.v1+json": {
       "config": {
        "plotlyServerURL": "https://plot.ly"
       },
       "data": [
        {
         "alignmentgroup": "True",
         "cliponaxis": false,
         "hovertemplate": "x=%{x}<br>y=%{y}<br>color=%{marker.color}<extra></extra>",
         "legendgroup": "",
         "marker": {
          "color": [
           78006,
           54581,
           52653,
           46447,
           41630,
           38093,
           30470,
           28665,
           27408,
           23906,
           23635,
           23580,
           23326,
           22595,
           21537
          ],
          "coloraxis": "coloraxis",
          "pattern": {
           "shape": ""
          }
         },
         "name": "",
         "offsetgroup": "",
         "orientation": "h",
         "showlegend": false,
         "textangle": 0,
         "textfont": {
          "size": 14
         },
         "textposition": "outside",
         "texttemplate": "%{x}",
         "type": "bar",
         "x": [
          78006,
          54581,
          52653,
          46447,
          41630,
          38093,
          30470,
          28665,
          27408,
          23906,
          23635,
          23580,
          23326,
          22595,
          21537
         ],
         "xaxis": "x",
         "y": [
          "The Complete SQL Bootcamp 2020: Go from Zero to Hero",
          "Tableau 2020 A-Z: Hands-On Tableau Training for Data Science",
          "PMP Exam Prep Seminar -  PMBOK Guide 6",
          "The Complete Financial Analyst Course 2020",
          "An Entire MBA in 1 Course:Award Winning Business School Prof",
          "Microsoft Power BI - A Complete Introduction [2020 EDITION]",
          "Agile Crash Course: Agile Project Management; Agile Delivery",
          "Beginner to Pro in Excel: Financial Modeling and Valuation",
          "Become a Product Manager | Learn the Skills & Get the Job",
          "The Business Intelligence Analyst Course 2020",
          "Stock Market Investing for Beginners",
          "Microsoft Power BI - Up & Running With Power BI Desktop",
          "Business Analysis Fundamentals",
          "Leadership: Practical Leadership Skills",
          "The Complete Foundation Stock Trading Course"
         ],
         "yaxis": "y"
        }
       ],
       "layout": {
        "barmode": "group",
        "coloraxis": {
         "colorbar": {
          "title": {
           "text": "color"
          }
         },
         "colorscale": [
          [
           0,
           "#0d0887"
          ],
          [
           0.1111111111111111,
           "#46039f"
          ],
          [
           0.2222222222222222,
           "#7201a8"
          ],
          [
           0.3333333333333333,
           "#9c179e"
          ],
          [
           0.4444444444444444,
           "#bd3786"
          ],
          [
           0.5555555555555556,
           "#d8576b"
          ],
          [
           0.6666666666666666,
           "#ed7953"
          ],
          [
           0.7777777777777778,
           "#fb9f3a"
          ],
          [
           0.8888888888888888,
           "#fdca26"
          ],
          [
           1,
           "#f0f921"
          ]
         ]
        },
        "height": 480,
        "hovermode": "x",
        "legend": {
         "tracegroupgap": 0
        },
        "margin": {
         "t": 60
        },
        "template": {
         "data": {
          "bar": [
           {
            "error_x": {
             "color": "#f2f5fa"
            },
            "error_y": {
             "color": "#f2f5fa"
            },
            "marker": {
             "line": {
              "color": "rgb(17,17,17)",
              "width": 0.5
             },
             "pattern": {
              "fillmode": "overlay",
              "size": 10,
              "solidity": 0.2
             }
            },
            "type": "bar"
           }
          ],
          "barpolar": [
           {
            "marker": {
             "line": {
              "color": "rgb(17,17,17)",
              "width": 0.5
             },
             "pattern": {
              "fillmode": "overlay",
              "size": 10,
              "solidity": 0.2
             }
            },
            "type": "barpolar"
           }
          ],
          "carpet": [
           {
            "aaxis": {
             "endlinecolor": "#A2B1C6",
             "gridcolor": "#506784",
             "linecolor": "#506784",
             "minorgridcolor": "#506784",
             "startlinecolor": "#A2B1C6"
            },
            "baxis": {
             "endlinecolor": "#A2B1C6",
             "gridcolor": "#506784",
             "linecolor": "#506784",
             "minorgridcolor": "#506784",
             "startlinecolor": "#A2B1C6"
            },
            "type": "carpet"
           }
          ],
          "choropleth": [
           {
            "colorbar": {
             "outlinewidth": 0,
             "ticks": ""
            },
            "type": "choropleth"
           }
          ],
          "contour": [
           {
            "colorbar": {
             "outlinewidth": 0,
             "ticks": ""
            },
            "colorscale": [
             [
              0,
              "#0d0887"
             ],
             [
              0.1111111111111111,
              "#46039f"
             ],
             [
              0.2222222222222222,
              "#7201a8"
             ],
             [
              0.3333333333333333,
              "#9c179e"
             ],
             [
              0.4444444444444444,
              "#bd3786"
             ],
             [
              0.5555555555555556,
              "#d8576b"
             ],
             [
              0.6666666666666666,
              "#ed7953"
             ],
             [
              0.7777777777777778,
              "#fb9f3a"
             ],
             [
              0.8888888888888888,
              "#fdca26"
             ],
             [
              1,
              "#f0f921"
             ]
            ],
            "type": "contour"
           }
          ],
          "contourcarpet": [
           {
            "colorbar": {
             "outlinewidth": 0,
             "ticks": ""
            },
            "type": "contourcarpet"
           }
          ],
          "heatmap": [
           {
            "colorbar": {
             "outlinewidth": 0,
             "ticks": ""
            },
            "colorscale": [
             [
              0,
              "#0d0887"
             ],
             [
              0.1111111111111111,
              "#46039f"
             ],
             [
              0.2222222222222222,
              "#7201a8"
             ],
             [
              0.3333333333333333,
              "#9c179e"
             ],
             [
              0.4444444444444444,
              "#bd3786"
             ],
             [
              0.5555555555555556,
              "#d8576b"
             ],
             [
              0.6666666666666666,
              "#ed7953"
             ],
             [
              0.7777777777777778,
              "#fb9f3a"
             ],
             [
              0.8888888888888888,
              "#fdca26"
             ],
             [
              1,
              "#f0f921"
             ]
            ],
            "type": "heatmap"
           }
          ],
          "heatmapgl": [
           {
            "colorbar": {
             "outlinewidth": 0,
             "ticks": ""
            },
            "colorscale": [
             [
              0,
              "#0d0887"
             ],
             [
              0.1111111111111111,
              "#46039f"
             ],
             [
              0.2222222222222222,
              "#7201a8"
             ],
             [
              0.3333333333333333,
              "#9c179e"
             ],
             [
              0.4444444444444444,
              "#bd3786"
             ],
             [
              0.5555555555555556,
              "#d8576b"
             ],
             [
              0.6666666666666666,
              "#ed7953"
             ],
             [
              0.7777777777777778,
              "#fb9f3a"
             ],
             [
              0.8888888888888888,
              "#fdca26"
             ],
             [
              1,
              "#f0f921"
             ]
            ],
            "type": "heatmapgl"
           }
          ],
          "histogram": [
           {
            "marker": {
             "pattern": {
              "fillmode": "overlay",
              "size": 10,
              "solidity": 0.2
             }
            },
            "type": "histogram"
           }
          ],
          "histogram2d": [
           {
            "colorbar": {
             "outlinewidth": 0,
             "ticks": ""
            },
            "colorscale": [
             [
              0,
              "#0d0887"
             ],
             [
              0.1111111111111111,
              "#46039f"
             ],
             [
              0.2222222222222222,
              "#7201a8"
             ],
             [
              0.3333333333333333,
              "#9c179e"
             ],
             [
              0.4444444444444444,
              "#bd3786"
             ],
             [
              0.5555555555555556,
              "#d8576b"
             ],
             [
              0.6666666666666666,
              "#ed7953"
             ],
             [
              0.7777777777777778,
              "#fb9f3a"
             ],
             [
              0.8888888888888888,
              "#fdca26"
             ],
             [
              1,
              "#f0f921"
             ]
            ],
            "type": "histogram2d"
           }
          ],
          "histogram2dcontour": [
           {
            "colorbar": {
             "outlinewidth": 0,
             "ticks": ""
            },
            "colorscale": [
             [
              0,
              "#0d0887"
             ],
             [
              0.1111111111111111,
              "#46039f"
             ],
             [
              0.2222222222222222,
              "#7201a8"
             ],
             [
              0.3333333333333333,
              "#9c179e"
             ],
             [
              0.4444444444444444,
              "#bd3786"
             ],
             [
              0.5555555555555556,
              "#d8576b"
             ],
             [
              0.6666666666666666,
              "#ed7953"
             ],
             [
              0.7777777777777778,
              "#fb9f3a"
             ],
             [
              0.8888888888888888,
              "#fdca26"
             ],
             [
              1,
              "#f0f921"
             ]
            ],
            "type": "histogram2dcontour"
           }
          ],
          "mesh3d": [
           {
            "colorbar": {
             "outlinewidth": 0,
             "ticks": ""
            },
            "type": "mesh3d"
           }
          ],
          "parcoords": [
           {
            "line": {
             "colorbar": {
              "outlinewidth": 0,
              "ticks": ""
             }
            },
            "type": "parcoords"
           }
          ],
          "pie": [
           {
            "automargin": true,
            "type": "pie"
           }
          ],
          "scatter": [
           {
            "marker": {
             "line": {
              "color": "#283442"
             }
            },
            "type": "scatter"
           }
          ],
          "scatter3d": [
           {
            "line": {
             "colorbar": {
              "outlinewidth": 0,
              "ticks": ""
             }
            },
            "marker": {
             "colorbar": {
              "outlinewidth": 0,
              "ticks": ""
             }
            },
            "type": "scatter3d"
           }
          ],
          "scattercarpet": [
           {
            "marker": {
             "colorbar": {
              "outlinewidth": 0,
              "ticks": ""
             }
            },
            "type": "scattercarpet"
           }
          ],
          "scattergeo": [
           {
            "marker": {
             "colorbar": {
              "outlinewidth": 0,
              "ticks": ""
             }
            },
            "type": "scattergeo"
           }
          ],
          "scattergl": [
           {
            "marker": {
             "line": {
              "color": "#283442"
             }
            },
            "type": "scattergl"
           }
          ],
          "scattermapbox": [
           {
            "marker": {
             "colorbar": {
              "outlinewidth": 0,
              "ticks": ""
             }
            },
            "type": "scattermapbox"
           }
          ],
          "scatterpolar": [
           {
            "marker": {
             "colorbar": {
              "outlinewidth": 0,
              "ticks": ""
             }
            },
            "type": "scatterpolar"
           }
          ],
          "scatterpolargl": [
           {
            "marker": {
             "colorbar": {
              "outlinewidth": 0,
              "ticks": ""
             }
            },
            "type": "scatterpolargl"
           }
          ],
          "scatterternary": [
           {
            "marker": {
             "colorbar": {
              "outlinewidth": 0,
              "ticks": ""
             }
            },
            "type": "scatterternary"
           }
          ],
          "surface": [
           {
            "colorbar": {
             "outlinewidth": 0,
             "ticks": ""
            },
            "colorscale": [
             [
              0,
              "#0d0887"
             ],
             [
              0.1111111111111111,
              "#46039f"
             ],
             [
              0.2222222222222222,
              "#7201a8"
             ],
             [
              0.3333333333333333,
              "#9c179e"
             ],
             [
              0.4444444444444444,
              "#bd3786"
             ],
             [
              0.5555555555555556,
              "#d8576b"
             ],
             [
              0.6666666666666666,
              "#ed7953"
             ],
             [
              0.7777777777777778,
              "#fb9f3a"
             ],
             [
              0.8888888888888888,
              "#fdca26"
             ],
             [
              1,
              "#f0f921"
             ]
            ],
            "type": "surface"
           }
          ],
          "table": [
           {
            "cells": {
             "fill": {
              "color": "#506784"
             },
             "line": {
              "color": "rgb(17,17,17)"
             }
            },
            "header": {
             "fill": {
              "color": "#2a3f5f"
             },
             "line": {
              "color": "rgb(17,17,17)"
             }
            },
            "type": "table"
           }
          ]
         },
         "layout": {
          "annotationdefaults": {
           "arrowcolor": "#f2f5fa",
           "arrowhead": 0,
           "arrowwidth": 1
          },
          "autotypenumbers": "strict",
          "coloraxis": {
           "colorbar": {
            "outlinewidth": 0,
            "ticks": ""
           }
          },
          "colorscale": {
           "diverging": [
            [
             0,
             "#8e0152"
            ],
            [
             0.1,
             "#c51b7d"
            ],
            [
             0.2,
             "#de77ae"
            ],
            [
             0.3,
             "#f1b6da"
            ],
            [
             0.4,
             "#fde0ef"
            ],
            [
             0.5,
             "#f7f7f7"
            ],
            [
             0.6,
             "#e6f5d0"
            ],
            [
             0.7,
             "#b8e186"
            ],
            [
             0.8,
             "#7fbc41"
            ],
            [
             0.9,
             "#4d9221"
            ],
            [
             1,
             "#276419"
            ]
           ],
           "sequential": [
            [
             0,
             "#0d0887"
            ],
            [
             0.1111111111111111,
             "#46039f"
            ],
            [
             0.2222222222222222,
             "#7201a8"
            ],
            [
             0.3333333333333333,
             "#9c179e"
            ],
            [
             0.4444444444444444,
             "#bd3786"
            ],
            [
             0.5555555555555556,
             "#d8576b"
            ],
            [
             0.6666666666666666,
             "#ed7953"
            ],
            [
             0.7777777777777778,
             "#fb9f3a"
            ],
            [
             0.8888888888888888,
             "#fdca26"
            ],
            [
             1,
             "#f0f921"
            ]
           ],
           "sequentialminus": [
            [
             0,
             "#0d0887"
            ],
            [
             0.1111111111111111,
             "#46039f"
            ],
            [
             0.2222222222222222,
             "#7201a8"
            ],
            [
             0.3333333333333333,
             "#9c179e"
            ],
            [
             0.4444444444444444,
             "#bd3786"
            ],
            [
             0.5555555555555556,
             "#d8576b"
            ],
            [
             0.6666666666666666,
             "#ed7953"
            ],
            [
             0.7777777777777778,
             "#fb9f3a"
            ],
            [
             0.8888888888888888,
             "#fdca26"
            ],
            [
             1,
             "#f0f921"
            ]
           ]
          },
          "colorway": [
           "#636efa",
           "#EF553B",
           "#00cc96",
           "#ab63fa",
           "#FFA15A",
           "#19d3f3",
           "#FF6692",
           "#B6E880",
           "#FF97FF",
           "#FECB52"
          ],
          "font": {
           "color": "#f2f5fa"
          },
          "geo": {
           "bgcolor": "rgb(17,17,17)",
           "lakecolor": "rgb(17,17,17)",
           "landcolor": "rgb(17,17,17)",
           "showlakes": true,
           "showland": true,
           "subunitcolor": "#506784"
          },
          "hoverlabel": {
           "align": "left"
          },
          "hovermode": "closest",
          "mapbox": {
           "style": "dark"
          },
          "paper_bgcolor": "rgb(17,17,17)",
          "plot_bgcolor": "rgb(17,17,17)",
          "polar": {
           "angularaxis": {
            "gridcolor": "#506784",
            "linecolor": "#506784",
            "ticks": ""
           },
           "bgcolor": "rgb(17,17,17)",
           "radialaxis": {
            "gridcolor": "#506784",
            "linecolor": "#506784",
            "ticks": ""
           }
          },
          "scene": {
           "xaxis": {
            "backgroundcolor": "rgb(17,17,17)",
            "gridcolor": "#506784",
            "gridwidth": 2,
            "linecolor": "#506784",
            "showbackground": true,
            "ticks": "",
            "zerolinecolor": "#C8D4E3"
           },
           "yaxis": {
            "backgroundcolor": "rgb(17,17,17)",
            "gridcolor": "#506784",
            "gridwidth": 2,
            "linecolor": "#506784",
            "showbackground": true,
            "ticks": "",
            "zerolinecolor": "#C8D4E3"
           },
           "zaxis": {
            "backgroundcolor": "rgb(17,17,17)",
            "gridcolor": "#506784",
            "gridwidth": 2,
            "linecolor": "#506784",
            "showbackground": true,
            "ticks": "",
            "zerolinecolor": "#C8D4E3"
           }
          },
          "shapedefaults": {
           "line": {
            "color": "#f2f5fa"
           }
          },
          "sliderdefaults": {
           "bgcolor": "#C8D4E3",
           "bordercolor": "rgb(17,17,17)",
           "borderwidth": 1,
           "tickwidth": 0
          },
          "ternary": {
           "aaxis": {
            "gridcolor": "#506784",
            "linecolor": "#506784",
            "ticks": ""
           },
           "baxis": {
            "gridcolor": "#506784",
            "linecolor": "#506784",
            "ticks": ""
           },
           "bgcolor": "rgb(17,17,17)",
           "caxis": {
            "gridcolor": "#506784",
            "linecolor": "#506784",
            "ticks": ""
           }
          },
          "title": {
           "x": 0.05
          },
          "updatemenudefaults": {
           "bgcolor": "#506784",
           "borderwidth": 0
          },
          "xaxis": {
           "automargin": true,
           "gridcolor": "#283442",
           "linecolor": "#506784",
           "ticks": "",
           "title": {
            "standoff": 15
           },
           "zerolinecolor": "#283442",
           "zerolinewidth": 2
          },
          "yaxis": {
           "automargin": true,
           "gridcolor": "#283442",
           "linecolor": "#506784",
           "ticks": "",
           "title": {
            "standoff": 15
           },
           "zerolinecolor": "#283442",
           "zerolinewidth": 2
          }
         }
        },
        "title": {
         "text": "TOP 15 COURSES WITH THE MOST LECTURES",
         "x": 0.5,
         "y": 1
        },
        "width": 950,
        "xaxis": {
         "anchor": "y",
         "domain": [
          0,
          1
         ],
         "title": {
          "font": {
           "size": 16
          },
          "text": "Lectures's number"
         }
        },
        "yaxis": {
         "anchor": "x",
         "domain": [
          0,
          1
         ],
         "title": {
          "font": {
           "size": 16
          },
          "text": "Course's name"
         }
        }
       }
      },
      "text/html": [
       "<div>                            <div id=\"cf1c233a-eaa3-41e1-9d69-79be7fa7dd3a\" class=\"plotly-graph-div\" style=\"height:480px; width:950px;\"></div>            <script type=\"text/javascript\">                require([\"plotly\"], function(Plotly) {                    window.PLOTLYENV=window.PLOTLYENV || {};                                    if (document.getElementById(\"cf1c233a-eaa3-41e1-9d69-79be7fa7dd3a\")) {                    Plotly.newPlot(                        \"cf1c233a-eaa3-41e1-9d69-79be7fa7dd3a\",                        [{\"alignmentgroup\":\"True\",\"hovertemplate\":\"x=%{x}<br>y=%{y}<br>color=%{marker.color}<extra></extra>\",\"legendgroup\":\"\",\"marker\":{\"color\":[78006,54581,52653,46447,41630,38093,30470,28665,27408,23906,23635,23580,23326,22595,21537],\"coloraxis\":\"coloraxis\",\"pattern\":{\"shape\":\"\"}},\"name\":\"\",\"offsetgroup\":\"\",\"orientation\":\"h\",\"showlegend\":false,\"textposition\":\"outside\",\"texttemplate\":\"%{x}\",\"x\":[78006,54581,52653,46447,41630,38093,30470,28665,27408,23906,23635,23580,23326,22595,21537],\"xaxis\":\"x\",\"y\":[\"The Complete SQL Bootcamp 2020: Go from Zero to Hero\",\"Tableau 2020 A-Z: Hands-On Tableau Training for Data Science\",\"PMP Exam Prep Seminar -  PMBOK Guide 6\",\"The Complete Financial Analyst Course 2020\",\"An Entire MBA in 1 Course:Award Winning Business School Prof\",\"Microsoft Power BI - A Complete Introduction [2020 EDITION]\",\"Agile Crash Course: Agile Project Management; Agile Delivery\",\"Beginner to Pro in Excel: Financial Modeling and Valuation\",\"Become a Product Manager | Learn the Skills & Get the Job\",\"The Business Intelligence Analyst Course 2020\",\"Stock Market Investing for Beginners\",\"Microsoft Power BI - Up & Running With Power BI Desktop\",\"Business Analysis Fundamentals\",\"Leadership: Practical Leadership Skills\",\"The Complete Foundation Stock Trading Course\"],\"yaxis\":\"y\",\"type\":\"bar\",\"textfont\":{\"size\":14},\"cliponaxis\":false,\"textangle\":0}],                        {\"template\":{\"data\":{\"barpolar\":[{\"marker\":{\"line\":{\"color\":\"rgb(17,17,17)\",\"width\":0.5},\"pattern\":{\"fillmode\":\"overlay\",\"size\":10,\"solidity\":0.2}},\"type\":\"barpolar\"}],\"bar\":[{\"error_x\":{\"color\":\"#f2f5fa\"},\"error_y\":{\"color\":\"#f2f5fa\"},\"marker\":{\"line\":{\"color\":\"rgb(17,17,17)\",\"width\":0.5},\"pattern\":{\"fillmode\":\"overlay\",\"size\":10,\"solidity\":0.2}},\"type\":\"bar\"}],\"carpet\":[{\"aaxis\":{\"endlinecolor\":\"#A2B1C6\",\"gridcolor\":\"#506784\",\"linecolor\":\"#506784\",\"minorgridcolor\":\"#506784\",\"startlinecolor\":\"#A2B1C6\"},\"baxis\":{\"endlinecolor\":\"#A2B1C6\",\"gridcolor\":\"#506784\",\"linecolor\":\"#506784\",\"minorgridcolor\":\"#506784\",\"startlinecolor\":\"#A2B1C6\"},\"type\":\"carpet\"}],\"choropleth\":[{\"colorbar\":{\"outlinewidth\":0,\"ticks\":\"\"},\"type\":\"choropleth\"}],\"contourcarpet\":[{\"colorbar\":{\"outlinewidth\":0,\"ticks\":\"\"},\"type\":\"contourcarpet\"}],\"contour\":[{\"colorbar\":{\"outlinewidth\":0,\"ticks\":\"\"},\"colorscale\":[[0.0,\"#0d0887\"],[0.1111111111111111,\"#46039f\"],[0.2222222222222222,\"#7201a8\"],[0.3333333333333333,\"#9c179e\"],[0.4444444444444444,\"#bd3786\"],[0.5555555555555556,\"#d8576b\"],[0.6666666666666666,\"#ed7953\"],[0.7777777777777778,\"#fb9f3a\"],[0.8888888888888888,\"#fdca26\"],[1.0,\"#f0f921\"]],\"type\":\"contour\"}],\"heatmapgl\":[{\"colorbar\":{\"outlinewidth\":0,\"ticks\":\"\"},\"colorscale\":[[0.0,\"#0d0887\"],[0.1111111111111111,\"#46039f\"],[0.2222222222222222,\"#7201a8\"],[0.3333333333333333,\"#9c179e\"],[0.4444444444444444,\"#bd3786\"],[0.5555555555555556,\"#d8576b\"],[0.6666666666666666,\"#ed7953\"],[0.7777777777777778,\"#fb9f3a\"],[0.8888888888888888,\"#fdca26\"],[1.0,\"#f0f921\"]],\"type\":\"heatmapgl\"}],\"heatmap\":[{\"colorbar\":{\"outlinewidth\":0,\"ticks\":\"\"},\"colorscale\":[[0.0,\"#0d0887\"],[0.1111111111111111,\"#46039f\"],[0.2222222222222222,\"#7201a8\"],[0.3333333333333333,\"#9c179e\"],[0.4444444444444444,\"#bd3786\"],[0.5555555555555556,\"#d8576b\"],[0.6666666666666666,\"#ed7953\"],[0.7777777777777778,\"#fb9f3a\"],[0.8888888888888888,\"#fdca26\"],[1.0,\"#f0f921\"]],\"type\":\"heatmap\"}],\"histogram2dcontour\":[{\"colorbar\":{\"outlinewidth\":0,\"ticks\":\"\"},\"colorscale\":[[0.0,\"#0d0887\"],[0.1111111111111111,\"#46039f\"],[0.2222222222222222,\"#7201a8\"],[0.3333333333333333,\"#9c179e\"],[0.4444444444444444,\"#bd3786\"],[0.5555555555555556,\"#d8576b\"],[0.6666666666666666,\"#ed7953\"],[0.7777777777777778,\"#fb9f3a\"],[0.8888888888888888,\"#fdca26\"],[1.0,\"#f0f921\"]],\"type\":\"histogram2dcontour\"}],\"histogram2d\":[{\"colorbar\":{\"outlinewidth\":0,\"ticks\":\"\"},\"colorscale\":[[0.0,\"#0d0887\"],[0.1111111111111111,\"#46039f\"],[0.2222222222222222,\"#7201a8\"],[0.3333333333333333,\"#9c179e\"],[0.4444444444444444,\"#bd3786\"],[0.5555555555555556,\"#d8576b\"],[0.6666666666666666,\"#ed7953\"],[0.7777777777777778,\"#fb9f3a\"],[0.8888888888888888,\"#fdca26\"],[1.0,\"#f0f921\"]],\"type\":\"histogram2d\"}],\"histogram\":[{\"marker\":{\"pattern\":{\"fillmode\":\"overlay\",\"size\":10,\"solidity\":0.2}},\"type\":\"histogram\"}],\"mesh3d\":[{\"colorbar\":{\"outlinewidth\":0,\"ticks\":\"\"},\"type\":\"mesh3d\"}],\"parcoords\":[{\"line\":{\"colorbar\":{\"outlinewidth\":0,\"ticks\":\"\"}},\"type\":\"parcoords\"}],\"pie\":[{\"automargin\":true,\"type\":\"pie\"}],\"scatter3d\":[{\"line\":{\"colorbar\":{\"outlinewidth\":0,\"ticks\":\"\"}},\"marker\":{\"colorbar\":{\"outlinewidth\":0,\"ticks\":\"\"}},\"type\":\"scatter3d\"}],\"scattercarpet\":[{\"marker\":{\"colorbar\":{\"outlinewidth\":0,\"ticks\":\"\"}},\"type\":\"scattercarpet\"}],\"scattergeo\":[{\"marker\":{\"colorbar\":{\"outlinewidth\":0,\"ticks\":\"\"}},\"type\":\"scattergeo\"}],\"scattergl\":[{\"marker\":{\"line\":{\"color\":\"#283442\"}},\"type\":\"scattergl\"}],\"scattermapbox\":[{\"marker\":{\"colorbar\":{\"outlinewidth\":0,\"ticks\":\"\"}},\"type\":\"scattermapbox\"}],\"scatterpolargl\":[{\"marker\":{\"colorbar\":{\"outlinewidth\":0,\"ticks\":\"\"}},\"type\":\"scatterpolargl\"}],\"scatterpolar\":[{\"marker\":{\"colorbar\":{\"outlinewidth\":0,\"ticks\":\"\"}},\"type\":\"scatterpolar\"}],\"scatter\":[{\"marker\":{\"line\":{\"color\":\"#283442\"}},\"type\":\"scatter\"}],\"scatterternary\":[{\"marker\":{\"colorbar\":{\"outlinewidth\":0,\"ticks\":\"\"}},\"type\":\"scatterternary\"}],\"surface\":[{\"colorbar\":{\"outlinewidth\":0,\"ticks\":\"\"},\"colorscale\":[[0.0,\"#0d0887\"],[0.1111111111111111,\"#46039f\"],[0.2222222222222222,\"#7201a8\"],[0.3333333333333333,\"#9c179e\"],[0.4444444444444444,\"#bd3786\"],[0.5555555555555556,\"#d8576b\"],[0.6666666666666666,\"#ed7953\"],[0.7777777777777778,\"#fb9f3a\"],[0.8888888888888888,\"#fdca26\"],[1.0,\"#f0f921\"]],\"type\":\"surface\"}],\"table\":[{\"cells\":{\"fill\":{\"color\":\"#506784\"},\"line\":{\"color\":\"rgb(17,17,17)\"}},\"header\":{\"fill\":{\"color\":\"#2a3f5f\"},\"line\":{\"color\":\"rgb(17,17,17)\"}},\"type\":\"table\"}]},\"layout\":{\"annotationdefaults\":{\"arrowcolor\":\"#f2f5fa\",\"arrowhead\":0,\"arrowwidth\":1},\"autotypenumbers\":\"strict\",\"coloraxis\":{\"colorbar\":{\"outlinewidth\":0,\"ticks\":\"\"}},\"colorscale\":{\"diverging\":[[0,\"#8e0152\"],[0.1,\"#c51b7d\"],[0.2,\"#de77ae\"],[0.3,\"#f1b6da\"],[0.4,\"#fde0ef\"],[0.5,\"#f7f7f7\"],[0.6,\"#e6f5d0\"],[0.7,\"#b8e186\"],[0.8,\"#7fbc41\"],[0.9,\"#4d9221\"],[1,\"#276419\"]],\"sequential\":[[0.0,\"#0d0887\"],[0.1111111111111111,\"#46039f\"],[0.2222222222222222,\"#7201a8\"],[0.3333333333333333,\"#9c179e\"],[0.4444444444444444,\"#bd3786\"],[0.5555555555555556,\"#d8576b\"],[0.6666666666666666,\"#ed7953\"],[0.7777777777777778,\"#fb9f3a\"],[0.8888888888888888,\"#fdca26\"],[1.0,\"#f0f921\"]],\"sequentialminus\":[[0.0,\"#0d0887\"],[0.1111111111111111,\"#46039f\"],[0.2222222222222222,\"#7201a8\"],[0.3333333333333333,\"#9c179e\"],[0.4444444444444444,\"#bd3786\"],[0.5555555555555556,\"#d8576b\"],[0.6666666666666666,\"#ed7953\"],[0.7777777777777778,\"#fb9f3a\"],[0.8888888888888888,\"#fdca26\"],[1.0,\"#f0f921\"]]},\"colorway\":[\"#636efa\",\"#EF553B\",\"#00cc96\",\"#ab63fa\",\"#FFA15A\",\"#19d3f3\",\"#FF6692\",\"#B6E880\",\"#FF97FF\",\"#FECB52\"],\"font\":{\"color\":\"#f2f5fa\"},\"geo\":{\"bgcolor\":\"rgb(17,17,17)\",\"lakecolor\":\"rgb(17,17,17)\",\"landcolor\":\"rgb(17,17,17)\",\"showlakes\":true,\"showland\":true,\"subunitcolor\":\"#506784\"},\"hoverlabel\":{\"align\":\"left\"},\"hovermode\":\"closest\",\"mapbox\":{\"style\":\"dark\"},\"paper_bgcolor\":\"rgb(17,17,17)\",\"plot_bgcolor\":\"rgb(17,17,17)\",\"polar\":{\"angularaxis\":{\"gridcolor\":\"#506784\",\"linecolor\":\"#506784\",\"ticks\":\"\"},\"bgcolor\":\"rgb(17,17,17)\",\"radialaxis\":{\"gridcolor\":\"#506784\",\"linecolor\":\"#506784\",\"ticks\":\"\"}},\"scene\":{\"xaxis\":{\"backgroundcolor\":\"rgb(17,17,17)\",\"gridcolor\":\"#506784\",\"gridwidth\":2,\"linecolor\":\"#506784\",\"showbackground\":true,\"ticks\":\"\",\"zerolinecolor\":\"#C8D4E3\"},\"yaxis\":{\"backgroundcolor\":\"rgb(17,17,17)\",\"gridcolor\":\"#506784\",\"gridwidth\":2,\"linecolor\":\"#506784\",\"showbackground\":true,\"ticks\":\"\",\"zerolinecolor\":\"#C8D4E3\"},\"zaxis\":{\"backgroundcolor\":\"rgb(17,17,17)\",\"gridcolor\":\"#506784\",\"gridwidth\":2,\"linecolor\":\"#506784\",\"showbackground\":true,\"ticks\":\"\",\"zerolinecolor\":\"#C8D4E3\"}},\"shapedefaults\":{\"line\":{\"color\":\"#f2f5fa\"}},\"sliderdefaults\":{\"bgcolor\":\"#C8D4E3\",\"bordercolor\":\"rgb(17,17,17)\",\"borderwidth\":1,\"tickwidth\":0},\"ternary\":{\"aaxis\":{\"gridcolor\":\"#506784\",\"linecolor\":\"#506784\",\"ticks\":\"\"},\"baxis\":{\"gridcolor\":\"#506784\",\"linecolor\":\"#506784\",\"ticks\":\"\"},\"bgcolor\":\"rgb(17,17,17)\",\"caxis\":{\"gridcolor\":\"#506784\",\"linecolor\":\"#506784\",\"ticks\":\"\"}},\"title\":{\"x\":0.05},\"updatemenudefaults\":{\"bgcolor\":\"#506784\",\"borderwidth\":0},\"xaxis\":{\"automargin\":true,\"gridcolor\":\"#283442\",\"linecolor\":\"#506784\",\"ticks\":\"\",\"title\":{\"standoff\":15},\"zerolinecolor\":\"#283442\",\"zerolinewidth\":2},\"yaxis\":{\"automargin\":true,\"gridcolor\":\"#283442\",\"linecolor\":\"#506784\",\"ticks\":\"\",\"title\":{\"standoff\":15},\"zerolinecolor\":\"#283442\",\"zerolinewidth\":2}}},\"xaxis\":{\"anchor\":\"y\",\"domain\":[0.0,1.0],\"title\":{\"text\":\"Lectures's number\",\"font\":{\"size\":16}}},\"yaxis\":{\"anchor\":\"x\",\"domain\":[0.0,1.0],\"title\":{\"text\":\"Course's name\",\"font\":{\"size\":16}}},\"coloraxis\":{\"colorbar\":{\"title\":{\"text\":\"color\"}},\"colorscale\":[[0.0,\"#0d0887\"],[0.1111111111111111,\"#46039f\"],[0.2222222222222222,\"#7201a8\"],[0.3333333333333333,\"#9c179e\"],[0.4444444444444444,\"#bd3786\"],[0.5555555555555556,\"#d8576b\"],[0.6666666666666666,\"#ed7953\"],[0.7777777777777778,\"#fb9f3a\"],[0.8888888888888888,\"#fdca26\"],[1.0,\"#f0f921\"]]},\"legend\":{\"tracegroupgap\":0},\"margin\":{\"t\":60},\"barmode\":\"group\",\"height\":480,\"width\":950,\"title\":{\"text\":\"TOP 15 COURSES WITH THE MOST LECTURES\",\"x\":0.5,\"y\":1},\"hovermode\":\"x\"},                        {\"responsive\": true}                    ).then(function(){\n",
       "                            \n",
       "var gd = document.getElementById('cf1c233a-eaa3-41e1-9d69-79be7fa7dd3a');\n",
       "var x = new MutationObserver(function (mutations, observer) {{\n",
       "        var display = window.getComputedStyle(gd).display;\n",
       "        if (!display || display === 'none') {{\n",
       "            console.log([gd, 'removed!']);\n",
       "            Plotly.purge(gd);\n",
       "            observer.disconnect();\n",
       "        }}\n",
       "}});\n",
       "\n",
       "// Listen for the removal of the full notebook cells\n",
       "var notebookContainer = gd.closest('#notebook-container');\n",
       "if (notebookContainer) {{\n",
       "    x.observe(notebookContainer, {childList: true});\n",
       "}}\n",
       "\n",
       "// Listen for the clearing of the current output cell\n",
       "var outputEl = gd.closest('.output');\n",
       "if (outputEl) {{\n",
       "    x.observe(outputEl, {childList: true});\n",
       "}}\n",
       "\n",
       "                        })                };                });            </script>        </div>"
      ]
     },
     "metadata": {},
     "output_type": "display_data"
    }
   ],
   "source": [
    "fig = px.bar(df, x = df.sort_values(by=\"Num reviews\", ascending=False)[\"Num reviews\"][0:15], \n",
    "             y = df.sort_values(by=\"Num reviews\", ascending=False).Title[0:15], \n",
    "             width = 950, height = 480, text_auto = True,\n",
    "            barmode = \"group\", color = df.sort_values(by=\"Num reviews\", ascending=False)[\"Num reviews\"][0:15], template=\"plotly_dark\")\n",
    "\n",
    "fig.update_traces(textfont_size=14, textangle=0, textposition=\"outside\", cliponaxis=False)\n",
    "\n",
    "fig.update_layout(title = \"TOP 15 COURSES WITH THE MOST LECTURES\", title_x = 0.5, title_y = 1, \n",
    "                  hovermode = \"x\",\n",
    "                 xaxis = dict(title = \"Lectures's number\", titlefont = dict(size = 16)), \n",
    "                 yaxis = dict(title = \"Course's name\", titlefont = dict(size = 16)))\n",
    "fig.show()"
   ]
  },
  {
   "cell_type": "markdown",
   "id": "6bc4176f",
   "metadata": {},
   "source": [
    "### <font color='blue'>Top 15 courses with the most Subscribers </font>"
   ]
  },
  {
   "cell_type": "code",
   "execution_count": 98,
   "id": "5a7ee9f8",
   "metadata": {},
   "outputs": [
    {
     "data": {
      "application/vnd.plotly.v1+json": {
       "config": {
        "plotlyServerURL": "https://plot.ly"
       },
       "data": [
        {
         "hovertemplate": "r=%{r}<br>theta=%{theta}<br>color=%{marker.color}<extra></extra>",
         "legendgroup": "",
         "marker": {
          "color": [
           374836,
           295509,
           259888,
           245860,
           239309,
           209070,
           182002,
           158654,
           155282,
           140676,
           127680,
           124180,
           115269,
           114945,
           112572
          ],
          "coloraxis": "coloraxis",
          "pattern": {
           "shape": ""
          }
         },
         "name": "",
         "r": [
          374836,
          295509,
          259888,
          245860,
          239309,
          209070,
          182002,
          158654,
          155282,
          140676,
          127680,
          124180,
          115269,
          114945,
          112572
         ],
         "showlegend": false,
         "subplot": "polar",
         "theta": [
          "An Entire MBA in 1 Course:Award Winning Business School Prof",
          "The Complete SQL Bootcamp 2020: Go from Zero to Hero",
          "Stock Market Investing for Beginners",
          "The Complete Financial Analyst Course 2020",
          "Deep Learning Prerequisites: The Numpy Stack in Python (V2+)",
          "Tableau 2020 A-Z: Hands-On Tableau Training for Data Science",
          "The Complete Financial Analyst Training & Investing Course",
          "The Complete Presentation and Public Speaking/Speech Course",
          "PMP Exam Prep Seminar -  PMBOK Guide 6",
          "Introduction to Finance, Accounting, Modeling and Valuation",
          "Beginner to Pro in Excel: Financial Modeling and Valuation",
          "Microsoft Power BI - A Complete Introduction [2020 EDITION]",
          "The Business Intelligence Analyst Course 2020",
          "The Ultimate Hands-On Hadoop - Tame your Big Data!",
          "Become a Product Manager | Learn the Skills & Get the Job"
         ],
         "type": "barpolar"
        }
       ],
       "layout": {
        "barmode": "relative",
        "coloraxis": {
         "colorbar": {
          "title": {
           "text": "color"
          }
         },
         "colorscale": [
          [
           0,
           "#0d0887"
          ],
          [
           0.1111111111111111,
           "#46039f"
          ],
          [
           0.2222222222222222,
           "#7201a8"
          ],
          [
           0.3333333333333333,
           "#9c179e"
          ],
          [
           0.4444444444444444,
           "#bd3786"
          ],
          [
           0.5555555555555556,
           "#d8576b"
          ],
          [
           0.6666666666666666,
           "#ed7953"
          ],
          [
           0.7777777777777778,
           "#fb9f3a"
          ],
          [
           0.8888888888888888,
           "#fdca26"
          ],
          [
           1,
           "#f0f921"
          ]
         ]
        },
        "legend": {
         "tracegroupgap": 0
        },
        "margin": {
         "t": 60
        },
        "polar": {
         "angularaxis": {
          "direction": "clockwise",
          "rotation": 90
         },
         "domain": {
          "x": [
           0,
           1
          ],
          "y": [
           0,
           1
          ]
         }
        },
        "template": {
         "data": {
          "bar": [
           {
            "error_x": {
             "color": "#f2f5fa"
            },
            "error_y": {
             "color": "#f2f5fa"
            },
            "marker": {
             "line": {
              "color": "rgb(17,17,17)",
              "width": 0.5
             },
             "pattern": {
              "fillmode": "overlay",
              "size": 10,
              "solidity": 0.2
             }
            },
            "type": "bar"
           }
          ],
          "barpolar": [
           {
            "marker": {
             "line": {
              "color": "rgb(17,17,17)",
              "width": 0.5
             },
             "pattern": {
              "fillmode": "overlay",
              "size": 10,
              "solidity": 0.2
             }
            },
            "type": "barpolar"
           }
          ],
          "carpet": [
           {
            "aaxis": {
             "endlinecolor": "#A2B1C6",
             "gridcolor": "#506784",
             "linecolor": "#506784",
             "minorgridcolor": "#506784",
             "startlinecolor": "#A2B1C6"
            },
            "baxis": {
             "endlinecolor": "#A2B1C6",
             "gridcolor": "#506784",
             "linecolor": "#506784",
             "minorgridcolor": "#506784",
             "startlinecolor": "#A2B1C6"
            },
            "type": "carpet"
           }
          ],
          "choropleth": [
           {
            "colorbar": {
             "outlinewidth": 0,
             "ticks": ""
            },
            "type": "choropleth"
           }
          ],
          "contour": [
           {
            "colorbar": {
             "outlinewidth": 0,
             "ticks": ""
            },
            "colorscale": [
             [
              0,
              "#0d0887"
             ],
             [
              0.1111111111111111,
              "#46039f"
             ],
             [
              0.2222222222222222,
              "#7201a8"
             ],
             [
              0.3333333333333333,
              "#9c179e"
             ],
             [
              0.4444444444444444,
              "#bd3786"
             ],
             [
              0.5555555555555556,
              "#d8576b"
             ],
             [
              0.6666666666666666,
              "#ed7953"
             ],
             [
              0.7777777777777778,
              "#fb9f3a"
             ],
             [
              0.8888888888888888,
              "#fdca26"
             ],
             [
              1,
              "#f0f921"
             ]
            ],
            "type": "contour"
           }
          ],
          "contourcarpet": [
           {
            "colorbar": {
             "outlinewidth": 0,
             "ticks": ""
            },
            "type": "contourcarpet"
           }
          ],
          "heatmap": [
           {
            "colorbar": {
             "outlinewidth": 0,
             "ticks": ""
            },
            "colorscale": [
             [
              0,
              "#0d0887"
             ],
             [
              0.1111111111111111,
              "#46039f"
             ],
             [
              0.2222222222222222,
              "#7201a8"
             ],
             [
              0.3333333333333333,
              "#9c179e"
             ],
             [
              0.4444444444444444,
              "#bd3786"
             ],
             [
              0.5555555555555556,
              "#d8576b"
             ],
             [
              0.6666666666666666,
              "#ed7953"
             ],
             [
              0.7777777777777778,
              "#fb9f3a"
             ],
             [
              0.8888888888888888,
              "#fdca26"
             ],
             [
              1,
              "#f0f921"
             ]
            ],
            "type": "heatmap"
           }
          ],
          "heatmapgl": [
           {
            "colorbar": {
             "outlinewidth": 0,
             "ticks": ""
            },
            "colorscale": [
             [
              0,
              "#0d0887"
             ],
             [
              0.1111111111111111,
              "#46039f"
             ],
             [
              0.2222222222222222,
              "#7201a8"
             ],
             [
              0.3333333333333333,
              "#9c179e"
             ],
             [
              0.4444444444444444,
              "#bd3786"
             ],
             [
              0.5555555555555556,
              "#d8576b"
             ],
             [
              0.6666666666666666,
              "#ed7953"
             ],
             [
              0.7777777777777778,
              "#fb9f3a"
             ],
             [
              0.8888888888888888,
              "#fdca26"
             ],
             [
              1,
              "#f0f921"
             ]
            ],
            "type": "heatmapgl"
           }
          ],
          "histogram": [
           {
            "marker": {
             "pattern": {
              "fillmode": "overlay",
              "size": 10,
              "solidity": 0.2
             }
            },
            "type": "histogram"
           }
          ],
          "histogram2d": [
           {
            "colorbar": {
             "outlinewidth": 0,
             "ticks": ""
            },
            "colorscale": [
             [
              0,
              "#0d0887"
             ],
             [
              0.1111111111111111,
              "#46039f"
             ],
             [
              0.2222222222222222,
              "#7201a8"
             ],
             [
              0.3333333333333333,
              "#9c179e"
             ],
             [
              0.4444444444444444,
              "#bd3786"
             ],
             [
              0.5555555555555556,
              "#d8576b"
             ],
             [
              0.6666666666666666,
              "#ed7953"
             ],
             [
              0.7777777777777778,
              "#fb9f3a"
             ],
             [
              0.8888888888888888,
              "#fdca26"
             ],
             [
              1,
              "#f0f921"
             ]
            ],
            "type": "histogram2d"
           }
          ],
          "histogram2dcontour": [
           {
            "colorbar": {
             "outlinewidth": 0,
             "ticks": ""
            },
            "colorscale": [
             [
              0,
              "#0d0887"
             ],
             [
              0.1111111111111111,
              "#46039f"
             ],
             [
              0.2222222222222222,
              "#7201a8"
             ],
             [
              0.3333333333333333,
              "#9c179e"
             ],
             [
              0.4444444444444444,
              "#bd3786"
             ],
             [
              0.5555555555555556,
              "#d8576b"
             ],
             [
              0.6666666666666666,
              "#ed7953"
             ],
             [
              0.7777777777777778,
              "#fb9f3a"
             ],
             [
              0.8888888888888888,
              "#fdca26"
             ],
             [
              1,
              "#f0f921"
             ]
            ],
            "type": "histogram2dcontour"
           }
          ],
          "mesh3d": [
           {
            "colorbar": {
             "outlinewidth": 0,
             "ticks": ""
            },
            "type": "mesh3d"
           }
          ],
          "parcoords": [
           {
            "line": {
             "colorbar": {
              "outlinewidth": 0,
              "ticks": ""
             }
            },
            "type": "parcoords"
           }
          ],
          "pie": [
           {
            "automargin": true,
            "type": "pie"
           }
          ],
          "scatter": [
           {
            "marker": {
             "line": {
              "color": "#283442"
             }
            },
            "type": "scatter"
           }
          ],
          "scatter3d": [
           {
            "line": {
             "colorbar": {
              "outlinewidth": 0,
              "ticks": ""
             }
            },
            "marker": {
             "colorbar": {
              "outlinewidth": 0,
              "ticks": ""
             }
            },
            "type": "scatter3d"
           }
          ],
          "scattercarpet": [
           {
            "marker": {
             "colorbar": {
              "outlinewidth": 0,
              "ticks": ""
             }
            },
            "type": "scattercarpet"
           }
          ],
          "scattergeo": [
           {
            "marker": {
             "colorbar": {
              "outlinewidth": 0,
              "ticks": ""
             }
            },
            "type": "scattergeo"
           }
          ],
          "scattergl": [
           {
            "marker": {
             "line": {
              "color": "#283442"
             }
            },
            "type": "scattergl"
           }
          ],
          "scattermapbox": [
           {
            "marker": {
             "colorbar": {
              "outlinewidth": 0,
              "ticks": ""
             }
            },
            "type": "scattermapbox"
           }
          ],
          "scatterpolar": [
           {
            "marker": {
             "colorbar": {
              "outlinewidth": 0,
              "ticks": ""
             }
            },
            "type": "scatterpolar"
           }
          ],
          "scatterpolargl": [
           {
            "marker": {
             "colorbar": {
              "outlinewidth": 0,
              "ticks": ""
             }
            },
            "type": "scatterpolargl"
           }
          ],
          "scatterternary": [
           {
            "marker": {
             "colorbar": {
              "outlinewidth": 0,
              "ticks": ""
             }
            },
            "type": "scatterternary"
           }
          ],
          "surface": [
           {
            "colorbar": {
             "outlinewidth": 0,
             "ticks": ""
            },
            "colorscale": [
             [
              0,
              "#0d0887"
             ],
             [
              0.1111111111111111,
              "#46039f"
             ],
             [
              0.2222222222222222,
              "#7201a8"
             ],
             [
              0.3333333333333333,
              "#9c179e"
             ],
             [
              0.4444444444444444,
              "#bd3786"
             ],
             [
              0.5555555555555556,
              "#d8576b"
             ],
             [
              0.6666666666666666,
              "#ed7953"
             ],
             [
              0.7777777777777778,
              "#fb9f3a"
             ],
             [
              0.8888888888888888,
              "#fdca26"
             ],
             [
              1,
              "#f0f921"
             ]
            ],
            "type": "surface"
           }
          ],
          "table": [
           {
            "cells": {
             "fill": {
              "color": "#506784"
             },
             "line": {
              "color": "rgb(17,17,17)"
             }
            },
            "header": {
             "fill": {
              "color": "#2a3f5f"
             },
             "line": {
              "color": "rgb(17,17,17)"
             }
            },
            "type": "table"
           }
          ]
         },
         "layout": {
          "annotationdefaults": {
           "arrowcolor": "#f2f5fa",
           "arrowhead": 0,
           "arrowwidth": 1
          },
          "autotypenumbers": "strict",
          "coloraxis": {
           "colorbar": {
            "outlinewidth": 0,
            "ticks": ""
           }
          },
          "colorscale": {
           "diverging": [
            [
             0,
             "#8e0152"
            ],
            [
             0.1,
             "#c51b7d"
            ],
            [
             0.2,
             "#de77ae"
            ],
            [
             0.3,
             "#f1b6da"
            ],
            [
             0.4,
             "#fde0ef"
            ],
            [
             0.5,
             "#f7f7f7"
            ],
            [
             0.6,
             "#e6f5d0"
            ],
            [
             0.7,
             "#b8e186"
            ],
            [
             0.8,
             "#7fbc41"
            ],
            [
             0.9,
             "#4d9221"
            ],
            [
             1,
             "#276419"
            ]
           ],
           "sequential": [
            [
             0,
             "#0d0887"
            ],
            [
             0.1111111111111111,
             "#46039f"
            ],
            [
             0.2222222222222222,
             "#7201a8"
            ],
            [
             0.3333333333333333,
             "#9c179e"
            ],
            [
             0.4444444444444444,
             "#bd3786"
            ],
            [
             0.5555555555555556,
             "#d8576b"
            ],
            [
             0.6666666666666666,
             "#ed7953"
            ],
            [
             0.7777777777777778,
             "#fb9f3a"
            ],
            [
             0.8888888888888888,
             "#fdca26"
            ],
            [
             1,
             "#f0f921"
            ]
           ],
           "sequentialminus": [
            [
             0,
             "#0d0887"
            ],
            [
             0.1111111111111111,
             "#46039f"
            ],
            [
             0.2222222222222222,
             "#7201a8"
            ],
            [
             0.3333333333333333,
             "#9c179e"
            ],
            [
             0.4444444444444444,
             "#bd3786"
            ],
            [
             0.5555555555555556,
             "#d8576b"
            ],
            [
             0.6666666666666666,
             "#ed7953"
            ],
            [
             0.7777777777777778,
             "#fb9f3a"
            ],
            [
             0.8888888888888888,
             "#fdca26"
            ],
            [
             1,
             "#f0f921"
            ]
           ]
          },
          "colorway": [
           "#636efa",
           "#EF553B",
           "#00cc96",
           "#ab63fa",
           "#FFA15A",
           "#19d3f3",
           "#FF6692",
           "#B6E880",
           "#FF97FF",
           "#FECB52"
          ],
          "font": {
           "color": "#f2f5fa"
          },
          "geo": {
           "bgcolor": "rgb(17,17,17)",
           "lakecolor": "rgb(17,17,17)",
           "landcolor": "rgb(17,17,17)",
           "showlakes": true,
           "showland": true,
           "subunitcolor": "#506784"
          },
          "hoverlabel": {
           "align": "left"
          },
          "hovermode": "closest",
          "mapbox": {
           "style": "dark"
          },
          "paper_bgcolor": "rgb(17,17,17)",
          "plot_bgcolor": "rgb(17,17,17)",
          "polar": {
           "angularaxis": {
            "gridcolor": "#506784",
            "linecolor": "#506784",
            "ticks": ""
           },
           "bgcolor": "rgb(17,17,17)",
           "radialaxis": {
            "gridcolor": "#506784",
            "linecolor": "#506784",
            "ticks": ""
           }
          },
          "scene": {
           "xaxis": {
            "backgroundcolor": "rgb(17,17,17)",
            "gridcolor": "#506784",
            "gridwidth": 2,
            "linecolor": "#506784",
            "showbackground": true,
            "ticks": "",
            "zerolinecolor": "#C8D4E3"
           },
           "yaxis": {
            "backgroundcolor": "rgb(17,17,17)",
            "gridcolor": "#506784",
            "gridwidth": 2,
            "linecolor": "#506784",
            "showbackground": true,
            "ticks": "",
            "zerolinecolor": "#C8D4E3"
           },
           "zaxis": {
            "backgroundcolor": "rgb(17,17,17)",
            "gridcolor": "#506784",
            "gridwidth": 2,
            "linecolor": "#506784",
            "showbackground": true,
            "ticks": "",
            "zerolinecolor": "#C8D4E3"
           }
          },
          "shapedefaults": {
           "line": {
            "color": "#f2f5fa"
           }
          },
          "sliderdefaults": {
           "bgcolor": "#C8D4E3",
           "bordercolor": "rgb(17,17,17)",
           "borderwidth": 1,
           "tickwidth": 0
          },
          "ternary": {
           "aaxis": {
            "gridcolor": "#506784",
            "linecolor": "#506784",
            "ticks": ""
           },
           "baxis": {
            "gridcolor": "#506784",
            "linecolor": "#506784",
            "ticks": ""
           },
           "bgcolor": "rgb(17,17,17)",
           "caxis": {
            "gridcolor": "#506784",
            "linecolor": "#506784",
            "ticks": ""
           }
          },
          "title": {
           "x": 0.05
          },
          "updatemenudefaults": {
           "bgcolor": "#506784",
           "borderwidth": 0
          },
          "xaxis": {
           "automargin": true,
           "gridcolor": "#283442",
           "linecolor": "#506784",
           "ticks": "",
           "title": {
            "standoff": 15
           },
           "zerolinecolor": "#283442",
           "zerolinewidth": 2
          },
          "yaxis": {
           "automargin": true,
           "gridcolor": "#283442",
           "linecolor": "#506784",
           "ticks": "",
           "title": {
            "standoff": 15
           },
           "zerolinecolor": "#283442",
           "zerolinewidth": 2
          }
         }
        }
       }
      },
      "text/html": [
       "<div>                            <div id=\"4dcfd09a-fe59-4b24-ad1b-ea70da8e2102\" class=\"plotly-graph-div\" style=\"height:525px; width:100%;\"></div>            <script type=\"text/javascript\">                require([\"plotly\"], function(Plotly) {                    window.PLOTLYENV=window.PLOTLYENV || {};                                    if (document.getElementById(\"4dcfd09a-fe59-4b24-ad1b-ea70da8e2102\")) {                    Plotly.newPlot(                        \"4dcfd09a-fe59-4b24-ad1b-ea70da8e2102\",                        [{\"hovertemplate\":\"r=%{r}<br>theta=%{theta}<br>color=%{marker.color}<extra></extra>\",\"legendgroup\":\"\",\"marker\":{\"color\":[374836,295509,259888,245860,239309,209070,182002,158654,155282,140676,127680,124180,115269,114945,112572],\"coloraxis\":\"coloraxis\",\"pattern\":{\"shape\":\"\"}},\"name\":\"\",\"r\":[374836,295509,259888,245860,239309,209070,182002,158654,155282,140676,127680,124180,115269,114945,112572],\"showlegend\":false,\"subplot\":\"polar\",\"theta\":[\"An Entire MBA in 1 Course:Award Winning Business School Prof\",\"The Complete SQL Bootcamp 2020: Go from Zero to Hero\",\"Stock Market Investing for Beginners\",\"The Complete Financial Analyst Course 2020\",\"Deep Learning Prerequisites: The Numpy Stack in Python (V2+)\",\"Tableau 2020 A-Z: Hands-On Tableau Training for Data Science\",\"The Complete Financial Analyst Training & Investing Course\",\"The Complete Presentation and Public Speaking/Speech Course\",\"PMP Exam Prep Seminar -  PMBOK Guide 6\",\"Introduction to Finance, Accounting, Modeling and Valuation\",\"Beginner to Pro in Excel: Financial Modeling and Valuation\",\"Microsoft Power BI - A Complete Introduction [2020 EDITION]\",\"The Business Intelligence Analyst Course 2020\",\"The Ultimate Hands-On Hadoop - Tame your Big Data!\",\"Become a Product Manager | Learn the Skills & Get the Job\"],\"type\":\"barpolar\"}],                        {\"template\":{\"data\":{\"barpolar\":[{\"marker\":{\"line\":{\"color\":\"rgb(17,17,17)\",\"width\":0.5},\"pattern\":{\"fillmode\":\"overlay\",\"size\":10,\"solidity\":0.2}},\"type\":\"barpolar\"}],\"bar\":[{\"error_x\":{\"color\":\"#f2f5fa\"},\"error_y\":{\"color\":\"#f2f5fa\"},\"marker\":{\"line\":{\"color\":\"rgb(17,17,17)\",\"width\":0.5},\"pattern\":{\"fillmode\":\"overlay\",\"size\":10,\"solidity\":0.2}},\"type\":\"bar\"}],\"carpet\":[{\"aaxis\":{\"endlinecolor\":\"#A2B1C6\",\"gridcolor\":\"#506784\",\"linecolor\":\"#506784\",\"minorgridcolor\":\"#506784\",\"startlinecolor\":\"#A2B1C6\"},\"baxis\":{\"endlinecolor\":\"#A2B1C6\",\"gridcolor\":\"#506784\",\"linecolor\":\"#506784\",\"minorgridcolor\":\"#506784\",\"startlinecolor\":\"#A2B1C6\"},\"type\":\"carpet\"}],\"choropleth\":[{\"colorbar\":{\"outlinewidth\":0,\"ticks\":\"\"},\"type\":\"choropleth\"}],\"contourcarpet\":[{\"colorbar\":{\"outlinewidth\":0,\"ticks\":\"\"},\"type\":\"contourcarpet\"}],\"contour\":[{\"colorbar\":{\"outlinewidth\":0,\"ticks\":\"\"},\"colorscale\":[[0.0,\"#0d0887\"],[0.1111111111111111,\"#46039f\"],[0.2222222222222222,\"#7201a8\"],[0.3333333333333333,\"#9c179e\"],[0.4444444444444444,\"#bd3786\"],[0.5555555555555556,\"#d8576b\"],[0.6666666666666666,\"#ed7953\"],[0.7777777777777778,\"#fb9f3a\"],[0.8888888888888888,\"#fdca26\"],[1.0,\"#f0f921\"]],\"type\":\"contour\"}],\"heatmapgl\":[{\"colorbar\":{\"outlinewidth\":0,\"ticks\":\"\"},\"colorscale\":[[0.0,\"#0d0887\"],[0.1111111111111111,\"#46039f\"],[0.2222222222222222,\"#7201a8\"],[0.3333333333333333,\"#9c179e\"],[0.4444444444444444,\"#bd3786\"],[0.5555555555555556,\"#d8576b\"],[0.6666666666666666,\"#ed7953\"],[0.7777777777777778,\"#fb9f3a\"],[0.8888888888888888,\"#fdca26\"],[1.0,\"#f0f921\"]],\"type\":\"heatmapgl\"}],\"heatmap\":[{\"colorbar\":{\"outlinewidth\":0,\"ticks\":\"\"},\"colorscale\":[[0.0,\"#0d0887\"],[0.1111111111111111,\"#46039f\"],[0.2222222222222222,\"#7201a8\"],[0.3333333333333333,\"#9c179e\"],[0.4444444444444444,\"#bd3786\"],[0.5555555555555556,\"#d8576b\"],[0.6666666666666666,\"#ed7953\"],[0.7777777777777778,\"#fb9f3a\"],[0.8888888888888888,\"#fdca26\"],[1.0,\"#f0f921\"]],\"type\":\"heatmap\"}],\"histogram2dcontour\":[{\"colorbar\":{\"outlinewidth\":0,\"ticks\":\"\"},\"colorscale\":[[0.0,\"#0d0887\"],[0.1111111111111111,\"#46039f\"],[0.2222222222222222,\"#7201a8\"],[0.3333333333333333,\"#9c179e\"],[0.4444444444444444,\"#bd3786\"],[0.5555555555555556,\"#d8576b\"],[0.6666666666666666,\"#ed7953\"],[0.7777777777777778,\"#fb9f3a\"],[0.8888888888888888,\"#fdca26\"],[1.0,\"#f0f921\"]],\"type\":\"histogram2dcontour\"}],\"histogram2d\":[{\"colorbar\":{\"outlinewidth\":0,\"ticks\":\"\"},\"colorscale\":[[0.0,\"#0d0887\"],[0.1111111111111111,\"#46039f\"],[0.2222222222222222,\"#7201a8\"],[0.3333333333333333,\"#9c179e\"],[0.4444444444444444,\"#bd3786\"],[0.5555555555555556,\"#d8576b\"],[0.6666666666666666,\"#ed7953\"],[0.7777777777777778,\"#fb9f3a\"],[0.8888888888888888,\"#fdca26\"],[1.0,\"#f0f921\"]],\"type\":\"histogram2d\"}],\"histogram\":[{\"marker\":{\"pattern\":{\"fillmode\":\"overlay\",\"size\":10,\"solidity\":0.2}},\"type\":\"histogram\"}],\"mesh3d\":[{\"colorbar\":{\"outlinewidth\":0,\"ticks\":\"\"},\"type\":\"mesh3d\"}],\"parcoords\":[{\"line\":{\"colorbar\":{\"outlinewidth\":0,\"ticks\":\"\"}},\"type\":\"parcoords\"}],\"pie\":[{\"automargin\":true,\"type\":\"pie\"}],\"scatter3d\":[{\"line\":{\"colorbar\":{\"outlinewidth\":0,\"ticks\":\"\"}},\"marker\":{\"colorbar\":{\"outlinewidth\":0,\"ticks\":\"\"}},\"type\":\"scatter3d\"}],\"scattercarpet\":[{\"marker\":{\"colorbar\":{\"outlinewidth\":0,\"ticks\":\"\"}},\"type\":\"scattercarpet\"}],\"scattergeo\":[{\"marker\":{\"colorbar\":{\"outlinewidth\":0,\"ticks\":\"\"}},\"type\":\"scattergeo\"}],\"scattergl\":[{\"marker\":{\"line\":{\"color\":\"#283442\"}},\"type\":\"scattergl\"}],\"scattermapbox\":[{\"marker\":{\"colorbar\":{\"outlinewidth\":0,\"ticks\":\"\"}},\"type\":\"scattermapbox\"}],\"scatterpolargl\":[{\"marker\":{\"colorbar\":{\"outlinewidth\":0,\"ticks\":\"\"}},\"type\":\"scatterpolargl\"}],\"scatterpolar\":[{\"marker\":{\"colorbar\":{\"outlinewidth\":0,\"ticks\":\"\"}},\"type\":\"scatterpolar\"}],\"scatter\":[{\"marker\":{\"line\":{\"color\":\"#283442\"}},\"type\":\"scatter\"}],\"scatterternary\":[{\"marker\":{\"colorbar\":{\"outlinewidth\":0,\"ticks\":\"\"}},\"type\":\"scatterternary\"}],\"surface\":[{\"colorbar\":{\"outlinewidth\":0,\"ticks\":\"\"},\"colorscale\":[[0.0,\"#0d0887\"],[0.1111111111111111,\"#46039f\"],[0.2222222222222222,\"#7201a8\"],[0.3333333333333333,\"#9c179e\"],[0.4444444444444444,\"#bd3786\"],[0.5555555555555556,\"#d8576b\"],[0.6666666666666666,\"#ed7953\"],[0.7777777777777778,\"#fb9f3a\"],[0.8888888888888888,\"#fdca26\"],[1.0,\"#f0f921\"]],\"type\":\"surface\"}],\"table\":[{\"cells\":{\"fill\":{\"color\":\"#506784\"},\"line\":{\"color\":\"rgb(17,17,17)\"}},\"header\":{\"fill\":{\"color\":\"#2a3f5f\"},\"line\":{\"color\":\"rgb(17,17,17)\"}},\"type\":\"table\"}]},\"layout\":{\"annotationdefaults\":{\"arrowcolor\":\"#f2f5fa\",\"arrowhead\":0,\"arrowwidth\":1},\"autotypenumbers\":\"strict\",\"coloraxis\":{\"colorbar\":{\"outlinewidth\":0,\"ticks\":\"\"}},\"colorscale\":{\"diverging\":[[0,\"#8e0152\"],[0.1,\"#c51b7d\"],[0.2,\"#de77ae\"],[0.3,\"#f1b6da\"],[0.4,\"#fde0ef\"],[0.5,\"#f7f7f7\"],[0.6,\"#e6f5d0\"],[0.7,\"#b8e186\"],[0.8,\"#7fbc41\"],[0.9,\"#4d9221\"],[1,\"#276419\"]],\"sequential\":[[0.0,\"#0d0887\"],[0.1111111111111111,\"#46039f\"],[0.2222222222222222,\"#7201a8\"],[0.3333333333333333,\"#9c179e\"],[0.4444444444444444,\"#bd3786\"],[0.5555555555555556,\"#d8576b\"],[0.6666666666666666,\"#ed7953\"],[0.7777777777777778,\"#fb9f3a\"],[0.8888888888888888,\"#fdca26\"],[1.0,\"#f0f921\"]],\"sequentialminus\":[[0.0,\"#0d0887\"],[0.1111111111111111,\"#46039f\"],[0.2222222222222222,\"#7201a8\"],[0.3333333333333333,\"#9c179e\"],[0.4444444444444444,\"#bd3786\"],[0.5555555555555556,\"#d8576b\"],[0.6666666666666666,\"#ed7953\"],[0.7777777777777778,\"#fb9f3a\"],[0.8888888888888888,\"#fdca26\"],[1.0,\"#f0f921\"]]},\"colorway\":[\"#636efa\",\"#EF553B\",\"#00cc96\",\"#ab63fa\",\"#FFA15A\",\"#19d3f3\",\"#FF6692\",\"#B6E880\",\"#FF97FF\",\"#FECB52\"],\"font\":{\"color\":\"#f2f5fa\"},\"geo\":{\"bgcolor\":\"rgb(17,17,17)\",\"lakecolor\":\"rgb(17,17,17)\",\"landcolor\":\"rgb(17,17,17)\",\"showlakes\":true,\"showland\":true,\"subunitcolor\":\"#506784\"},\"hoverlabel\":{\"align\":\"left\"},\"hovermode\":\"closest\",\"mapbox\":{\"style\":\"dark\"},\"paper_bgcolor\":\"rgb(17,17,17)\",\"plot_bgcolor\":\"rgb(17,17,17)\",\"polar\":{\"angularaxis\":{\"gridcolor\":\"#506784\",\"linecolor\":\"#506784\",\"ticks\":\"\"},\"bgcolor\":\"rgb(17,17,17)\",\"radialaxis\":{\"gridcolor\":\"#506784\",\"linecolor\":\"#506784\",\"ticks\":\"\"}},\"scene\":{\"xaxis\":{\"backgroundcolor\":\"rgb(17,17,17)\",\"gridcolor\":\"#506784\",\"gridwidth\":2,\"linecolor\":\"#506784\",\"showbackground\":true,\"ticks\":\"\",\"zerolinecolor\":\"#C8D4E3\"},\"yaxis\":{\"backgroundcolor\":\"rgb(17,17,17)\",\"gridcolor\":\"#506784\",\"gridwidth\":2,\"linecolor\":\"#506784\",\"showbackground\":true,\"ticks\":\"\",\"zerolinecolor\":\"#C8D4E3\"},\"zaxis\":{\"backgroundcolor\":\"rgb(17,17,17)\",\"gridcolor\":\"#506784\",\"gridwidth\":2,\"linecolor\":\"#506784\",\"showbackground\":true,\"ticks\":\"\",\"zerolinecolor\":\"#C8D4E3\"}},\"shapedefaults\":{\"line\":{\"color\":\"#f2f5fa\"}},\"sliderdefaults\":{\"bgcolor\":\"#C8D4E3\",\"bordercolor\":\"rgb(17,17,17)\",\"borderwidth\":1,\"tickwidth\":0},\"ternary\":{\"aaxis\":{\"gridcolor\":\"#506784\",\"linecolor\":\"#506784\",\"ticks\":\"\"},\"baxis\":{\"gridcolor\":\"#506784\",\"linecolor\":\"#506784\",\"ticks\":\"\"},\"bgcolor\":\"rgb(17,17,17)\",\"caxis\":{\"gridcolor\":\"#506784\",\"linecolor\":\"#506784\",\"ticks\":\"\"}},\"title\":{\"x\":0.05},\"updatemenudefaults\":{\"bgcolor\":\"#506784\",\"borderwidth\":0},\"xaxis\":{\"automargin\":true,\"gridcolor\":\"#283442\",\"linecolor\":\"#506784\",\"ticks\":\"\",\"title\":{\"standoff\":15},\"zerolinecolor\":\"#283442\",\"zerolinewidth\":2},\"yaxis\":{\"automargin\":true,\"gridcolor\":\"#283442\",\"linecolor\":\"#506784\",\"ticks\":\"\",\"title\":{\"standoff\":15},\"zerolinecolor\":\"#283442\",\"zerolinewidth\":2}}},\"polar\":{\"domain\":{\"x\":[0.0,1.0],\"y\":[0.0,1.0]},\"angularaxis\":{\"direction\":\"clockwise\",\"rotation\":90}},\"coloraxis\":{\"colorbar\":{\"title\":{\"text\":\"color\"}},\"colorscale\":[[0.0,\"#0d0887\"],[0.1111111111111111,\"#46039f\"],[0.2222222222222222,\"#7201a8\"],[0.3333333333333333,\"#9c179e\"],[0.4444444444444444,\"#bd3786\"],[0.5555555555555556,\"#d8576b\"],[0.6666666666666666,\"#ed7953\"],[0.7777777777777778,\"#fb9f3a\"],[0.8888888888888888,\"#fdca26\"],[1.0,\"#f0f921\"]]},\"legend\":{\"tracegroupgap\":0},\"margin\":{\"t\":60},\"barmode\":\"relative\"},                        {\"responsive\": true}                    ).then(function(){\n",
       "                            \n",
       "var gd = document.getElementById('4dcfd09a-fe59-4b24-ad1b-ea70da8e2102');\n",
       "var x = new MutationObserver(function (mutations, observer) {{\n",
       "        var display = window.getComputedStyle(gd).display;\n",
       "        if (!display || display === 'none') {{\n",
       "            console.log([gd, 'removed!']);\n",
       "            Plotly.purge(gd);\n",
       "            observer.disconnect();\n",
       "        }}\n",
       "}});\n",
       "\n",
       "// Listen for the removal of the full notebook cells\n",
       "var notebookContainer = gd.closest('#notebook-container');\n",
       "if (notebookContainer) {{\n",
       "    x.observe(notebookContainer, {childList: true});\n",
       "}}\n",
       "\n",
       "// Listen for the clearing of the current output cell\n",
       "var outputEl = gd.closest('.output');\n",
       "if (outputEl) {{\n",
       "    x.observe(outputEl, {childList: true});\n",
       "}}\n",
       "\n",
       "                        })                };                });            </script>        </div>"
      ]
     },
     "metadata": {},
     "output_type": "display_data"
    }
   ],
   "source": [
    "fig = px.bar_polar(df, r = df.sort_values(by=\"Subscribers\", ascending=False)[\"Subscribers\"][0:15],\n",
    "                  theta = df.sort_values(by=\"Subscribers\", ascending=False).Title[0:15], \n",
    "                  color = df.sort_values(by=\"Subscribers\", ascending=False)[\"Subscribers\"][0:15], \n",
    "                  template=\"plotly_dark\")\n",
    "fig.show()"
   ]
  },
  {
   "cell_type": "code",
   "execution_count": 136,
   "id": "087e2604",
   "metadata": {},
   "outputs": [
    {
     "data": {
      "application/vnd.plotly.v1+json": {
       "config": {
        "plotlyServerURL": "https://plot.ly"
       },
       "data": [
        {
         "name": "Lectures",
         "r": [
          699,
          668,
          637,
          636,
          601,
          601,
          600,
          600,
          600,
          600,
          576,
          561,
          560,
          556,
          551
         ],
         "subplot": "polar",
         "theta": [
          "Accounting–Financial Accounting Total-Beginners to Advanced",
          "QuickBooks Pro Desktop 2020, 2019, & 2018 Start to Finish",
          "The Complete Digital Marketing Guide - 18 Courses in 1",
          "The Ultimate QuickBooks Pro Training Bundle - 60+ Hours",
          "Winning Communication Skills for Telephone, Conference Calls",
          "Communication Skills for Beginners",
          "Complete Media Training Master Class - Confidence on Camera",
          "Workplace Communication: Effectively Deliver Criticism",
          "The Complete Communication Skills Master Class for Life",
          "The Complete Storytelling Course for Speaking & Presenting",
          "The Complete Sales Skills Master Class - Sales Marketing B2B",
          "Financial Management A Complete Study for CA/CMA/CS/CFA/ACCA",
          "Learn to Trade The News",
          "Project Management Professional Certification Program (PMP)",
          "QuickBooks Online 2020 Vs. QuickBooks Desktop 2020"
         ],
         "type": "barpolar"
        },
        {
         "name": "Num reviews",
         "r": [
          78006,
          54581,
          52653,
          46447,
          41630,
          38093,
          30470,
          28665,
          27408,
          23906,
          23635,
          23580,
          23326,
          22595,
          21537
         ],
         "subplot": "polar2",
         "theta": [
          "The Complete SQL Bootcamp 2020: Go from Zero to Hero",
          "Tableau 2020 A-Z: Hands-On Tableau Training for Data Science",
          "PMP Exam Prep Seminar -  PMBOK Guide 6",
          "The Complete Financial Analyst Course 2020",
          "An Entire MBA in 1 Course:Award Winning Business School Prof",
          "Microsoft Power BI - A Complete Introduction [2020 EDITION]",
          "Agile Crash Course: Agile Project Management; Agile Delivery",
          "Beginner to Pro in Excel: Financial Modeling and Valuation",
          "Become a Product Manager | Learn the Skills & Get the Job",
          "The Business Intelligence Analyst Course 2020",
          "Stock Market Investing for Beginners",
          "Microsoft Power BI - Up & Running With Power BI Desktop",
          "Business Analysis Fundamentals",
          "Leadership: Practical Leadership Skills",
          "The Complete Foundation Stock Trading Course"
         ],
         "type": "barpolar"
        }
       ],
       "layout": {
        "legend": {
         "bgcolor": "Lightblue",
         "bordercolor": "Black",
         "borderwidth": 1.5,
         "font": {
          "size": 18
         },
         "orientation": "h",
         "x": 0.5,
         "xanchor": "center",
         "y": 1.3,
         "yanchor": "top"
        },
        "polar": {
         "domain": {
          "x": [
           0,
           0.45
          ],
          "y": [
           0,
           1
          ]
         }
        },
        "polar2": {
         "domain": {
          "x": [
           0.55,
           1
          ],
          "y": [
           0,
           1
          ]
         }
        },
        "template": {
         "data": {
          "bar": [
           {
            "error_x": {
             "color": "#2a3f5f"
            },
            "error_y": {
             "color": "#2a3f5f"
            },
            "marker": {
             "line": {
              "color": "#E5ECF6",
              "width": 0.5
             },
             "pattern": {
              "fillmode": "overlay",
              "size": 10,
              "solidity": 0.2
             }
            },
            "type": "bar"
           }
          ],
          "barpolar": [
           {
            "marker": {
             "line": {
              "color": "#E5ECF6",
              "width": 0.5
             },
             "pattern": {
              "fillmode": "overlay",
              "size": 10,
              "solidity": 0.2
             }
            },
            "type": "barpolar"
           }
          ],
          "carpet": [
           {
            "aaxis": {
             "endlinecolor": "#2a3f5f",
             "gridcolor": "white",
             "linecolor": "white",
             "minorgridcolor": "white",
             "startlinecolor": "#2a3f5f"
            },
            "baxis": {
             "endlinecolor": "#2a3f5f",
             "gridcolor": "white",
             "linecolor": "white",
             "minorgridcolor": "white",
             "startlinecolor": "#2a3f5f"
            },
            "type": "carpet"
           }
          ],
          "choropleth": [
           {
            "colorbar": {
             "outlinewidth": 0,
             "ticks": ""
            },
            "type": "choropleth"
           }
          ],
          "contour": [
           {
            "colorbar": {
             "outlinewidth": 0,
             "ticks": ""
            },
            "colorscale": [
             [
              0,
              "#0d0887"
             ],
             [
              0.1111111111111111,
              "#46039f"
             ],
             [
              0.2222222222222222,
              "#7201a8"
             ],
             [
              0.3333333333333333,
              "#9c179e"
             ],
             [
              0.4444444444444444,
              "#bd3786"
             ],
             [
              0.5555555555555556,
              "#d8576b"
             ],
             [
              0.6666666666666666,
              "#ed7953"
             ],
             [
              0.7777777777777778,
              "#fb9f3a"
             ],
             [
              0.8888888888888888,
              "#fdca26"
             ],
             [
              1,
              "#f0f921"
             ]
            ],
            "type": "contour"
           }
          ],
          "contourcarpet": [
           {
            "colorbar": {
             "outlinewidth": 0,
             "ticks": ""
            },
            "type": "contourcarpet"
           }
          ],
          "heatmap": [
           {
            "colorbar": {
             "outlinewidth": 0,
             "ticks": ""
            },
            "colorscale": [
             [
              0,
              "#0d0887"
             ],
             [
              0.1111111111111111,
              "#46039f"
             ],
             [
              0.2222222222222222,
              "#7201a8"
             ],
             [
              0.3333333333333333,
              "#9c179e"
             ],
             [
              0.4444444444444444,
              "#bd3786"
             ],
             [
              0.5555555555555556,
              "#d8576b"
             ],
             [
              0.6666666666666666,
              "#ed7953"
             ],
             [
              0.7777777777777778,
              "#fb9f3a"
             ],
             [
              0.8888888888888888,
              "#fdca26"
             ],
             [
              1,
              "#f0f921"
             ]
            ],
            "type": "heatmap"
           }
          ],
          "heatmapgl": [
           {
            "colorbar": {
             "outlinewidth": 0,
             "ticks": ""
            },
            "colorscale": [
             [
              0,
              "#0d0887"
             ],
             [
              0.1111111111111111,
              "#46039f"
             ],
             [
              0.2222222222222222,
              "#7201a8"
             ],
             [
              0.3333333333333333,
              "#9c179e"
             ],
             [
              0.4444444444444444,
              "#bd3786"
             ],
             [
              0.5555555555555556,
              "#d8576b"
             ],
             [
              0.6666666666666666,
              "#ed7953"
             ],
             [
              0.7777777777777778,
              "#fb9f3a"
             ],
             [
              0.8888888888888888,
              "#fdca26"
             ],
             [
              1,
              "#f0f921"
             ]
            ],
            "type": "heatmapgl"
           }
          ],
          "histogram": [
           {
            "marker": {
             "pattern": {
              "fillmode": "overlay",
              "size": 10,
              "solidity": 0.2
             }
            },
            "type": "histogram"
           }
          ],
          "histogram2d": [
           {
            "colorbar": {
             "outlinewidth": 0,
             "ticks": ""
            },
            "colorscale": [
             [
              0,
              "#0d0887"
             ],
             [
              0.1111111111111111,
              "#46039f"
             ],
             [
              0.2222222222222222,
              "#7201a8"
             ],
             [
              0.3333333333333333,
              "#9c179e"
             ],
             [
              0.4444444444444444,
              "#bd3786"
             ],
             [
              0.5555555555555556,
              "#d8576b"
             ],
             [
              0.6666666666666666,
              "#ed7953"
             ],
             [
              0.7777777777777778,
              "#fb9f3a"
             ],
             [
              0.8888888888888888,
              "#fdca26"
             ],
             [
              1,
              "#f0f921"
             ]
            ],
            "type": "histogram2d"
           }
          ],
          "histogram2dcontour": [
           {
            "colorbar": {
             "outlinewidth": 0,
             "ticks": ""
            },
            "colorscale": [
             [
              0,
              "#0d0887"
             ],
             [
              0.1111111111111111,
              "#46039f"
             ],
             [
              0.2222222222222222,
              "#7201a8"
             ],
             [
              0.3333333333333333,
              "#9c179e"
             ],
             [
              0.4444444444444444,
              "#bd3786"
             ],
             [
              0.5555555555555556,
              "#d8576b"
             ],
             [
              0.6666666666666666,
              "#ed7953"
             ],
             [
              0.7777777777777778,
              "#fb9f3a"
             ],
             [
              0.8888888888888888,
              "#fdca26"
             ],
             [
              1,
              "#f0f921"
             ]
            ],
            "type": "histogram2dcontour"
           }
          ],
          "mesh3d": [
           {
            "colorbar": {
             "outlinewidth": 0,
             "ticks": ""
            },
            "type": "mesh3d"
           }
          ],
          "parcoords": [
           {
            "line": {
             "colorbar": {
              "outlinewidth": 0,
              "ticks": ""
             }
            },
            "type": "parcoords"
           }
          ],
          "pie": [
           {
            "automargin": true,
            "type": "pie"
           }
          ],
          "scatter": [
           {
            "fillpattern": {
             "fillmode": "overlay",
             "size": 10,
             "solidity": 0.2
            },
            "type": "scatter"
           }
          ],
          "scatter3d": [
           {
            "line": {
             "colorbar": {
              "outlinewidth": 0,
              "ticks": ""
             }
            },
            "marker": {
             "colorbar": {
              "outlinewidth": 0,
              "ticks": ""
             }
            },
            "type": "scatter3d"
           }
          ],
          "scattercarpet": [
           {
            "marker": {
             "colorbar": {
              "outlinewidth": 0,
              "ticks": ""
             }
            },
            "type": "scattercarpet"
           }
          ],
          "scattergeo": [
           {
            "marker": {
             "colorbar": {
              "outlinewidth": 0,
              "ticks": ""
             }
            },
            "type": "scattergeo"
           }
          ],
          "scattergl": [
           {
            "marker": {
             "colorbar": {
              "outlinewidth": 0,
              "ticks": ""
             }
            },
            "type": "scattergl"
           }
          ],
          "scattermapbox": [
           {
            "marker": {
             "colorbar": {
              "outlinewidth": 0,
              "ticks": ""
             }
            },
            "type": "scattermapbox"
           }
          ],
          "scatterpolar": [
           {
            "marker": {
             "colorbar": {
              "outlinewidth": 0,
              "ticks": ""
             }
            },
            "type": "scatterpolar"
           }
          ],
          "scatterpolargl": [
           {
            "marker": {
             "colorbar": {
              "outlinewidth": 0,
              "ticks": ""
             }
            },
            "type": "scatterpolargl"
           }
          ],
          "scatterternary": [
           {
            "marker": {
             "colorbar": {
              "outlinewidth": 0,
              "ticks": ""
             }
            },
            "type": "scatterternary"
           }
          ],
          "surface": [
           {
            "colorbar": {
             "outlinewidth": 0,
             "ticks": ""
            },
            "colorscale": [
             [
              0,
              "#0d0887"
             ],
             [
              0.1111111111111111,
              "#46039f"
             ],
             [
              0.2222222222222222,
              "#7201a8"
             ],
             [
              0.3333333333333333,
              "#9c179e"
             ],
             [
              0.4444444444444444,
              "#bd3786"
             ],
             [
              0.5555555555555556,
              "#d8576b"
             ],
             [
              0.6666666666666666,
              "#ed7953"
             ],
             [
              0.7777777777777778,
              "#fb9f3a"
             ],
             [
              0.8888888888888888,
              "#fdca26"
             ],
             [
              1,
              "#f0f921"
             ]
            ],
            "type": "surface"
           }
          ],
          "table": [
           {
            "cells": {
             "fill": {
              "color": "#EBF0F8"
             },
             "line": {
              "color": "white"
             }
            },
            "header": {
             "fill": {
              "color": "#C8D4E3"
             },
             "line": {
              "color": "white"
             }
            },
            "type": "table"
           }
          ]
         },
         "layout": {
          "annotationdefaults": {
           "arrowcolor": "#2a3f5f",
           "arrowhead": 0,
           "arrowwidth": 1
          },
          "autotypenumbers": "strict",
          "coloraxis": {
           "colorbar": {
            "outlinewidth": 0,
            "ticks": ""
           }
          },
          "colorscale": {
           "diverging": [
            [
             0,
             "#8e0152"
            ],
            [
             0.1,
             "#c51b7d"
            ],
            [
             0.2,
             "#de77ae"
            ],
            [
             0.3,
             "#f1b6da"
            ],
            [
             0.4,
             "#fde0ef"
            ],
            [
             0.5,
             "#f7f7f7"
            ],
            [
             0.6,
             "#e6f5d0"
            ],
            [
             0.7,
             "#b8e186"
            ],
            [
             0.8,
             "#7fbc41"
            ],
            [
             0.9,
             "#4d9221"
            ],
            [
             1,
             "#276419"
            ]
           ],
           "sequential": [
            [
             0,
             "#0d0887"
            ],
            [
             0.1111111111111111,
             "#46039f"
            ],
            [
             0.2222222222222222,
             "#7201a8"
            ],
            [
             0.3333333333333333,
             "#9c179e"
            ],
            [
             0.4444444444444444,
             "#bd3786"
            ],
            [
             0.5555555555555556,
             "#d8576b"
            ],
            [
             0.6666666666666666,
             "#ed7953"
            ],
            [
             0.7777777777777778,
             "#fb9f3a"
            ],
            [
             0.8888888888888888,
             "#fdca26"
            ],
            [
             1,
             "#f0f921"
            ]
           ],
           "sequentialminus": [
            [
             0,
             "#0d0887"
            ],
            [
             0.1111111111111111,
             "#46039f"
            ],
            [
             0.2222222222222222,
             "#7201a8"
            ],
            [
             0.3333333333333333,
             "#9c179e"
            ],
            [
             0.4444444444444444,
             "#bd3786"
            ],
            [
             0.5555555555555556,
             "#d8576b"
            ],
            [
             0.6666666666666666,
             "#ed7953"
            ],
            [
             0.7777777777777778,
             "#fb9f3a"
            ],
            [
             0.8888888888888888,
             "#fdca26"
            ],
            [
             1,
             "#f0f921"
            ]
           ]
          },
          "colorway": [
           "#636efa",
           "#EF553B",
           "#00cc96",
           "#ab63fa",
           "#FFA15A",
           "#19d3f3",
           "#FF6692",
           "#B6E880",
           "#FF97FF",
           "#FECB52"
          ],
          "font": {
           "color": "#2a3f5f"
          },
          "geo": {
           "bgcolor": "white",
           "lakecolor": "white",
           "landcolor": "#E5ECF6",
           "showlakes": true,
           "showland": true,
           "subunitcolor": "white"
          },
          "hoverlabel": {
           "align": "left"
          },
          "hovermode": "closest",
          "mapbox": {
           "style": "light"
          },
          "paper_bgcolor": "white",
          "plot_bgcolor": "#E5ECF6",
          "polar": {
           "angularaxis": {
            "gridcolor": "white",
            "linecolor": "white",
            "ticks": ""
           },
           "bgcolor": "#E5ECF6",
           "radialaxis": {
            "gridcolor": "white",
            "linecolor": "white",
            "ticks": ""
           }
          },
          "scene": {
           "xaxis": {
            "backgroundcolor": "#E5ECF6",
            "gridcolor": "white",
            "gridwidth": 2,
            "linecolor": "white",
            "showbackground": true,
            "ticks": "",
            "zerolinecolor": "white"
           },
           "yaxis": {
            "backgroundcolor": "#E5ECF6",
            "gridcolor": "white",
            "gridwidth": 2,
            "linecolor": "white",
            "showbackground": true,
            "ticks": "",
            "zerolinecolor": "white"
           },
           "zaxis": {
            "backgroundcolor": "#E5ECF6",
            "gridcolor": "white",
            "gridwidth": 2,
            "linecolor": "white",
            "showbackground": true,
            "ticks": "",
            "zerolinecolor": "white"
           }
          },
          "shapedefaults": {
           "line": {
            "color": "#2a3f5f"
           }
          },
          "ternary": {
           "aaxis": {
            "gridcolor": "white",
            "linecolor": "white",
            "ticks": ""
           },
           "baxis": {
            "gridcolor": "white",
            "linecolor": "white",
            "ticks": ""
           },
           "bgcolor": "#E5ECF6",
           "caxis": {
            "gridcolor": "white",
            "linecolor": "white",
            "ticks": ""
           }
          },
          "title": {
           "x": 0.05
          },
          "xaxis": {
           "automargin": true,
           "gridcolor": "white",
           "linecolor": "white",
           "ticks": "",
           "title": {
            "standoff": 15
           },
           "zerolinecolor": "white",
           "zerolinewidth": 2
          },
          "yaxis": {
           "automargin": true,
           "gridcolor": "white",
           "linecolor": "white",
           "ticks": "",
           "title": {
            "standoff": 15
           },
           "zerolinecolor": "white",
           "zerolinewidth": 2
          }
         }
        }
       }
      },
      "text/html": [
       "<div>                            <div id=\"c5afc7d0-42d1-44f6-baa1-b4fe1236fb2c\" class=\"plotly-graph-div\" style=\"height:525px; width:100%;\"></div>            <script type=\"text/javascript\">                require([\"plotly\"], function(Plotly) {                    window.PLOTLYENV=window.PLOTLYENV || {};                                    if (document.getElementById(\"c5afc7d0-42d1-44f6-baa1-b4fe1236fb2c\")) {                    Plotly.newPlot(                        \"c5afc7d0-42d1-44f6-baa1-b4fe1236fb2c\",                        [{\"name\":\"Lectures\",\"r\":[699,668,637,636,601,601,600,600,600,600,576,561,560,556,551],\"theta\":[\"Accounting\\u2013Financial Accounting Total-Beginners to Advanced\",\"QuickBooks Pro Desktop 2020, 2019, & 2018 Start to Finish\",\"The Complete Digital Marketing Guide - 18 Courses in 1\",\"The Ultimate QuickBooks Pro Training Bundle - 60+ Hours\",\"Winning Communication Skills for Telephone, Conference Calls\",\"Communication Skills for Beginners\",\"Complete Media Training Master Class - Confidence on Camera\",\"Workplace Communication: Effectively Deliver Criticism\",\"The Complete Communication Skills Master Class for Life\",\"The Complete Storytelling Course for Speaking & Presenting\",\"The Complete Sales Skills Master Class - Sales Marketing B2B\",\"Financial Management A Complete Study for CA/CMA/CS/CFA/ACCA\",\"Learn to Trade The News\",\"Project Management Professional Certification Program (PMP)\",\"QuickBooks Online 2020 Vs. QuickBooks Desktop 2020\"],\"type\":\"barpolar\",\"subplot\":\"polar\"},{\"name\":\"Num reviews\",\"r\":[78006,54581,52653,46447,41630,38093,30470,28665,27408,23906,23635,23580,23326,22595,21537],\"theta\":[\"The Complete SQL Bootcamp 2020: Go from Zero to Hero\",\"Tableau 2020 A-Z: Hands-On Tableau Training for Data Science\",\"PMP Exam Prep Seminar -  PMBOK Guide 6\",\"The Complete Financial Analyst Course 2020\",\"An Entire MBA in 1 Course:Award Winning Business School Prof\",\"Microsoft Power BI - A Complete Introduction [2020 EDITION]\",\"Agile Crash Course: Agile Project Management; Agile Delivery\",\"Beginner to Pro in Excel: Financial Modeling and Valuation\",\"Become a Product Manager | Learn the Skills & Get the Job\",\"The Business Intelligence Analyst Course 2020\",\"Stock Market Investing for Beginners\",\"Microsoft Power BI - Up & Running With Power BI Desktop\",\"Business Analysis Fundamentals\",\"Leadership: Practical Leadership Skills\",\"The Complete Foundation Stock Trading Course\"],\"type\":\"barpolar\",\"subplot\":\"polar2\"}],                        {\"template\":{\"data\":{\"histogram2dcontour\":[{\"type\":\"histogram2dcontour\",\"colorbar\":{\"outlinewidth\":0,\"ticks\":\"\"},\"colorscale\":[[0.0,\"#0d0887\"],[0.1111111111111111,\"#46039f\"],[0.2222222222222222,\"#7201a8\"],[0.3333333333333333,\"#9c179e\"],[0.4444444444444444,\"#bd3786\"],[0.5555555555555556,\"#d8576b\"],[0.6666666666666666,\"#ed7953\"],[0.7777777777777778,\"#fb9f3a\"],[0.8888888888888888,\"#fdca26\"],[1.0,\"#f0f921\"]]}],\"choropleth\":[{\"type\":\"choropleth\",\"colorbar\":{\"outlinewidth\":0,\"ticks\":\"\"}}],\"histogram2d\":[{\"type\":\"histogram2d\",\"colorbar\":{\"outlinewidth\":0,\"ticks\":\"\"},\"colorscale\":[[0.0,\"#0d0887\"],[0.1111111111111111,\"#46039f\"],[0.2222222222222222,\"#7201a8\"],[0.3333333333333333,\"#9c179e\"],[0.4444444444444444,\"#bd3786\"],[0.5555555555555556,\"#d8576b\"],[0.6666666666666666,\"#ed7953\"],[0.7777777777777778,\"#fb9f3a\"],[0.8888888888888888,\"#fdca26\"],[1.0,\"#f0f921\"]]}],\"heatmap\":[{\"type\":\"heatmap\",\"colorbar\":{\"outlinewidth\":0,\"ticks\":\"\"},\"colorscale\":[[0.0,\"#0d0887\"],[0.1111111111111111,\"#46039f\"],[0.2222222222222222,\"#7201a8\"],[0.3333333333333333,\"#9c179e\"],[0.4444444444444444,\"#bd3786\"],[0.5555555555555556,\"#d8576b\"],[0.6666666666666666,\"#ed7953\"],[0.7777777777777778,\"#fb9f3a\"],[0.8888888888888888,\"#fdca26\"],[1.0,\"#f0f921\"]]}],\"heatmapgl\":[{\"type\":\"heatmapgl\",\"colorbar\":{\"outlinewidth\":0,\"ticks\":\"\"},\"colorscale\":[[0.0,\"#0d0887\"],[0.1111111111111111,\"#46039f\"],[0.2222222222222222,\"#7201a8\"],[0.3333333333333333,\"#9c179e\"],[0.4444444444444444,\"#bd3786\"],[0.5555555555555556,\"#d8576b\"],[0.6666666666666666,\"#ed7953\"],[0.7777777777777778,\"#fb9f3a\"],[0.8888888888888888,\"#fdca26\"],[1.0,\"#f0f921\"]]}],\"contourcarpet\":[{\"type\":\"contourcarpet\",\"colorbar\":{\"outlinewidth\":0,\"ticks\":\"\"}}],\"contour\":[{\"type\":\"contour\",\"colorbar\":{\"outlinewidth\":0,\"ticks\":\"\"},\"colorscale\":[[0.0,\"#0d0887\"],[0.1111111111111111,\"#46039f\"],[0.2222222222222222,\"#7201a8\"],[0.3333333333333333,\"#9c179e\"],[0.4444444444444444,\"#bd3786\"],[0.5555555555555556,\"#d8576b\"],[0.6666666666666666,\"#ed7953\"],[0.7777777777777778,\"#fb9f3a\"],[0.8888888888888888,\"#fdca26\"],[1.0,\"#f0f921\"]]}],\"surface\":[{\"type\":\"surface\",\"colorbar\":{\"outlinewidth\":0,\"ticks\":\"\"},\"colorscale\":[[0.0,\"#0d0887\"],[0.1111111111111111,\"#46039f\"],[0.2222222222222222,\"#7201a8\"],[0.3333333333333333,\"#9c179e\"],[0.4444444444444444,\"#bd3786\"],[0.5555555555555556,\"#d8576b\"],[0.6666666666666666,\"#ed7953\"],[0.7777777777777778,\"#fb9f3a\"],[0.8888888888888888,\"#fdca26\"],[1.0,\"#f0f921\"]]}],\"mesh3d\":[{\"type\":\"mesh3d\",\"colorbar\":{\"outlinewidth\":0,\"ticks\":\"\"}}],\"scatter\":[{\"fillpattern\":{\"fillmode\":\"overlay\",\"size\":10,\"solidity\":0.2},\"type\":\"scatter\"}],\"parcoords\":[{\"type\":\"parcoords\",\"line\":{\"colorbar\":{\"outlinewidth\":0,\"ticks\":\"\"}}}],\"scatterpolargl\":[{\"type\":\"scatterpolargl\",\"marker\":{\"colorbar\":{\"outlinewidth\":0,\"ticks\":\"\"}}}],\"bar\":[{\"error_x\":{\"color\":\"#2a3f5f\"},\"error_y\":{\"color\":\"#2a3f5f\"},\"marker\":{\"line\":{\"color\":\"#E5ECF6\",\"width\":0.5},\"pattern\":{\"fillmode\":\"overlay\",\"size\":10,\"solidity\":0.2}},\"type\":\"bar\"}],\"scattergeo\":[{\"type\":\"scattergeo\",\"marker\":{\"colorbar\":{\"outlinewidth\":0,\"ticks\":\"\"}}}],\"scatterpolar\":[{\"type\":\"scatterpolar\",\"marker\":{\"colorbar\":{\"outlinewidth\":0,\"ticks\":\"\"}}}],\"histogram\":[{\"marker\":{\"pattern\":{\"fillmode\":\"overlay\",\"size\":10,\"solidity\":0.2}},\"type\":\"histogram\"}],\"scattergl\":[{\"type\":\"scattergl\",\"marker\":{\"colorbar\":{\"outlinewidth\":0,\"ticks\":\"\"}}}],\"scatter3d\":[{\"type\":\"scatter3d\",\"line\":{\"colorbar\":{\"outlinewidth\":0,\"ticks\":\"\"}},\"marker\":{\"colorbar\":{\"outlinewidth\":0,\"ticks\":\"\"}}}],\"scattermapbox\":[{\"type\":\"scattermapbox\",\"marker\":{\"colorbar\":{\"outlinewidth\":0,\"ticks\":\"\"}}}],\"scatterternary\":[{\"type\":\"scatterternary\",\"marker\":{\"colorbar\":{\"outlinewidth\":0,\"ticks\":\"\"}}}],\"scattercarpet\":[{\"type\":\"scattercarpet\",\"marker\":{\"colorbar\":{\"outlinewidth\":0,\"ticks\":\"\"}}}],\"carpet\":[{\"aaxis\":{\"endlinecolor\":\"#2a3f5f\",\"gridcolor\":\"white\",\"linecolor\":\"white\",\"minorgridcolor\":\"white\",\"startlinecolor\":\"#2a3f5f\"},\"baxis\":{\"endlinecolor\":\"#2a3f5f\",\"gridcolor\":\"white\",\"linecolor\":\"white\",\"minorgridcolor\":\"white\",\"startlinecolor\":\"#2a3f5f\"},\"type\":\"carpet\"}],\"table\":[{\"cells\":{\"fill\":{\"color\":\"#EBF0F8\"},\"line\":{\"color\":\"white\"}},\"header\":{\"fill\":{\"color\":\"#C8D4E3\"},\"line\":{\"color\":\"white\"}},\"type\":\"table\"}],\"barpolar\":[{\"marker\":{\"line\":{\"color\":\"#E5ECF6\",\"width\":0.5},\"pattern\":{\"fillmode\":\"overlay\",\"size\":10,\"solidity\":0.2}},\"type\":\"barpolar\"}],\"pie\":[{\"automargin\":true,\"type\":\"pie\"}]},\"layout\":{\"autotypenumbers\":\"strict\",\"colorway\":[\"#636efa\",\"#EF553B\",\"#00cc96\",\"#ab63fa\",\"#FFA15A\",\"#19d3f3\",\"#FF6692\",\"#B6E880\",\"#FF97FF\",\"#FECB52\"],\"font\":{\"color\":\"#2a3f5f\"},\"hovermode\":\"closest\",\"hoverlabel\":{\"align\":\"left\"},\"paper_bgcolor\":\"white\",\"plot_bgcolor\":\"#E5ECF6\",\"polar\":{\"bgcolor\":\"#E5ECF6\",\"angularaxis\":{\"gridcolor\":\"white\",\"linecolor\":\"white\",\"ticks\":\"\"},\"radialaxis\":{\"gridcolor\":\"white\",\"linecolor\":\"white\",\"ticks\":\"\"}},\"ternary\":{\"bgcolor\":\"#E5ECF6\",\"aaxis\":{\"gridcolor\":\"white\",\"linecolor\":\"white\",\"ticks\":\"\"},\"baxis\":{\"gridcolor\":\"white\",\"linecolor\":\"white\",\"ticks\":\"\"},\"caxis\":{\"gridcolor\":\"white\",\"linecolor\":\"white\",\"ticks\":\"\"}},\"coloraxis\":{\"colorbar\":{\"outlinewidth\":0,\"ticks\":\"\"}},\"colorscale\":{\"sequential\":[[0.0,\"#0d0887\"],[0.1111111111111111,\"#46039f\"],[0.2222222222222222,\"#7201a8\"],[0.3333333333333333,\"#9c179e\"],[0.4444444444444444,\"#bd3786\"],[0.5555555555555556,\"#d8576b\"],[0.6666666666666666,\"#ed7953\"],[0.7777777777777778,\"#fb9f3a\"],[0.8888888888888888,\"#fdca26\"],[1.0,\"#f0f921\"]],\"sequentialminus\":[[0.0,\"#0d0887\"],[0.1111111111111111,\"#46039f\"],[0.2222222222222222,\"#7201a8\"],[0.3333333333333333,\"#9c179e\"],[0.4444444444444444,\"#bd3786\"],[0.5555555555555556,\"#d8576b\"],[0.6666666666666666,\"#ed7953\"],[0.7777777777777778,\"#fb9f3a\"],[0.8888888888888888,\"#fdca26\"],[1.0,\"#f0f921\"]],\"diverging\":[[0,\"#8e0152\"],[0.1,\"#c51b7d\"],[0.2,\"#de77ae\"],[0.3,\"#f1b6da\"],[0.4,\"#fde0ef\"],[0.5,\"#f7f7f7\"],[0.6,\"#e6f5d0\"],[0.7,\"#b8e186\"],[0.8,\"#7fbc41\"],[0.9,\"#4d9221\"],[1,\"#276419\"]]},\"xaxis\":{\"gridcolor\":\"white\",\"linecolor\":\"white\",\"ticks\":\"\",\"title\":{\"standoff\":15},\"zerolinecolor\":\"white\",\"automargin\":true,\"zerolinewidth\":2},\"yaxis\":{\"gridcolor\":\"white\",\"linecolor\":\"white\",\"ticks\":\"\",\"title\":{\"standoff\":15},\"zerolinecolor\":\"white\",\"automargin\":true,\"zerolinewidth\":2},\"scene\":{\"xaxis\":{\"backgroundcolor\":\"#E5ECF6\",\"gridcolor\":\"white\",\"linecolor\":\"white\",\"showbackground\":true,\"ticks\":\"\",\"zerolinecolor\":\"white\",\"gridwidth\":2},\"yaxis\":{\"backgroundcolor\":\"#E5ECF6\",\"gridcolor\":\"white\",\"linecolor\":\"white\",\"showbackground\":true,\"ticks\":\"\",\"zerolinecolor\":\"white\",\"gridwidth\":2},\"zaxis\":{\"backgroundcolor\":\"#E5ECF6\",\"gridcolor\":\"white\",\"linecolor\":\"white\",\"showbackground\":true,\"ticks\":\"\",\"zerolinecolor\":\"white\",\"gridwidth\":2}},\"shapedefaults\":{\"line\":{\"color\":\"#2a3f5f\"}},\"annotationdefaults\":{\"arrowcolor\":\"#2a3f5f\",\"arrowhead\":0,\"arrowwidth\":1},\"geo\":{\"bgcolor\":\"white\",\"landcolor\":\"#E5ECF6\",\"subunitcolor\":\"white\",\"showland\":true,\"showlakes\":true,\"lakecolor\":\"white\"},\"title\":{\"x\":0.05},\"mapbox\":{\"style\":\"light\"}}},\"polar\":{\"domain\":{\"x\":[0.0,0.45],\"y\":[0.0,1.0]}},\"polar2\":{\"domain\":{\"x\":[0.55,1.0],\"y\":[0.0,1.0]}},\"legend\":{\"font\":{\"size\":18},\"orientation\":\"h\",\"xanchor\":\"center\",\"yanchor\":\"top\",\"x\":0.5,\"y\":1.3,\"bgcolor\":\"Lightblue\",\"bordercolor\":\"Black\",\"borderwidth\":1.5}},                        {\"responsive\": true}                    ).then(function(){\n",
       "                            \n",
       "var gd = document.getElementById('c5afc7d0-42d1-44f6-baa1-b4fe1236fb2c');\n",
       "var x = new MutationObserver(function (mutations, observer) {{\n",
       "        var display = window.getComputedStyle(gd).display;\n",
       "        if (!display || display === 'none') {{\n",
       "            console.log([gd, 'removed!']);\n",
       "            Plotly.purge(gd);\n",
       "            observer.disconnect();\n",
       "        }}\n",
       "}});\n",
       "\n",
       "// Listen for the removal of the full notebook cells\n",
       "var notebookContainer = gd.closest('#notebook-container');\n",
       "if (notebookContainer) {{\n",
       "    x.observe(notebookContainer, {childList: true});\n",
       "}}\n",
       "\n",
       "// Listen for the clearing of the current output cell\n",
       "var outputEl = gd.closest('.output');\n",
       "if (outputEl) {{\n",
       "    x.observe(outputEl, {childList: true});\n",
       "}}\n",
       "\n",
       "                        })                };                });            </script>        </div>"
      ]
     },
     "metadata": {},
     "output_type": "display_data"
    }
   ],
   "source": [
    "fig = make_subplots(rows = 1, cols = 2, specs=[[{'type': 'polar'}]*2]*1)\n",
    "\n",
    "fig.add_trace(go.Barpolar(r = df.sort_values(by=\"Lectures\", ascending=False)[\"Lectures\"][0:15], \n",
    "                         theta = df.sort_values(by=\"Lectures\", ascending=False).Title[0:15], \n",
    "                         name = \"Lectures\"), 1, 1)\n",
    "\n",
    "fig.add_trace(go.Barpolar(r = df.sort_values(by=\"Num reviews\", ascending=False)[\"Num reviews\"][0:15], \n",
    "                             theta = df.sort_values(by=\"Num reviews\", ascending=False).Title[0:15], \n",
    "                         name = \"Num reviews\"), 1, 2)\n",
    "fig.update_layout(legend = dict(orientation = \"h\", xanchor = \"center\", yanchor = \"top\", \n",
    "                               x = 0.5, y = 1.3, font_size = 18, \n",
    "                               bgcolor = \"Lightblue\", bordercolor = \"Black\", borderwidth = 1.5))\n",
    "\n",
    "fig.show()"
   ]
  }
 ],
 "metadata": {
  "kernelspec": {
   "display_name": "Python 3 (ipykernel)",
   "language": "python",
   "name": "python3"
  },
  "language_info": {
   "codemirror_mode": {
    "name": "ipython",
    "version": 3
   },
   "file_extension": ".py",
   "mimetype": "text/x-python",
   "name": "python",
   "nbconvert_exporter": "python",
   "pygments_lexer": "ipython3",
   "version": "3.9.7"
  }
 },
 "nbformat": 4,
 "nbformat_minor": 5
}
